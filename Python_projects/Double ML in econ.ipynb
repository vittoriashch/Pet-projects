{
  "cells": [
    {
      "cell_type": "code",
      "execution_count": null,
      "metadata": {
        "id": "IY6efLxkh5WY"
      },
      "outputs": [],
      "source": [
        "import numpy as np\n",
        "import pandas as pd\n",
        "import scipy as scipy\n",
        "from copy import deepcopy\n",
        "import math\n",
        "from scipy.stats import multivariate_normal\n",
        "import matplotlib.pyplot as plt\n",
        "from scipy.stats import t, chi2, f, norm, poisson, binom, uniform, expon, logistic\n",
        "import seaborn as sns\n",
        "import networkx as nx\n",
        "import scipy.stats as stats"
      ]
    },
    {
      "cell_type": "markdown",
      "metadata": {
        "id": "GdQ_XWT7lvZv"
      },
      "source": [
        "**Целевая переменная** - налоговые поступления правительства $\\text{Taxes}_{i}$.\n",
        "\n",
        "**Переменная воздействия** - уровень налоговой ставки $\\text{Rate}_{i}$ (1 - высокая, 0 - низкая).\n",
        "\n",
        "**Инструментальная переменная** - уровень неравенства в стране $\\text{Inequality}_{i}$ (1 - высокое, 0 - низкое).\n",
        "\n",
        "**Контрольные переменные**:\n",
        "\n",
        "*   $\\text{Deficit}_{i}$ - дефицит государственного бюджета в % от ВВП.\n",
        "*   $\\text{Progressive}_{i}$ - наличие прогрессивной шкалы налогообложения (1 - есть, 0 - нет).\n",
        "*   $\\text{Grey}_{i}$ - уровень теневой экономики в структуре экономики в %.\n",
        "\n",
        "**Ненаблюдаемые переменные, порождающие эндогенность**:\n",
        "\n",
        "*  $\\text{Culture}_{i}$ - фискальная культура, склонность к уклонению от налогов."
      ]
    },
    {
      "cell_type": "markdown",
      "metadata": {
        "id": "bsBNuVmdl4M-"
      },
      "source": [
        "## Генерация контрольных переменных"
      ]
    },
    {
      "cell_type": "code",
      "execution_count": null,
      "metadata": {
        "id": "UoCalWcGlxGA"
      },
      "outputs": [],
      "source": [
        "np.random.seed(42)"
      ]
    },
    {
      "cell_type": "code",
      "execution_count": null,
      "metadata": {
        "id": "CxS2Z4RSl6WK"
      },
      "outputs": [],
      "source": [
        "n = 100000"
      ]
    },
    {
      "cell_type": "code",
      "execution_count": null,
      "metadata": {
        "id": "Yyh41EVgmicC"
      },
      "outputs": [],
      "source": [
        "#распределение дефицита государственного бюджета будет распределено согласно эмпирическим наблюдениям с сайта ОЭСР"
      ]
    },
    {
      "cell_type": "code",
      "execution_count": null,
      "metadata": {
        "id": "kv71tolCne00",
        "colab": {
          "base_uri": "https://localhost:8080/",
          "height": 350
        },
        "outputId": "60b67524-0af5-42fe-c10e-9acc3b416b2d"
      },
      "outputs": [
        {
          "output_type": "error",
          "ename": "FileNotFoundError",
          "evalue": "[Errno 2] No such file or directory: 'oecd.xsls.xlsx'",
          "traceback": [
            "\u001b[0;31m---------------------------------------------------------------------------\u001b[0m",
            "\u001b[0;31mFileNotFoundError\u001b[0m                         Traceback (most recent call last)",
            "\u001b[0;32m<ipython-input-7-dcb3c7bae2cb>\u001b[0m in \u001b[0;36m<cell line: 0>\u001b[0;34m()\u001b[0m\n\u001b[0;32m----> 1\u001b[0;31m \u001b[0mdf\u001b[0m \u001b[0;34m=\u001b[0m \u001b[0mpd\u001b[0m\u001b[0;34m.\u001b[0m\u001b[0mread_excel\u001b[0m\u001b[0;34m(\u001b[0m\u001b[0;34m'oecd.xsls.xlsx'\u001b[0m\u001b[0;34m)\u001b[0m\u001b[0;34m\u001b[0m\u001b[0;34m\u001b[0m\u001b[0m\n\u001b[0m\u001b[1;32m      2\u001b[0m \u001b[0mdf\u001b[0m \u001b[0;34m=\u001b[0m \u001b[0mdf\u001b[0m\u001b[0;34m.\u001b[0m\u001b[0mdrop\u001b[0m\u001b[0;34m(\u001b[0m\u001b[0mindex\u001b[0m\u001b[0;34m=\u001b[0m\u001b[0;34m[\u001b[0m\u001b[0;36m0\u001b[0m\u001b[0;34m,\u001b[0m \u001b[0;36m1\u001b[0m\u001b[0;34m,\u001b[0m \u001b[0;36m2\u001b[0m\u001b[0;34m]\u001b[0m\u001b[0;34m)\u001b[0m\u001b[0;34m.\u001b[0m\u001b[0mreset_index\u001b[0m\u001b[0;34m(\u001b[0m\u001b[0mdrop\u001b[0m\u001b[0;34m=\u001b[0m\u001b[0;32mTrue\u001b[0m\u001b[0;34m)\u001b[0m\u001b[0;34m\u001b[0m\u001b[0;34m\u001b[0m\u001b[0m\n\u001b[1;32m      3\u001b[0m \u001b[0mdf\u001b[0m\u001b[0;34m.\u001b[0m\u001b[0mrename\u001b[0m\u001b[0;34m(\u001b[0m\u001b[0mcolumns\u001b[0m\u001b[0;34m=\u001b[0m\u001b[0;34m{\u001b[0m\u001b[0;34m'Unnamed: 1'\u001b[0m\u001b[0;34m:\u001b[0m \u001b[0;34m'percentage'\u001b[0m\u001b[0;34m}\u001b[0m\u001b[0;34m,\u001b[0m \u001b[0minplace\u001b[0m\u001b[0;34m=\u001b[0m\u001b[0;32mTrue\u001b[0m\u001b[0;34m)\u001b[0m\u001b[0;34m\u001b[0m\u001b[0;34m\u001b[0m\u001b[0m\n\u001b[1;32m      4\u001b[0m \u001b[0mdf\u001b[0m\u001b[0;34m.\u001b[0m\u001b[0mrename\u001b[0m\u001b[0;34m(\u001b[0m\u001b[0mcolumns\u001b[0m\u001b[0;34m=\u001b[0m\u001b[0;34m{\u001b[0m\u001b[0;34m'export-2025-02-24T15_40_02.795Z'\u001b[0m\u001b[0;34m:\u001b[0m \u001b[0;34m'country'\u001b[0m\u001b[0;34m}\u001b[0m\u001b[0;34m,\u001b[0m \u001b[0minplace\u001b[0m\u001b[0;34m=\u001b[0m\u001b[0;32mTrue\u001b[0m\u001b[0;34m)\u001b[0m\u001b[0;34m\u001b[0m\u001b[0;34m\u001b[0m\u001b[0m\n",
            "\u001b[0;32m/usr/local/lib/python3.11/dist-packages/pandas/io/excel/_base.py\u001b[0m in \u001b[0;36mread_excel\u001b[0;34m(io, sheet_name, header, names, index_col, usecols, dtype, engine, converters, true_values, false_values, skiprows, nrows, na_values, keep_default_na, na_filter, verbose, parse_dates, date_parser, date_format, thousands, decimal, comment, skipfooter, storage_options, dtype_backend, engine_kwargs)\u001b[0m\n\u001b[1;32m    493\u001b[0m     \u001b[0;32mif\u001b[0m \u001b[0;32mnot\u001b[0m \u001b[0misinstance\u001b[0m\u001b[0;34m(\u001b[0m\u001b[0mio\u001b[0m\u001b[0;34m,\u001b[0m \u001b[0mExcelFile\u001b[0m\u001b[0;34m)\u001b[0m\u001b[0;34m:\u001b[0m\u001b[0;34m\u001b[0m\u001b[0;34m\u001b[0m\u001b[0m\n\u001b[1;32m    494\u001b[0m         \u001b[0mshould_close\u001b[0m \u001b[0;34m=\u001b[0m \u001b[0;32mTrue\u001b[0m\u001b[0;34m\u001b[0m\u001b[0;34m\u001b[0m\u001b[0m\n\u001b[0;32m--> 495\u001b[0;31m         io = ExcelFile(\n\u001b[0m\u001b[1;32m    496\u001b[0m             \u001b[0mio\u001b[0m\u001b[0;34m,\u001b[0m\u001b[0;34m\u001b[0m\u001b[0;34m\u001b[0m\u001b[0m\n\u001b[1;32m    497\u001b[0m             \u001b[0mstorage_options\u001b[0m\u001b[0;34m=\u001b[0m\u001b[0mstorage_options\u001b[0m\u001b[0;34m,\u001b[0m\u001b[0;34m\u001b[0m\u001b[0;34m\u001b[0m\u001b[0m\n",
            "\u001b[0;32m/usr/local/lib/python3.11/dist-packages/pandas/io/excel/_base.py\u001b[0m in \u001b[0;36m__init__\u001b[0;34m(self, path_or_buffer, engine, storage_options, engine_kwargs)\u001b[0m\n\u001b[1;32m   1548\u001b[0m                 \u001b[0mext\u001b[0m \u001b[0;34m=\u001b[0m \u001b[0;34m\"xls\"\u001b[0m\u001b[0;34m\u001b[0m\u001b[0;34m\u001b[0m\u001b[0m\n\u001b[1;32m   1549\u001b[0m             \u001b[0;32melse\u001b[0m\u001b[0;34m:\u001b[0m\u001b[0;34m\u001b[0m\u001b[0;34m\u001b[0m\u001b[0m\n\u001b[0;32m-> 1550\u001b[0;31m                 ext = inspect_excel_format(\n\u001b[0m\u001b[1;32m   1551\u001b[0m                     \u001b[0mcontent_or_path\u001b[0m\u001b[0;34m=\u001b[0m\u001b[0mpath_or_buffer\u001b[0m\u001b[0;34m,\u001b[0m \u001b[0mstorage_options\u001b[0m\u001b[0;34m=\u001b[0m\u001b[0mstorage_options\u001b[0m\u001b[0;34m\u001b[0m\u001b[0;34m\u001b[0m\u001b[0m\n\u001b[1;32m   1552\u001b[0m                 )\n",
            "\u001b[0;32m/usr/local/lib/python3.11/dist-packages/pandas/io/excel/_base.py\u001b[0m in \u001b[0;36minspect_excel_format\u001b[0;34m(content_or_path, storage_options)\u001b[0m\n\u001b[1;32m   1400\u001b[0m         \u001b[0mcontent_or_path\u001b[0m \u001b[0;34m=\u001b[0m \u001b[0mBytesIO\u001b[0m\u001b[0;34m(\u001b[0m\u001b[0mcontent_or_path\u001b[0m\u001b[0;34m)\u001b[0m\u001b[0;34m\u001b[0m\u001b[0;34m\u001b[0m\u001b[0m\n\u001b[1;32m   1401\u001b[0m \u001b[0;34m\u001b[0m\u001b[0m\n\u001b[0;32m-> 1402\u001b[0;31m     with get_handle(\n\u001b[0m\u001b[1;32m   1403\u001b[0m         \u001b[0mcontent_or_path\u001b[0m\u001b[0;34m,\u001b[0m \u001b[0;34m\"rb\"\u001b[0m\u001b[0;34m,\u001b[0m \u001b[0mstorage_options\u001b[0m\u001b[0;34m=\u001b[0m\u001b[0mstorage_options\u001b[0m\u001b[0;34m,\u001b[0m \u001b[0mis_text\u001b[0m\u001b[0;34m=\u001b[0m\u001b[0;32mFalse\u001b[0m\u001b[0;34m\u001b[0m\u001b[0;34m\u001b[0m\u001b[0m\n\u001b[1;32m   1404\u001b[0m     ) as handle:\n",
            "\u001b[0;32m/usr/local/lib/python3.11/dist-packages/pandas/io/common.py\u001b[0m in \u001b[0;36mget_handle\u001b[0;34m(path_or_buf, mode, encoding, compression, memory_map, is_text, errors, storage_options)\u001b[0m\n\u001b[1;32m    880\u001b[0m         \u001b[0;32melse\u001b[0m\u001b[0;34m:\u001b[0m\u001b[0;34m\u001b[0m\u001b[0;34m\u001b[0m\u001b[0m\n\u001b[1;32m    881\u001b[0m             \u001b[0;31m# Binary mode\u001b[0m\u001b[0;34m\u001b[0m\u001b[0;34m\u001b[0m\u001b[0m\n\u001b[0;32m--> 882\u001b[0;31m             \u001b[0mhandle\u001b[0m \u001b[0;34m=\u001b[0m \u001b[0mopen\u001b[0m\u001b[0;34m(\u001b[0m\u001b[0mhandle\u001b[0m\u001b[0;34m,\u001b[0m \u001b[0mioargs\u001b[0m\u001b[0;34m.\u001b[0m\u001b[0mmode\u001b[0m\u001b[0;34m)\u001b[0m\u001b[0;34m\u001b[0m\u001b[0;34m\u001b[0m\u001b[0m\n\u001b[0m\u001b[1;32m    883\u001b[0m         \u001b[0mhandles\u001b[0m\u001b[0;34m.\u001b[0m\u001b[0mappend\u001b[0m\u001b[0;34m(\u001b[0m\u001b[0mhandle\u001b[0m\u001b[0;34m)\u001b[0m\u001b[0;34m\u001b[0m\u001b[0;34m\u001b[0m\u001b[0m\n\u001b[1;32m    884\u001b[0m \u001b[0;34m\u001b[0m\u001b[0m\n",
            "\u001b[0;31mFileNotFoundError\u001b[0m: [Errno 2] No such file or directory: 'oecd.xsls.xlsx'"
          ]
        }
      ],
      "source": [
        "df = pd.read_excel('oecd.xsls.xlsx')\n",
        "df = df.drop(index=[0, 1, 2]).reset_index(drop=True)\n",
        "df.rename(columns={'Unnamed: 1': 'percentage'}, inplace=True)\n",
        "df.rename(columns={'export-2025-02-24T15_40_02.795Z': 'country'}, inplace=True)"
      ]
    },
    {
      "cell_type": "code",
      "execution_count": null,
      "metadata": {
        "colab": {
          "base_uri": "https://localhost:8080/",
          "height": 1000
        },
        "id": "CVN_CNCooTTv",
        "outputId": "f171f906-c7e9-40b8-d08d-66f98b89cd26"
      },
      "outputs": [
        {
          "output_type": "execute_result",
          "data": {
            "text/plain": [
              "           country          percentage\n",
              "0           Norway    25.6486732221597\n",
              "1          Denmark    3.44364102208029\n",
              "2          Ireland     1.6501664110705\n",
              "3      Switzerland    1.26682613130969\n",
              "4            Chile    1.05504972262973\n",
              "5           Sweden    1.00838656955393\n",
              "6           Canada   0.555641297256343\n",
              "7       Costa Rica   0.362242510385133\n",
              "8           Israel   0.319256746382347\n",
              "9       Luxembourg   0.192366727289143\n",
              "10     Netherlands   0.011571511943813\n",
              "11           Korea  -0.008047228192496\n",
              "12         Finland  -0.179232344486821\n",
              "13        Portugal  -0.310423451364093\n",
              "14       Lithuania  -0.706540244889533\n",
              "15         Estonia   -1.07428611943878\n",
              "16       Australia   -1.13588519318111\n",
              "17     New Zealand   -1.64207872969095\n",
              "18     Slovak Rep.   -1.66929232533293\n",
              "19         Germany   -2.14664188069856\n",
              "20          Greece   -2.45556759109042\n",
              "21        Slovenia   -3.01348984000012\n",
              "22         Czechia    -3.0687791210961\n",
              "23         Austria   -3.30668835064035\n",
              "24          Poland   -3.43447764322686\n",
              "25         Belgium   -3.61281718042757\n",
              "26   United States   -3.66871925070019\n",
              "27         Iceland   -3.98302199163568\n",
              "28           Japan   -4.20819759288928\n",
              "29  United Kingdom   -4.55144575661764\n",
              "30          Mexico   -4.56394976811325\n",
              "31           Spain   -4.59403521620467\n",
              "32          France   -4.73645937482936\n",
              "33          Latvia   -4.85723661891749\n",
              "34        Colombia   -4.98989312085868\n",
              "35         Hungary   -6.19574713323963\n",
              "36           Italy   -8.09066390713645"
            ],
            "text/html": [
              "\n",
              "  <div id=\"df-f2dba317-d2ba-48be-bbea-e55834624788\" class=\"colab-df-container\">\n",
              "    <div>\n",
              "<style scoped>\n",
              "    .dataframe tbody tr th:only-of-type {\n",
              "        vertical-align: middle;\n",
              "    }\n",
              "\n",
              "    .dataframe tbody tr th {\n",
              "        vertical-align: top;\n",
              "    }\n",
              "\n",
              "    .dataframe thead th {\n",
              "        text-align: right;\n",
              "    }\n",
              "</style>\n",
              "<table border=\"1\" class=\"dataframe\">\n",
              "  <thead>\n",
              "    <tr style=\"text-align: right;\">\n",
              "      <th></th>\n",
              "      <th>country</th>\n",
              "      <th>percentage</th>\n",
              "    </tr>\n",
              "  </thead>\n",
              "  <tbody>\n",
              "    <tr>\n",
              "      <th>0</th>\n",
              "      <td>Norway</td>\n",
              "      <td>25.6486732221597</td>\n",
              "    </tr>\n",
              "    <tr>\n",
              "      <th>1</th>\n",
              "      <td>Denmark</td>\n",
              "      <td>3.44364102208029</td>\n",
              "    </tr>\n",
              "    <tr>\n",
              "      <th>2</th>\n",
              "      <td>Ireland</td>\n",
              "      <td>1.6501664110705</td>\n",
              "    </tr>\n",
              "    <tr>\n",
              "      <th>3</th>\n",
              "      <td>Switzerland</td>\n",
              "      <td>1.26682613130969</td>\n",
              "    </tr>\n",
              "    <tr>\n",
              "      <th>4</th>\n",
              "      <td>Chile</td>\n",
              "      <td>1.05504972262973</td>\n",
              "    </tr>\n",
              "    <tr>\n",
              "      <th>5</th>\n",
              "      <td>Sweden</td>\n",
              "      <td>1.00838656955393</td>\n",
              "    </tr>\n",
              "    <tr>\n",
              "      <th>6</th>\n",
              "      <td>Canada</td>\n",
              "      <td>0.555641297256343</td>\n",
              "    </tr>\n",
              "    <tr>\n",
              "      <th>7</th>\n",
              "      <td>Costa Rica</td>\n",
              "      <td>0.362242510385133</td>\n",
              "    </tr>\n",
              "    <tr>\n",
              "      <th>8</th>\n",
              "      <td>Israel</td>\n",
              "      <td>0.319256746382347</td>\n",
              "    </tr>\n",
              "    <tr>\n",
              "      <th>9</th>\n",
              "      <td>Luxembourg</td>\n",
              "      <td>0.192366727289143</td>\n",
              "    </tr>\n",
              "    <tr>\n",
              "      <th>10</th>\n",
              "      <td>Netherlands</td>\n",
              "      <td>0.011571511943813</td>\n",
              "    </tr>\n",
              "    <tr>\n",
              "      <th>11</th>\n",
              "      <td>Korea</td>\n",
              "      <td>-0.008047228192496</td>\n",
              "    </tr>\n",
              "    <tr>\n",
              "      <th>12</th>\n",
              "      <td>Finland</td>\n",
              "      <td>-0.179232344486821</td>\n",
              "    </tr>\n",
              "    <tr>\n",
              "      <th>13</th>\n",
              "      <td>Portugal</td>\n",
              "      <td>-0.310423451364093</td>\n",
              "    </tr>\n",
              "    <tr>\n",
              "      <th>14</th>\n",
              "      <td>Lithuania</td>\n",
              "      <td>-0.706540244889533</td>\n",
              "    </tr>\n",
              "    <tr>\n",
              "      <th>15</th>\n",
              "      <td>Estonia</td>\n",
              "      <td>-1.07428611943878</td>\n",
              "    </tr>\n",
              "    <tr>\n",
              "      <th>16</th>\n",
              "      <td>Australia</td>\n",
              "      <td>-1.13588519318111</td>\n",
              "    </tr>\n",
              "    <tr>\n",
              "      <th>17</th>\n",
              "      <td>New Zealand</td>\n",
              "      <td>-1.64207872969095</td>\n",
              "    </tr>\n",
              "    <tr>\n",
              "      <th>18</th>\n",
              "      <td>Slovak Rep.</td>\n",
              "      <td>-1.66929232533293</td>\n",
              "    </tr>\n",
              "    <tr>\n",
              "      <th>19</th>\n",
              "      <td>Germany</td>\n",
              "      <td>-2.14664188069856</td>\n",
              "    </tr>\n",
              "    <tr>\n",
              "      <th>20</th>\n",
              "      <td>Greece</td>\n",
              "      <td>-2.45556759109042</td>\n",
              "    </tr>\n",
              "    <tr>\n",
              "      <th>21</th>\n",
              "      <td>Slovenia</td>\n",
              "      <td>-3.01348984000012</td>\n",
              "    </tr>\n",
              "    <tr>\n",
              "      <th>22</th>\n",
              "      <td>Czechia</td>\n",
              "      <td>-3.0687791210961</td>\n",
              "    </tr>\n",
              "    <tr>\n",
              "      <th>23</th>\n",
              "      <td>Austria</td>\n",
              "      <td>-3.30668835064035</td>\n",
              "    </tr>\n",
              "    <tr>\n",
              "      <th>24</th>\n",
              "      <td>Poland</td>\n",
              "      <td>-3.43447764322686</td>\n",
              "    </tr>\n",
              "    <tr>\n",
              "      <th>25</th>\n",
              "      <td>Belgium</td>\n",
              "      <td>-3.61281718042757</td>\n",
              "    </tr>\n",
              "    <tr>\n",
              "      <th>26</th>\n",
              "      <td>United States</td>\n",
              "      <td>-3.66871925070019</td>\n",
              "    </tr>\n",
              "    <tr>\n",
              "      <th>27</th>\n",
              "      <td>Iceland</td>\n",
              "      <td>-3.98302199163568</td>\n",
              "    </tr>\n",
              "    <tr>\n",
              "      <th>28</th>\n",
              "      <td>Japan</td>\n",
              "      <td>-4.20819759288928</td>\n",
              "    </tr>\n",
              "    <tr>\n",
              "      <th>29</th>\n",
              "      <td>United Kingdom</td>\n",
              "      <td>-4.55144575661764</td>\n",
              "    </tr>\n",
              "    <tr>\n",
              "      <th>30</th>\n",
              "      <td>Mexico</td>\n",
              "      <td>-4.56394976811325</td>\n",
              "    </tr>\n",
              "    <tr>\n",
              "      <th>31</th>\n",
              "      <td>Spain</td>\n",
              "      <td>-4.59403521620467</td>\n",
              "    </tr>\n",
              "    <tr>\n",
              "      <th>32</th>\n",
              "      <td>France</td>\n",
              "      <td>-4.73645937482936</td>\n",
              "    </tr>\n",
              "    <tr>\n",
              "      <th>33</th>\n",
              "      <td>Latvia</td>\n",
              "      <td>-4.85723661891749</td>\n",
              "    </tr>\n",
              "    <tr>\n",
              "      <th>34</th>\n",
              "      <td>Colombia</td>\n",
              "      <td>-4.98989312085868</td>\n",
              "    </tr>\n",
              "    <tr>\n",
              "      <th>35</th>\n",
              "      <td>Hungary</td>\n",
              "      <td>-6.19574713323963</td>\n",
              "    </tr>\n",
              "    <tr>\n",
              "      <th>36</th>\n",
              "      <td>Italy</td>\n",
              "      <td>-8.09066390713645</td>\n",
              "    </tr>\n",
              "  </tbody>\n",
              "</table>\n",
              "</div>\n",
              "    <div class=\"colab-df-buttons\">\n",
              "\n",
              "  <div class=\"colab-df-container\">\n",
              "    <button class=\"colab-df-convert\" onclick=\"convertToInteractive('df-f2dba317-d2ba-48be-bbea-e55834624788')\"\n",
              "            title=\"Convert this dataframe to an interactive table.\"\n",
              "            style=\"display:none;\">\n",
              "\n",
              "  <svg xmlns=\"http://www.w3.org/2000/svg\" height=\"24px\" viewBox=\"0 -960 960 960\">\n",
              "    <path d=\"M120-120v-720h720v720H120Zm60-500h600v-160H180v160Zm220 220h160v-160H400v160Zm0 220h160v-160H400v160ZM180-400h160v-160H180v160Zm440 0h160v-160H620v160ZM180-180h160v-160H180v160Zm440 0h160v-160H620v160Z\"/>\n",
              "  </svg>\n",
              "    </button>\n",
              "\n",
              "  <style>\n",
              "    .colab-df-container {\n",
              "      display:flex;\n",
              "      gap: 12px;\n",
              "    }\n",
              "\n",
              "    .colab-df-convert {\n",
              "      background-color: #E8F0FE;\n",
              "      border: none;\n",
              "      border-radius: 50%;\n",
              "      cursor: pointer;\n",
              "      display: none;\n",
              "      fill: #1967D2;\n",
              "      height: 32px;\n",
              "      padding: 0 0 0 0;\n",
              "      width: 32px;\n",
              "    }\n",
              "\n",
              "    .colab-df-convert:hover {\n",
              "      background-color: #E2EBFA;\n",
              "      box-shadow: 0px 1px 2px rgba(60, 64, 67, 0.3), 0px 1px 3px 1px rgba(60, 64, 67, 0.15);\n",
              "      fill: #174EA6;\n",
              "    }\n",
              "\n",
              "    .colab-df-buttons div {\n",
              "      margin-bottom: 4px;\n",
              "    }\n",
              "\n",
              "    [theme=dark] .colab-df-convert {\n",
              "      background-color: #3B4455;\n",
              "      fill: #D2E3FC;\n",
              "    }\n",
              "\n",
              "    [theme=dark] .colab-df-convert:hover {\n",
              "      background-color: #434B5C;\n",
              "      box-shadow: 0px 1px 3px 1px rgba(0, 0, 0, 0.15);\n",
              "      filter: drop-shadow(0px 1px 2px rgba(0, 0, 0, 0.3));\n",
              "      fill: #FFFFFF;\n",
              "    }\n",
              "  </style>\n",
              "\n",
              "    <script>\n",
              "      const buttonEl =\n",
              "        document.querySelector('#df-f2dba317-d2ba-48be-bbea-e55834624788 button.colab-df-convert');\n",
              "      buttonEl.style.display =\n",
              "        google.colab.kernel.accessAllowed ? 'block' : 'none';\n",
              "\n",
              "      async function convertToInteractive(key) {\n",
              "        const element = document.querySelector('#df-f2dba317-d2ba-48be-bbea-e55834624788');\n",
              "        const dataTable =\n",
              "          await google.colab.kernel.invokeFunction('convertToInteractive',\n",
              "                                                    [key], {});\n",
              "        if (!dataTable) return;\n",
              "\n",
              "        const docLinkHtml = 'Like what you see? Visit the ' +\n",
              "          '<a target=\"_blank\" href=https://colab.research.google.com/notebooks/data_table.ipynb>data table notebook</a>'\n",
              "          + ' to learn more about interactive tables.';\n",
              "        element.innerHTML = '';\n",
              "        dataTable['output_type'] = 'display_data';\n",
              "        await google.colab.output.renderOutput(dataTable, element);\n",
              "        const docLink = document.createElement('div');\n",
              "        docLink.innerHTML = docLinkHtml;\n",
              "        element.appendChild(docLink);\n",
              "      }\n",
              "    </script>\n",
              "  </div>\n",
              "\n",
              "\n",
              "<div id=\"df-2dbab1c6-3e14-4473-8ed7-2f884a28952c\">\n",
              "  <button class=\"colab-df-quickchart\" onclick=\"quickchart('df-2dbab1c6-3e14-4473-8ed7-2f884a28952c')\"\n",
              "            title=\"Suggest charts\"\n",
              "            style=\"display:none;\">\n",
              "\n",
              "<svg xmlns=\"http://www.w3.org/2000/svg\" height=\"24px\"viewBox=\"0 0 24 24\"\n",
              "     width=\"24px\">\n",
              "    <g>\n",
              "        <path d=\"M19 3H5c-1.1 0-2 .9-2 2v14c0 1.1.9 2 2 2h14c1.1 0 2-.9 2-2V5c0-1.1-.9-2-2-2zM9 17H7v-7h2v7zm4 0h-2V7h2v10zm4 0h-2v-4h2v4z\"/>\n",
              "    </g>\n",
              "</svg>\n",
              "  </button>\n",
              "\n",
              "<style>\n",
              "  .colab-df-quickchart {\n",
              "      --bg-color: #E8F0FE;\n",
              "      --fill-color: #1967D2;\n",
              "      --hover-bg-color: #E2EBFA;\n",
              "      --hover-fill-color: #174EA6;\n",
              "      --disabled-fill-color: #AAA;\n",
              "      --disabled-bg-color: #DDD;\n",
              "  }\n",
              "\n",
              "  [theme=dark] .colab-df-quickchart {\n",
              "      --bg-color: #3B4455;\n",
              "      --fill-color: #D2E3FC;\n",
              "      --hover-bg-color: #434B5C;\n",
              "      --hover-fill-color: #FFFFFF;\n",
              "      --disabled-bg-color: #3B4455;\n",
              "      --disabled-fill-color: #666;\n",
              "  }\n",
              "\n",
              "  .colab-df-quickchart {\n",
              "    background-color: var(--bg-color);\n",
              "    border: none;\n",
              "    border-radius: 50%;\n",
              "    cursor: pointer;\n",
              "    display: none;\n",
              "    fill: var(--fill-color);\n",
              "    height: 32px;\n",
              "    padding: 0;\n",
              "    width: 32px;\n",
              "  }\n",
              "\n",
              "  .colab-df-quickchart:hover {\n",
              "    background-color: var(--hover-bg-color);\n",
              "    box-shadow: 0 1px 2px rgba(60, 64, 67, 0.3), 0 1px 3px 1px rgba(60, 64, 67, 0.15);\n",
              "    fill: var(--button-hover-fill-color);\n",
              "  }\n",
              "\n",
              "  .colab-df-quickchart-complete:disabled,\n",
              "  .colab-df-quickchart-complete:disabled:hover {\n",
              "    background-color: var(--disabled-bg-color);\n",
              "    fill: var(--disabled-fill-color);\n",
              "    box-shadow: none;\n",
              "  }\n",
              "\n",
              "  .colab-df-spinner {\n",
              "    border: 2px solid var(--fill-color);\n",
              "    border-color: transparent;\n",
              "    border-bottom-color: var(--fill-color);\n",
              "    animation:\n",
              "      spin 1s steps(1) infinite;\n",
              "  }\n",
              "\n",
              "  @keyframes spin {\n",
              "    0% {\n",
              "      border-color: transparent;\n",
              "      border-bottom-color: var(--fill-color);\n",
              "      border-left-color: var(--fill-color);\n",
              "    }\n",
              "    20% {\n",
              "      border-color: transparent;\n",
              "      border-left-color: var(--fill-color);\n",
              "      border-top-color: var(--fill-color);\n",
              "    }\n",
              "    30% {\n",
              "      border-color: transparent;\n",
              "      border-left-color: var(--fill-color);\n",
              "      border-top-color: var(--fill-color);\n",
              "      border-right-color: var(--fill-color);\n",
              "    }\n",
              "    40% {\n",
              "      border-color: transparent;\n",
              "      border-right-color: var(--fill-color);\n",
              "      border-top-color: var(--fill-color);\n",
              "    }\n",
              "    60% {\n",
              "      border-color: transparent;\n",
              "      border-right-color: var(--fill-color);\n",
              "    }\n",
              "    80% {\n",
              "      border-color: transparent;\n",
              "      border-right-color: var(--fill-color);\n",
              "      border-bottom-color: var(--fill-color);\n",
              "    }\n",
              "    90% {\n",
              "      border-color: transparent;\n",
              "      border-bottom-color: var(--fill-color);\n",
              "    }\n",
              "  }\n",
              "</style>\n",
              "\n",
              "  <script>\n",
              "    async function quickchart(key) {\n",
              "      const quickchartButtonEl =\n",
              "        document.querySelector('#' + key + ' button');\n",
              "      quickchartButtonEl.disabled = true;  // To prevent multiple clicks.\n",
              "      quickchartButtonEl.classList.add('colab-df-spinner');\n",
              "      try {\n",
              "        const charts = await google.colab.kernel.invokeFunction(\n",
              "            'suggestCharts', [key], {});\n",
              "      } catch (error) {\n",
              "        console.error('Error during call to suggestCharts:', error);\n",
              "      }\n",
              "      quickchartButtonEl.classList.remove('colab-df-spinner');\n",
              "      quickchartButtonEl.classList.add('colab-df-quickchart-complete');\n",
              "    }\n",
              "    (() => {\n",
              "      let quickchartButtonEl =\n",
              "        document.querySelector('#df-2dbab1c6-3e14-4473-8ed7-2f884a28952c button');\n",
              "      quickchartButtonEl.style.display =\n",
              "        google.colab.kernel.accessAllowed ? 'block' : 'none';\n",
              "    })();\n",
              "  </script>\n",
              "</div>\n",
              "\n",
              "  <div id=\"id_ffd20e37-7242-4b4b-8f49-4001d0130de1\">\n",
              "    <style>\n",
              "      .colab-df-generate {\n",
              "        background-color: #E8F0FE;\n",
              "        border: none;\n",
              "        border-radius: 50%;\n",
              "        cursor: pointer;\n",
              "        display: none;\n",
              "        fill: #1967D2;\n",
              "        height: 32px;\n",
              "        padding: 0 0 0 0;\n",
              "        width: 32px;\n",
              "      }\n",
              "\n",
              "      .colab-df-generate:hover {\n",
              "        background-color: #E2EBFA;\n",
              "        box-shadow: 0px 1px 2px rgba(60, 64, 67, 0.3), 0px 1px 3px 1px rgba(60, 64, 67, 0.15);\n",
              "        fill: #174EA6;\n",
              "      }\n",
              "\n",
              "      [theme=dark] .colab-df-generate {\n",
              "        background-color: #3B4455;\n",
              "        fill: #D2E3FC;\n",
              "      }\n",
              "\n",
              "      [theme=dark] .colab-df-generate:hover {\n",
              "        background-color: #434B5C;\n",
              "        box-shadow: 0px 1px 3px 1px rgba(0, 0, 0, 0.15);\n",
              "        filter: drop-shadow(0px 1px 2px rgba(0, 0, 0, 0.3));\n",
              "        fill: #FFFFFF;\n",
              "      }\n",
              "    </style>\n",
              "    <button class=\"colab-df-generate\" onclick=\"generateWithVariable('df')\"\n",
              "            title=\"Generate code using this dataframe.\"\n",
              "            style=\"display:none;\">\n",
              "\n",
              "  <svg xmlns=\"http://www.w3.org/2000/svg\" height=\"24px\"viewBox=\"0 0 24 24\"\n",
              "       width=\"24px\">\n",
              "    <path d=\"M7,19H8.4L18.45,9,17,7.55,7,17.6ZM5,21V16.75L18.45,3.32a2,2,0,0,1,2.83,0l1.4,1.43a1.91,1.91,0,0,1,.58,1.4,1.91,1.91,0,0,1-.58,1.4L9.25,21ZM18.45,9,17,7.55Zm-12,3A5.31,5.31,0,0,0,4.9,8.1,5.31,5.31,0,0,0,1,6.5,5.31,5.31,0,0,0,4.9,4.9,5.31,5.31,0,0,0,6.5,1,5.31,5.31,0,0,0,8.1,4.9,5.31,5.31,0,0,0,12,6.5,5.46,5.46,0,0,0,6.5,12Z\"/>\n",
              "  </svg>\n",
              "    </button>\n",
              "    <script>\n",
              "      (() => {\n",
              "      const buttonEl =\n",
              "        document.querySelector('#id_ffd20e37-7242-4b4b-8f49-4001d0130de1 button.colab-df-generate');\n",
              "      buttonEl.style.display =\n",
              "        google.colab.kernel.accessAllowed ? 'block' : 'none';\n",
              "\n",
              "      buttonEl.onclick = () => {\n",
              "        google.colab.notebook.generateWithVariable('df');\n",
              "      }\n",
              "      })();\n",
              "    </script>\n",
              "  </div>\n",
              "\n",
              "    </div>\n",
              "  </div>\n"
            ],
            "application/vnd.google.colaboratory.intrinsic+json": {
              "type": "dataframe",
              "variable_name": "df",
              "summary": "{\n  \"name\": \"df\",\n  \"rows\": 37,\n  \"fields\": [\n    {\n      \"column\": \"country\",\n      \"properties\": {\n        \"dtype\": \"string\",\n        \"num_unique_values\": 37,\n        \"samples\": [\n          \"New Zealand\",\n          \"Portugal\",\n          \"Chile\"\n        ],\n        \"semantic_type\": \"\",\n        \"description\": \"\"\n      }\n    },\n    {\n      \"column\": \"percentage\",\n      \"properties\": {\n        \"dtype\": \"string\",\n        \"num_unique_values\": 37,\n        \"samples\": [\n          \"-1.64207872969095\",\n          \"-0.310423451364093\",\n          \"1.05504972262973\"\n        ],\n        \"semantic_type\": \"\",\n        \"description\": \"\"\n      }\n    }\n  ]\n}"
            }
          },
          "metadata": {},
          "execution_count": 6
        }
      ],
      "source": [
        "df"
      ]
    },
    {
      "cell_type": "code",
      "execution_count": null,
      "metadata": {
        "id": "1hDBzghWpvks"
      },
      "outputs": [],
      "source": [
        "df['percentage'] = df['percentage'].astype(float)"
      ]
    },
    {
      "cell_type": "code",
      "execution_count": null,
      "metadata": {
        "colab": {
          "base_uri": "https://localhost:8080/",
          "height": 145
        },
        "id": "TYDEXp_Qp2Pw",
        "outputId": "0b126e1f-ce3c-4c73-b950-b8b2c5a00fcd"
      },
      "outputs": [
        {
          "output_type": "execute_result",
          "data": {
            "text/plain": [
              "country        object\n",
              "percentage    float64\n",
              "dtype: object"
            ],
            "text/html": [
              "<div>\n",
              "<style scoped>\n",
              "    .dataframe tbody tr th:only-of-type {\n",
              "        vertical-align: middle;\n",
              "    }\n",
              "\n",
              "    .dataframe tbody tr th {\n",
              "        vertical-align: top;\n",
              "    }\n",
              "\n",
              "    .dataframe thead th {\n",
              "        text-align: right;\n",
              "    }\n",
              "</style>\n",
              "<table border=\"1\" class=\"dataframe\">\n",
              "  <thead>\n",
              "    <tr style=\"text-align: right;\">\n",
              "      <th></th>\n",
              "      <th>0</th>\n",
              "    </tr>\n",
              "  </thead>\n",
              "  <tbody>\n",
              "    <tr>\n",
              "      <th>country</th>\n",
              "      <td>object</td>\n",
              "    </tr>\n",
              "    <tr>\n",
              "      <th>percentage</th>\n",
              "      <td>float64</td>\n",
              "    </tr>\n",
              "  </tbody>\n",
              "</table>\n",
              "</div><br><label><b>dtype:</b> object</label>"
            ]
          },
          "metadata": {},
          "execution_count": 8
        }
      ],
      "source": [
        "df.dtypes"
      ]
    },
    {
      "cell_type": "code",
      "execution_count": null,
      "metadata": {
        "colab": {
          "base_uri": "https://localhost:8080/"
        },
        "id": "z2M1XqaOqFk_",
        "outputId": "350bdc35-a2d5-4e6e-c06f-efcce1fcdc98"
      },
      "outputs": [
        {
          "output_type": "execute_result",
          "data": {
            "text/plain": [
              "-1.2618863541307674"
            ]
          },
          "metadata": {},
          "execution_count": 9
        }
      ],
      "source": [
        "df['percentage'].mean()"
      ]
    },
    {
      "cell_type": "code",
      "execution_count": null,
      "metadata": {
        "colab": {
          "base_uri": "https://localhost:8080/"
        },
        "id": "kCpunCx8qIwb",
        "outputId": "43f9c0a5-097e-46a3-f9ab-6e773277db07"
      },
      "outputs": [
        {
          "output_type": "execute_result",
          "data": {
            "text/plain": [
              "5.206197688291432"
            ]
          },
          "metadata": {},
          "execution_count": 10
        }
      ],
      "source": [
        "df['percentage'].std()"
      ]
    },
    {
      "cell_type": "code",
      "execution_count": null,
      "metadata": {
        "colab": {
          "base_uri": "https://localhost:8080/",
          "height": 472
        },
        "id": "Rn2WGLvMqLdF",
        "outputId": "27a6413c-bbc8-47c2-b864-2fc9c9f3ea48"
      },
      "outputs": [
        {
          "output_type": "display_data",
          "data": {
            "text/plain": [
              "<Figure size 640x480 with 1 Axes>"
            ],
            "image/png": "[encoded data removed]"
          },
          "metadata": {}
        }
      ],
      "source": [
        "df['percentage'].hist(bins=20, edgecolor='black')\n",
        "\n",
        "plt.xlabel('Проценты')  # Подпись оси X\n",
        "plt.ylabel('Количество')  # Подпись оси Y\n",
        "plt.title('Распределение процентных значений')\n",
        "\n",
        "image_path = \"percentage_distribution.png\"\n",
        "plt.savefig(image_path, dpi=300, bbox_inches='tight')\n",
        "\n",
        "plt.show()"
      ]
    },
    {
      "cell_type": "code",
      "execution_count": null,
      "metadata": {
        "colab": {
          "base_uri": "https://localhost:8080/",
          "height": 472
        },
        "id": "sfhAGEayqbG5",
        "outputId": "b7d6938d-3d06-412b-bec0-053c54945c7b"
      },
      "outputs": [
        {
          "output_type": "display_data",
          "data": {
            "text/plain": [
              "<Figure size 640x480 with 1 Axes>"
            ],
            "image/png": "[encoded data removed]"
          },
          "metadata": {}
        }
      ],
      "source": [
        "mean1, std1, size1 = -1.5, 0.5, int(n/2)\n",
        "mean2, std2, size2 = 1, 0.5, int(n/2 )\n",
        "\n",
        "# Генерация данных\n",
        "data1 = np.random.normal(mean1, std1, size1)\n",
        "data2 = np.random.normal(mean2, std2, size2)\n",
        "deficit = np.concatenate([data1, data2])\n",
        "\n",
        "# Визуализация\n",
        "sns.histplot(deficit, bins=30, kde=True)\n",
        "plt.title('Распределение дефицита бюджета в процентах')\n",
        "plt.xlabel('Значения')\n",
        "plt.ylabel('Частота')\n",
        "plt.show()\n"
      ]
    },
    {
      "cell_type": "code",
      "execution_count": null,
      "metadata": {
        "id": "ooyRJS1prVmp"
      },
      "outputs": [],
      "source": [
        "#генерация данных по наличию прогрессивной шкалы налогообложения будет происходить при помощи нормальной копулы для прогрессивной шкалы налогообложения и для уровня фискальной культуры"
      ]
    },
    {
      "cell_type": "code",
      "execution_count": null,
      "metadata": {
        "id": "LOF7kUGFvK_H"
      },
      "outputs": [],
      "source": [
        "#генерация теневого уровня экономики. Будем считать, что в среднем в странах уровень теневой экономики составляет примерно 0,24 (24% от ВВП), со стандартным отклонением в 13%."
      ]
    },
    {
      "cell_type": "markdown",
      "metadata": {
        "id": "kF1ILKYCwBA_"
      },
      "source": [
        "https://cyberleninka.ru/article/n/statisticheskie-izmereniya-tenevoy-ekonomiki/viewer"
      ]
    },
    {
      "cell_type": "code",
      "execution_count": null,
      "metadata": {
        "id": "wSk4s3_JxXjP"
      },
      "outputs": [],
      "source": [
        "#по данным из статьи видно, что данные хорошо ложатся на логнормальное распределение, поэтому по нему и будем моделировать данные в будущем"
      ]
    },
    {
      "cell_type": "code",
      "execution_count": null,
      "metadata": {
        "colab": {
          "base_uri": "https://localhost:8080/",
          "height": 487
        },
        "id": "kkjV2SW3vTg_",
        "outputId": "24ae2600-d0df-4394-acb4-5d8bca8f29c6"
      },
      "outputs": [
        {
          "output_type": "display_data",
          "data": {
            "text/plain": [
              "<Figure size 800x500 with 1 Axes>"
            ],
            "image/png": "[encoded data removed]"
          },
          "metadata": {}
        }
      ],
      "source": [
        "mean_value = 24\n",
        "std_dev = 13\n",
        "mu = np.log(mean_value**2 / np.sqrt(std_dev**2 + mean_value**2))\n",
        "sigma = np.sqrt(np.log(1 + (std_dev**2 / mean_value**2)))\n",
        "grey = np.random.lognormal(mean=mu, sigma=sigma, size=n)\n",
        "grey = np.clip(grey, None, 100)\n",
        "\n",
        "\n",
        "\n",
        "plt.figure(figsize=(8, 5))\n",
        "sns.histplot(grey, bins=30, kde=True, color=\"royalblue\", label=\"Сгенерированные данные\")\n",
        "plt.xlabel(\"Доля теневой экономики (% ВВП)\")\n",
        "plt.ylabel(\"Частота\")\n",
        "plt.title(\"Распределение уровня теневой экономики \")\n",
        "plt.legend()\n",
        "plt.grid()\n",
        "\n",
        "image_path = \"ten_ek_distribution.png\"\n",
        "plt.savefig(image_path, dpi=300, bbox_inches='tight')\n",
        "\n",
        "plt.show()"
      ]
    },
    {
      "cell_type": "markdown",
      "metadata": {
        "id": "Y7xp4NefxjeP"
      },
      "source": [
        "## Генерация ненаблюдаемой переменной"
      ]
    },
    {
      "cell_type": "code",
      "execution_count": null,
      "metadata": {
        "id": "IPx2mKfAxdrJ"
      },
      "outputs": [],
      "source": [
        "#за ненаблюдаемую переменную мы взяли уровень фискальной культуры. Генерируем при помощи нормальной копулы, идею взяли тут https://habr.com/ru/articles/145751/"
      ]
    },
    {
      "cell_type": "code",
      "execution_count": null,
      "metadata": {
        "id": "QRlBGo-Kp47n"
      },
      "outputs": [],
      "source": [
        "import scipy.special as sp\n",
        "z1 = np.random.normal(0, 1, n)\n",
        "z2 = np.random.normal(0, 1, n)\n",
        "rho = 0.25\n",
        "matrix = np.linalg.cholesky([[1, rho], [rho, 1]]) #это разложение Холецкого, консультировались с chat gpt для написания этой части кода для копулы\n",
        "z1_corr, z2_corr = matrix @ np.array([z1, z2])\n",
        "progressive = (stats.norm.cdf(z1_corr) < 0.6).astype(int) #предполагаем, что вероятность прогрессивной шкалы в среднем в мире = 0.6\n",
        "\n",
        "culture = sp.expit(z2_corr)\n",
        "culture = 0.8 * culture + 0.2 * progressive\n",
        "culture = (culture - np.min(culture)) / (np.max(culture) - np.min(culture))\n"
      ]
    },
    {
      "cell_type": "code",
      "execution_count": null,
      "metadata": {
        "colab": {
          "base_uri": "https://localhost:8080/",
          "height": 465
        },
        "id": "2nGME1mOqKl_",
        "outputId": "66136893-b0c3-40f6-b69a-6152bcd7a0b2"
      },
      "outputs": [
        {
          "output_type": "display_data",
          "data": {
            "text/plain": [
              "<Figure size 800x500 with 1 Axes>"
            ],
            "image/png": "[encoded data removed]"
          },
          "metadata": {}
        }
      ],
      "source": [
        "plt.figure(figsize=(8, 5))\n",
        "sns.histplot(culture, bins=30, kde=True, color=\"royalblue\", edgecolor=\"black\")\n",
        "plt.axvline(np.mean(culture), color='red', linestyle='dashed', label=\"Среднее\")\n",
        "plt.xlabel(\"Culture\")\n",
        "plt.ylabel(\"Частота\")\n",
        "plt.legend()\n",
        "plt.grid(True)\n",
        "\n",
        "image_path = \"fis_cul_distribution.png\"\n",
        "plt.savefig(image_path, dpi=300, bbox_inches='tight')\n",
        "\n",
        "plt.show()\n"
      ]
    },
    {
      "cell_type": "markdown",
      "metadata": {
        "id": "nSB9qeL00Q_r"
      },
      "source": [
        "## Генерация инструментальной переменной\n"
      ]
    },
    {
      "cell_type": "code",
      "execution_count": null,
      "metadata": {
        "colab": {
          "base_uri": "https://localhost:8080/",
          "height": 487
        },
        "id": "Bxl7XtSeuz47",
        "outputId": "4af26b62-43ad-4fbe-9fe6-021d00ff50bb"
      },
      "outputs": [
        {
          "output_type": "display_data",
          "data": {
            "text/plain": [
              "<Figure size 800x500 with 1 Axes>"
            ],
            "image/png": "[encoded data removed]"
          },
          "metadata": {}
        }
      ],
      "source": [
        "alpha = 0.15  #это центр\n",
        "beta1 = 0.5  #масштабирование сигмоиды\n",
        "beta2 = 0.05  #перед дефицитом\n",
        "beta3 = 0.6  #налог\n",
        "gamma1 = 0.5  #регулируем силу эффектов\n",
        "\n",
        "#тут внутри используем сигмоиду\n",
        "gini_values = (alpha + beta1 * (1 / (1 + np.exp(-gamma1 * (deficit + grey)))) + \\\n",
        "             beta2 * np.log(1 + deficit**2) + \\\n",
        "             beta3 * progressive - 0.8)\n",
        "\n",
        "plt.figure(figsize=(8, 5))\n",
        "plt.hist(gini_values, bins=30, edgecolor='black', alpha=0.7)\n",
        "plt.title('Histogram of Gini values')\n",
        "plt.xlabel('Gini')\n",
        "plt.ylabel('Frequency')\n",
        "\n",
        "image_path = \"gini_distribution.png\"\n",
        "plt.savefig(image_path, dpi=300, bbox_inches='tight')\n",
        "\n",
        "plt.show()"
      ]
    },
    {
      "cell_type": "code",
      "execution_count": null,
      "metadata": {
        "colab": {
          "base_uri": "https://localhost:8080/",
          "height": 487
        },
        "id": "Fvq5xguswVZW",
        "outputId": "3732e9a0-d7a0-4483-dce6-518882d648cd"
      },
      "outputs": [
        {
          "output_type": "display_data",
          "data": {
            "text/plain": [
              "<Figure size 800x500 with 1 Axes>"
            ],
            "image/png": "[encoded data removed]"
          },
          "metadata": {}
        }
      ],
      "source": [
        "gini_prob = norm.cdf(gini_values)\n",
        "\n",
        "plt.figure(figsize=(8, 5))\n",
        "plt.hist(gini_prob, bins=30, edgecolor='black', alpha=0.7)\n",
        "plt.title('Histogram of probability of high inequality')\n",
        "plt.xlabel('Probability')\n",
        "plt.ylabel('Frequency')\n",
        "\n",
        "image_path = \"gini_prob_distribution.png\"\n",
        "plt.savefig(image_path, dpi=300, bbox_inches='tight')\n",
        "\n",
        "plt.show()"
      ]
    },
    {
      "cell_type": "markdown",
      "metadata": {
        "id": "kNlHG2K3zSbu"
      },
      "source": [
        "Это отражает две группы стран: развитые и развивающиеся"
      ]
    },
    {
      "cell_type": "code",
      "execution_count": null,
      "metadata": {
        "colab": {
          "base_uri": "https://localhost:8080/"
        },
        "id": "ZNIkx1rUMoFs",
        "outputId": "a723e62b-5562-4508-e732-336ce7fee324"
      },
      "outputs": [
        {
          "output_type": "stream",
          "name": "stdout",
          "text": [
            "[0 1 1 1 0 1 1 1 1 1]\n"
          ]
        }
      ],
      "source": [
        "gini = np.random.binomial(n = 1, p = gini_prob, size = n)\n",
        "print(gini[0:10])"
      ]
    },
    {
      "cell_type": "markdown",
      "metadata": {
        "id": "C-HmXhZf0v2H"
      },
      "source": [
        "## Генерация переменной воздействия"
      ]
    },
    {
      "cell_type": "markdown",
      "metadata": {
        "id": "AatRJVE6XOuw"
      },
      "source": [
        "Здесь необходимо рассмотреть 2 сценария: когда в стране низкое неравенство и когда в стране высокое неравенство."
      ]
    },
    {
      "cell_type": "markdown",
      "metadata": {
        "id": "5wJgLQEoZB73"
      },
      "source": [
        "\n",
        "\n",
        "Условные вероятности переменной воздействия (налоговой ставки) зависят от контрольных переменных, инструментальной переменной (уровня неравенства) и ненаблюдаемой переменной (фискальной культуры):\n",
        "\n",
        "$$\n",
        "P(\\text{Rate}_{i} = 1 | \\text{Deficit}_{i}, \\text{Progressive}_{i}, \\text{Grey}_{i}, \\text{Culture}_{i}, \\text{Inequality}_{i}) =\n",
        "F_{\\text{Logistic}} \\Big( 5 \\times \\ln(\\text{Culture}_{i} + 1) + \\sqrt{|\\text{Deficit}_{i}|} + \\text{Progressive}_{i} \\times \\text{Grey}_{i} - 20 + 4 \\times \\text{Inequality}_{i} \\Big)\n",
        "$$\n",
        "\n",
        "где $F_{\\text{Logistic}}$ — функция распределения стандартного логистического распределения.\n",
        "\n",
        "\n",
        "Для краткости введем обозначение для условной вероятности высокой налоговой ставки при конкретном уровне неравенства:\n",
        "\n",
        "$$\n",
        "p_{k}^{\\text{Inequality}_{i}} = P(\\text{Rate}_{i} = 1 | \\text{Deficit}_{i}, \\text{Progressive}_{i}, \\text{Grey}_{i}, \\text{Culture}_{i}, \\text{Inequality}_{i} = k), \\quad k \\in \\{0,1\\}\n",
        "$$\n",
        "\n",
        "\n",
        "Введем равномерную случайную величину $U_{i} \\sim U(0,1)$ и определим гипотетические переменные:\n",
        "\n",
        "$$\n",
        "\\text{Rate}_{1i} = I(p_{1}^{\\text{Inequality}_{i}} \\geq U_{i})\n",
        "$$\n",
        "\n",
        "$$\n",
        "\\text{Rate}_{0i} = I(p_{0}^{\\text{Inequality}_{i}} \\geq U_{i})\n",
        "$$\n",
        "\n",
        "где\n",
        "\n",
        "$$\n",
        "I(\\text{условие}) =\n",
        "\\begin{cases}\n",
        "1, & \\text{если условие выполнено} \\\\\n",
        "0, & \\text{в противном случае}\n",
        "\\end{cases}\n",
        "$$\n",
        "\n",
        "Переменные $\\text{Rate}_{1i}$ и $\\text{Rate}_{0i}$ отражают потенциальный уровень налоговой ставки в зависимости от уровня неравенства в стране.\n"
      ]
    },
    {
      "cell_type": "code",
      "execution_count": null,
      "metadata": {
        "id": "3ZXJve9uzU_h"
      },
      "outputs": [],
      "source": [
        "u = uniform.rvs(size = n)"
      ]
    },
    {
      "cell_type": "code",
      "execution_count": null,
      "metadata": {
        "id": "N-S65KcPxnQ-"
      },
      "outputs": [],
      "source": [
        "rate_index = 5*(np.log(culture + 1)) + np.sqrt(abs(deficit)) + progressive * grey - 20"
      ]
    },
    {
      "cell_type": "code",
      "execution_count": null,
      "metadata": {
        "id": "PdaI9gJKaLLS"
      },
      "outputs": [],
      "source": [
        "gini_high = 1\n",
        "rate_index_high = rate_index + 4*gini_high\n",
        "rate_index_high = logistic.cdf(rate_index_high)\n",
        "rates_high = (rate_index_high >= u).astype(int)"
      ]
    },
    {
      "cell_type": "code",
      "execution_count": null,
      "metadata": {
        "colab": {
          "base_uri": "https://localhost:8080/"
        },
        "id": "7-YFfgutazFa",
        "outputId": "9193906f-c91d-47c3-c685-40441fa97ded"
      },
      "outputs": [
        {
          "output_type": "execute_result",
          "data": {
            "text/plain": [
              "np.float64(0.50314)"
            ]
          },
          "metadata": {},
          "execution_count": 18
        }
      ],
      "source": [
        "np.mean(rates_high)"
      ]
    },
    {
      "cell_type": "code",
      "execution_count": null,
      "metadata": {
        "id": "eQXdhy7na32r"
      },
      "outputs": [],
      "source": [
        "gini_low = 0\n",
        "rate_index_low = rate_index + 4*gini_low\n",
        "rate_index_low = logistic.cdf(rate_index_low)\n",
        "rates_low = (rate_index_low >= u).astype(int)"
      ]
    },
    {
      "cell_type": "code",
      "execution_count": null,
      "metadata": {
        "colab": {
          "base_uri": "https://localhost:8080/"
        },
        "id": "Tz3PkW9GbB8y",
        "outputId": "dba5972c-98ef-4334-8dca-9b5515a3691d"
      },
      "outputs": [
        {
          "output_type": "execute_result",
          "data": {
            "text/plain": [
              "np.float64(0.40845)"
            ]
          },
          "metadata": {},
          "execution_count": 20
        }
      ],
      "source": [
        "np.mean(rates_low)"
      ]
    },
    {
      "cell_type": "code",
      "execution_count": null,
      "metadata": {
        "colab": {
          "base_uri": "https://localhost:8080/"
        },
        "id": "DuRQ8SYobTK_",
        "outputId": "53c05659-1844-45ff-d67f-c4a9208b75a6"
      },
      "outputs": [
        {
          "output_type": "stream",
          "name": "stdout",
          "text": [
            "Never taker     49686\n",
            "Always taker    40845\n",
            "Complier         9469\n",
            "Name: count, dtype: int64\n"
          ]
        },
        {
          "output_type": "stream",
          "name": "stderr",
          "text": [
            "<ipython-input-21-1cf3bf25ecb3>:8: FutureWarning: pandas.value_counts is deprecated and will be removed in a future version. Use pd.Series(obj).value_counts() instead.\n",
            "  print(pd.value_counts(cnt_type))\n",
            "<ipython-input-21-1cf3bf25ecb3>:8: FutureWarning: The behavior of value_counts with object-dtype is deprecated. In a future version, this will *not* perform dtype inference on the resulting index. To retain the old behavior, use `result.index = result.index.infer_objects()`\n",
            "  print(pd.value_counts(cnt_type))\n"
          ]
        }
      ],
      "source": [
        "cnt_type = np.empty(n, dtype = 'U25')\n",
        "cnt_type[(rates_low == 1) & (rates_high == 1)] = 'Always taker'\n",
        "cnt_type[(rates_high == 0) & (rates_low == 0)] = 'Never taker'\n",
        "cnt_type[rates_high > rates_low]               = 'Complier'\n",
        "cnt_type[rates_high < rates_low]               = 'Denier'\n",
        "\n",
        "\n",
        "print(pd.value_counts(cnt_type))"
      ]
    },
    {
      "cell_type": "code",
      "execution_count": null,
      "metadata": {
        "colab": {
          "base_uri": "https://localhost:8080/"
        },
        "id": "_DJaV83Jb3A0",
        "outputId": "4788f874-c965-47be-b8f6-d3cb0810933c"
      },
      "outputs": [
        {
          "output_type": "stream",
          "name": "stdout",
          "text": [
            "      rates_high rates_low    Тип страны\n",
            "0              0         0   Never taker\n",
            "1              0         0   Never taker\n",
            "2              1         1  Always taker\n",
            "3              1         0      Complier\n",
            "4              1         1  Always taker\n",
            "...          ...       ...           ...\n",
            "99995          1         0      Complier\n",
            "99996          1         1  Always taker\n",
            "99997          1         1  Always taker\n",
            "99998          1         1  Always taker\n",
            "99999          0         0   Never taker\n",
            "\n",
            "[100000 rows x 3 columns]\n"
          ]
        }
      ],
      "source": [
        "print(pd.DataFrame(data    = np.array([rates_high, rates_low, cnt_type]).transpose(),\n",
        "                   columns = ['rates_high', 'rates_low', 'Тип страны']))"
      ]
    },
    {
      "cell_type": "code",
      "execution_count": null,
      "metadata": {
        "colab": {
          "base_uri": "https://localhost:8080/"
        },
        "id": "IFeN3SvPcucj",
        "outputId": "bb6c4347-62a7-4086-dac5-3f3f36a03d25"
      },
      "outputs": [
        {
          "output_type": "stream",
          "name": "stdout",
          "text": [
            "0.47377908318508605\n"
          ]
        }
      ],
      "source": [
        "rates = rates_high * gini_prob + rates_low * (1 - gini_prob)\n",
        "\n",
        "print(np.mean(rates))"
      ]
    },
    {
      "cell_type": "code",
      "execution_count": null,
      "metadata": {
        "colab": {
          "base_uri": "https://localhost:8080/"
        },
        "id": "WyMgGvgmdFb4",
        "outputId": "1bfc9228-3034-402c-90b4-fab63983f79a"
      },
      "outputs": [
        {
          "output_type": "stream",
          "name": "stdout",
          "text": [
            "                          Оценка\n",
            "Corr(rates, culture)    0.324825\n",
            "Corr(rates, gini_prob)  0.809901\n"
          ]
        }
      ],
      "source": [
        "print(pd.DataFrame(data    = [np.corrcoef(rates, culture)[0, 1],\n",
        "                              np.corrcoef(rates, gini_prob)[0, 1]],\n",
        "                   index   = ['Corr(rates, culture)',\n",
        "                              'Corr(rates, gini_prob)'],\n",
        "                   columns = ['Оценка']))"
      ]
    },
    {
      "cell_type": "markdown",
      "metadata": {
        "id": "-LB-TSoEEFxj"
      },
      "source": [
        "## Генерация целевой переменной\n"
      ]
    },
    {
      "cell_type": "markdown",
      "metadata": {
        "id": "jwIfhey4Fgl7"
      },
      "source": [
        "## Идея моделирования налоговых поступлений\n",
        "\n",
        "Основная идея: **Эффект налоговой ставки** (`Rate_i`) зависит от уровня теневой экономики и фискальной культуры.\n",
        "\n",
        "- При **низкой налоговой ставке** (`Rate_i = 0`) поступления зависят от **формальной экономики** и **фискальной дисциплины**.\n",
        "- При **высокой налоговой ставке** (`Rate_i = 1`) возникает **неформальная адаптация** (уход в тень), но поступления могут компенсироваться прогрессивной шкалой и борьбой с уклонением.\n",
        "\n",
        "### Уравнение налоговых поступлений при `Rate_i = 0` (низкая ставка)\n",
        "$$\n",
        "\\text{Taxes}_{0i} = \\underbrace{\\underbrace{0.7 \\times (1 - \\text{Grey}_i)}_{g_{0}^{\\text{obs}}} + \\underbrace{15 \\times \\frac{10 - \\text{Deficit}_i}{12 - \\text{Inequality}_i + \\text{Progressive}_i}}_{g_{0}^{\\text{obs}}}}_{g_{0}} + \\underbrace{0.2 \\times (1 - \\text{Culture}_i)}_{g_{0}^{\\text{unobs}}} + \\varepsilon_{0i}, \\quad \\varepsilon_{0i} \\sim (5 \\times t(10))\n",
        "$$\n",
        "\n",
        "- **Теневая экономика** (`Grey_i`) и **неравенство** (`Inequality_i`) оказывают влияние на налоговые поступления.\n",
        "- **Культура** (`Culture_i`) является ненаблюдаемой переменной и оказывает значительное влияние на налоговые поступления.\n",
        "- **Случайная ошибка** имеет распределение `t(10)`, моделируя редкие скачки.\n",
        "\n",
        "### Уравнение налоговых поступлений при `Rate_i = 1` (высокая ставка)\n",
        "\n",
        "$$\n",
        "\\text{Taxes}_{1i} = \\underbrace{\\underbrace{0.9 \\times (1 - \\text{Grey}_i)}_{g_{1}^{\\text{obs}}} + \\underbrace{17 \\times \\frac{10 - \\text{Deficit}_i}{11 - \\text{Inequality}_i + \\text{Progressive}_i}}_{g_{1}^{\\text{obs}}}}_{g_{1}} + \\underbrace{0.2 \\times (1 - \\text{Culture}_i)}_{g_{1}^{\\text{unobs}}} + \\varepsilon_{1i}, \\quad \\varepsilon_{1i} \\sim (\\text{EXP}(0.08) - 8)\n",
        "$$\n",
        "\n",
        "- **Высокая ставка увеличивает влияние** `Culture_i` (фискальной культуры), поскольку уклонение от налогов становится более критичным.\n",
        "- **Прогрессивная шкала** может частично компенсировать потери.\n",
        "- **Ошибка** имеет экспоненциальное распределение (`EXP(0.08) - 8`), моделируя редкие резкие скачки налоговых поступлений.\n",
        "\n",
        "### Наблюдаемые налоговые поступления\n",
        "\n",
        "\\[\n",
        "\\text{Taxes}_{i} = \\begin{cases}\n",
        "\\text{Taxes}_{1i}, \\quad \\text{если } \\text{Rate}_{i}=1 \\\\\n",
        "\\text{Taxes}_{0i}, \\quad \\text{если } \\text{Rate}_{i}=0\n",
        "\\end{cases} = \\text{Taxes}_{1i} \\times \\text{Rate}_{i} + \\text{Taxes}_{0i} \\times (1 - \\text{Rate}_{i})\n",
        "\\]\n",
        "\n",
        "### Интерпретация\n",
        "\n",
        "- **Высокие налоги** могут снижать поступления за счет ухода в тень, но **при высокой фискальной культуре** это влияние уменьшается.\n",
        "- **Контрольные переменные** помогают регулировать эффект (например, прогрессивная шкала смягчает потери).\n",
        "- **Эндогенность** возникает из-за `Culture_i`, который влияет и на `Taxes_i`, и на `Rate_i`.\n",
        "\n",
        "\n"
      ]
    },
    {
      "cell_type": "code",
      "execution_count": null,
      "metadata": {
        "colab": {
          "base_uri": "https://localhost:8080/"
        },
        "id": "d-weuyLjJhfu",
        "outputId": "a7e3ad75-a9e0-4c95-cf17-a5aae9cbb479"
      },
      "outputs": [
        {
          "output_type": "execute_result",
          "data": {
            "text/plain": [
              "array([0., 0., 1., ..., 1., 1., 0.])"
            ]
          },
          "metadata": {},
          "execution_count": 25
        }
      ],
      "source": [
        "rates"
      ]
    },
    {
      "cell_type": "code",
      "execution_count": null,
      "metadata": {
        "colab": {
          "base_uri": "https://localhost:8080/"
        },
        "id": "GkwbKIwCJvA1",
        "outputId": "35d40b1d-45cc-489c-9fa0-5864a79b0666"
      },
      "outputs": [
        {
          "output_type": "execute_result",
          "data": {
            "text/plain": [
              "array([35.5933292 , 11.74457535, 28.25559004, ..., 22.88728637,\n",
              "       32.57137355, 12.29568015])"
            ]
          },
          "metadata": {},
          "execution_count": 26
        }
      ],
      "source": [
        "grey"
      ]
    },
    {
      "cell_type": "code",
      "execution_count": null,
      "metadata": {
        "colab": {
          "base_uri": "https://localhost:8080/"
        },
        "id": "GWs2xCi2Eh2y",
        "outputId": "7089d93c-58ea-495a-caec-41a1667fb37e"
      },
      "outputs": [
        {
          "output_type": "stream",
          "name": "stdout",
          "text": [
            "[ 93.15589213 111.28233228  85.58641281  75.9328393   74.00548698\n",
            "  69.68405348  89.76130381 102.03935333  65.94762629  83.16360202]\n"
          ]
        }
      ],
      "source": [
        "error0 = t.rvs(size=n, df=10) * 5  # случайная ошибка для низкой ставки\n",
        "error1 = expon.rvs(size=n, scale=10) - 8  # случайная ошибка для высокой ставки\n",
        "g0_obs = 15 * ((15 - (deficit))) / ((12 - gini_prob + progressive))\n",
        "g0_unobs = 0.7 * (100 - grey)\n",
        "g0 = g0_obs + g0_unobs\n",
        "\n",
        "g1_obs = 17 * ((15 - (deficit))) / ((11 - gini_prob + progressive))\n",
        "g1_unobs = 0.9 * (100 - grey) + 0.2 * (1 - culture)\n",
        "g1 = g1_obs + g1_unobs\n",
        "\n",
        "taxes0 = g0 + error0  # для низкой ставки\n",
        "taxes1 = g1 + error1  # для высокой ставки\n",
        "\n",
        "# Наблюдаемые налоговые поступления в зависимости от уровня налоговой ставки\n",
        "rate = np.random.randint(0, 2, n)\n",
        "taxes = taxes1 * rate + taxes0 * (1 - rate)\n",
        "\n",
        "print(taxes[:10])"
      ]
    },
    {
      "cell_type": "markdown",
      "metadata": {
        "id": "Ap6DaPYhsaBx"
      },
      "source": [
        "## Описательные статистики"
      ]
    },
    {
      "cell_type": "markdown",
      "metadata": {
        "id": "AZKFSsqCB4Fo"
      },
      "source": [
        "### Непрерывные переменые"
      ]
    },
    {
      "cell_type": "code",
      "execution_count": null,
      "metadata": {
        "colab": {
          "base_uri": "https://localhost:8080/"
        },
        "id": "KtUat6zzsZWE",
        "outputId": "4a550872-d1e2-41d6-f82f-98ca857156f8"
      },
      "outputs": [
        {
          "output_type": "stream",
          "name": "stdout",
          "text": [
            "Mean:  -0.2495165659295252\n",
            "Max:  2.914891085670428\n",
            "Min:  -3.7328019317644388\n",
            "Std:  1.3471025901830815\n"
          ]
        }
      ],
      "source": [
        "# deficit\n",
        "\n",
        "mean = np.mean(deficit)\n",
        "max = np.max(deficit)\n",
        "min = np.min(deficit)\n",
        "std = np.std(deficit)\n",
        "\n",
        "print(\"Mean: \", mean)\n",
        "print(\"Max: \", max)\n",
        "print(\"Min: \", min)\n",
        "print(\"Std: \", std)"
      ]
    },
    {
      "cell_type": "code",
      "execution_count": null,
      "metadata": {
        "colab": {
          "base_uri": "https://localhost:8080/"
        },
        "id": "lXCT0ROhCiBj",
        "outputId": "56b30453-1502-4311-bda7-d76b5fb9ef8b"
      },
      "outputs": [
        {
          "output_type": "stream",
          "name": "stdout",
          "text": [
            "Mean:  23.986926972184573\n",
            "Max:  100.0\n",
            "Min:  2.2951414258356255\n",
            "Std:  12.835148466010233\n"
          ]
        }
      ],
      "source": [
        "# grey\n",
        "mean = np.mean(grey)\n",
        "max = np.max(grey)\n",
        "min = np.min(grey)\n",
        "std = np.std(grey)\n",
        "\n",
        "print(\"Mean: \", mean)\n",
        "print(\"Max: \", max)\n",
        "print(\"Min: \", min)\n",
        "print(\"Std: \", std)\n"
      ]
    },
    {
      "cell_type": "code",
      "execution_count": null,
      "metadata": {
        "colab": {
          "base_uri": "https://localhost:8080/"
        },
        "id": "GJiO-3vNDBQ7",
        "outputId": "47844578-4145-4d64-dfb8-1172a7b69a87"
      },
      "outputs": [
        {
          "output_type": "stream",
          "name": "stdout",
          "text": [
            "Mean:  0.5235653758060572\n",
            "Max:  1.0\n",
            "Min:  0.0\n",
            "Std:  0.18288365611848867\n"
          ]
        }
      ],
      "source": [
        "# culture\n",
        "mean = np.mean(culture)\n",
        "max = np.max(culture)\n",
        "min = np.min(culture)\n",
        "std = np.std(culture)\n",
        "\n",
        "print(\"Mean: \", mean)\n",
        "print(\"Max: \", max)\n",
        "print(\"Min: \", min)\n",
        "print(\"Std: \", std)\n"
      ]
    },
    {
      "cell_type": "code",
      "execution_count": null,
      "metadata": {
        "colab": {
          "base_uri": "https://localhost:8080/"
        },
        "id": "K_t1kjDJDs1x",
        "outputId": "8acafeaf-911a-4b02-fccc-3e34f2bc7b1f"
      },
      "outputs": [
        {
          "output_type": "stream",
          "name": "stdout",
          "text": [
            "Mean:  83.1890025538597\n",
            "Max:  216.8417751819184\n",
            "Min:  4.48389944448682\n",
            "Std:  17.148183091443244\n"
          ]
        }
      ],
      "source": [
        "# taxes\n",
        "mean = np.mean(taxes)\n",
        "max = np.max(taxes)\n",
        "min = np.min(taxes)\n",
        "std = np.std(taxes)\n",
        "\n",
        "print(\"Mean: \", mean)\n",
        "print(\"Max: \", max)\n",
        "print(\"Min: \", min)\n",
        "print(\"Std: \", std)\n"
      ]
    },
    {
      "cell_type": "markdown",
      "metadata": {
        "id": "Q3wx42EdJBNj"
      },
      "source": [
        "### Бинарные переменные"
      ]
    },
    {
      "cell_type": "code",
      "execution_count": null,
      "metadata": {
        "colab": {
          "base_uri": "https://localhost:8080/"
        },
        "id": "rp9Ot0V0MxPN",
        "outputId": "e183b9a9-977b-4455-8393-c2d8df0a7e62"
      },
      "outputs": [
        {
          "output_type": "execute_result",
          "data": {
            "text/plain": [
              "0.60046"
            ]
          },
          "metadata": {},
          "execution_count": 40
        }
      ],
      "source": [
        "np.mean(progressive)"
      ]
    },
    {
      "cell_type": "code",
      "execution_count": null,
      "metadata": {
        "colab": {
          "base_uri": "https://localhost:8080/"
        },
        "id": "zGExDqR2J0NZ",
        "outputId": "79e55a99-c87c-47e5-df68-c2a873ea4d85"
      },
      "outputs": [
        {
          "output_type": "execute_result",
          "data": {
            "text/plain": [
              "60046"
            ]
          },
          "metadata": {},
          "execution_count": 41
        }
      ],
      "source": [
        "np.sum(progressive == 1)"
      ]
    },
    {
      "cell_type": "code",
      "execution_count": null,
      "metadata": {
        "colab": {
          "base_uri": "https://localhost:8080/"
        },
        "id": "nex2M9cWJidk",
        "outputId": "807725cd-e673-4d55-8714-3e85d403d50d"
      },
      "outputs": [
        {
          "output_type": "execute_result",
          "data": {
            "text/plain": [
              "0.49939"
            ]
          },
          "metadata": {},
          "execution_count": 42
        }
      ],
      "source": [
        "np.mean(rate)"
      ]
    },
    {
      "cell_type": "code",
      "execution_count": null,
      "metadata": {
        "colab": {
          "base_uri": "https://localhost:8080/"
        },
        "id": "aPX29j5DJpnm",
        "outputId": "81b46d80-b98f-4548-cb18-a7b277ba17c8"
      },
      "outputs": [
        {
          "output_type": "execute_result",
          "data": {
            "text/plain": [
              "49939"
            ]
          },
          "metadata": {},
          "execution_count": 43
        }
      ],
      "source": [
        "np.sum(rate == 1)"
      ]
    },
    {
      "cell_type": "code",
      "execution_count": null,
      "metadata": {
        "colab": {
          "base_uri": "https://localhost:8080/"
        },
        "id": "UHKLzUQxL31u",
        "outputId": "6ec3fa57-6b63-4bb4-b6df-b20ac94a945a"
      },
      "outputs": [
        {
          "output_type": "execute_result",
          "data": {
            "text/plain": [
              "0.5965"
            ]
          },
          "metadata": {},
          "execution_count": 44
        }
      ],
      "source": [
        "np.mean(gini)"
      ]
    },
    {
      "cell_type": "code",
      "execution_count": null,
      "metadata": {
        "colab": {
          "base_uri": "https://localhost:8080/",
          "height": 359
        },
        "id": "N-JKwMqEKKHS",
        "outputId": "f7f25e72-d461-4e92-be41-ae28795c34ed"
      },
      "outputs": [
        {
          "output_type": "execute_result",
          "data": {
            "text/plain": [
              "<pandas.io.formats.style.Styler at 0x79fc7d7a9d90>"
            ],
            "text/html": [
              "<style type=\"text/css\">\n",
              "</style>\n",
              "<table id=\"T_0de4c\" class=\"dataframe\">\n",
              "  <thead>\n",
              "    <tr>\n",
              "      <th class=\"blank level0\" >&nbsp;</th>\n",
              "      <th id=\"T_0de4c_level0_col0\" class=\"col_heading level0 col0\" >taxes</th>\n",
              "      <th id=\"T_0de4c_level0_col1\" class=\"col_heading level0 col1\" >rate</th>\n",
              "      <th id=\"T_0de4c_level0_col2\" class=\"col_heading level0 col2\" >deficit</th>\n",
              "      <th id=\"T_0de4c_level0_col3\" class=\"col_heading level0 col3\" >grey</th>\n",
              "      <th id=\"T_0de4c_level0_col4\" class=\"col_heading level0 col4\" >inequality</th>\n",
              "      <th id=\"T_0de4c_level0_col5\" class=\"col_heading level0 col5\" >progressive</th>\n",
              "      <th id=\"T_0de4c_level0_col6\" class=\"col_heading level0 col6\" >culture</th>\n",
              "    </tr>\n",
              "  </thead>\n",
              "  <tbody>\n",
              "    <tr>\n",
              "      <th id=\"T_0de4c_level0_row0\" class=\"row_heading level0 row0\" >0</th>\n",
              "      <td id=\"T_0de4c_row0_col0\" class=\"data row0 col0\" >93.16</td>\n",
              "      <td id=\"T_0de4c_row0_col1\" class=\"data row0 col1\" >1</td>\n",
              "      <td id=\"T_0de4c_row0_col2\" class=\"data row0 col2\" >-1.25</td>\n",
              "      <td id=\"T_0de4c_row0_col3\" class=\"data row0 col3\" >35.59</td>\n",
              "      <td id=\"T_0de4c_row0_col4\" class=\"data row0 col4\" >0</td>\n",
              "      <td id=\"T_0de4c_row0_col5\" class=\"data row0 col5\" >0</td>\n",
              "      <td id=\"T_0de4c_row0_col6\" class=\"data row0 col6\" >0.21</td>\n",
              "    </tr>\n",
              "    <tr>\n",
              "      <th id=\"T_0de4c_level0_row1\" class=\"row_heading level0 row1\" >1</th>\n",
              "      <td id=\"T_0de4c_row1_col0\" class=\"data row1 col0\" >111.28</td>\n",
              "      <td id=\"T_0de4c_row1_col1\" class=\"data row1 col1\" >1</td>\n",
              "      <td id=\"T_0de4c_row1_col2\" class=\"data row1 col2\" >-1.57</td>\n",
              "      <td id=\"T_0de4c_row1_col3\" class=\"data row1 col3\" >11.74</td>\n",
              "      <td id=\"T_0de4c_row1_col4\" class=\"data row1 col4\" >1</td>\n",
              "      <td id=\"T_0de4c_row1_col5\" class=\"data row1 col5\" >1</td>\n",
              "      <td id=\"T_0de4c_row1_col6\" class=\"data row1 col6\" >0.71</td>\n",
              "    </tr>\n",
              "    <tr>\n",
              "      <th id=\"T_0de4c_level0_row2\" class=\"row_heading level0 row2\" >2</th>\n",
              "      <td id=\"T_0de4c_row2_col0\" class=\"data row2 col0\" >85.59</td>\n",
              "      <td id=\"T_0de4c_row2_col1\" class=\"data row2 col1\" >1</td>\n",
              "      <td id=\"T_0de4c_row2_col2\" class=\"data row2 col2\" >-1.18</td>\n",
              "      <td id=\"T_0de4c_row2_col3\" class=\"data row2 col3\" >28.26</td>\n",
              "      <td id=\"T_0de4c_row2_col4\" class=\"data row2 col4\" >1</td>\n",
              "      <td id=\"T_0de4c_row2_col5\" class=\"data row2 col5\" >1</td>\n",
              "      <td id=\"T_0de4c_row2_col6\" class=\"data row2 col6\" >0.51</td>\n",
              "    </tr>\n",
              "    <tr>\n",
              "      <th id=\"T_0de4c_level0_row3\" class=\"row_heading level0 row3\" >3</th>\n",
              "      <td id=\"T_0de4c_row3_col0\" class=\"data row3 col0\" >75.93</td>\n",
              "      <td id=\"T_0de4c_row3_col1\" class=\"data row3 col1\" >0</td>\n",
              "      <td id=\"T_0de4c_row3_col2\" class=\"data row3 col2\" >-0.74</td>\n",
              "      <td id=\"T_0de4c_row3_col3\" class=\"data row3 col3\" >15.41</td>\n",
              "      <td id=\"T_0de4c_row3_col4\" class=\"data row3 col4\" >1</td>\n",
              "      <td id=\"T_0de4c_row3_col5\" class=\"data row3 col5\" >1</td>\n",
              "      <td id=\"T_0de4c_row3_col6\" class=\"data row3 col6\" >0.48</td>\n",
              "    </tr>\n",
              "    <tr>\n",
              "      <th id=\"T_0de4c_level0_row4\" class=\"row_heading level0 row4\" >4</th>\n",
              "      <td id=\"T_0de4c_row4_col0\" class=\"data row4 col0\" >74.01</td>\n",
              "      <td id=\"T_0de4c_row4_col1\" class=\"data row4 col1\" >0</td>\n",
              "      <td id=\"T_0de4c_row4_col2\" class=\"data row4 col2\" >-1.62</td>\n",
              "      <td id=\"T_0de4c_row4_col3\" class=\"data row4 col3\" >17.87</td>\n",
              "      <td id=\"T_0de4c_row4_col4\" class=\"data row4 col4\" >0</td>\n",
              "      <td id=\"T_0de4c_row4_col5\" class=\"data row4 col5\" >1</td>\n",
              "      <td id=\"T_0de4c_row4_col6\" class=\"data row4 col6\" >0.74</td>\n",
              "    </tr>\n",
              "    <tr>\n",
              "      <th id=\"T_0de4c_level0_row5\" class=\"row_heading level0 row5\" >5</th>\n",
              "      <td id=\"T_0de4c_row5_col0\" class=\"data row5 col0\" >69.68</td>\n",
              "      <td id=\"T_0de4c_row5_col1\" class=\"data row5 col1\" >0</td>\n",
              "      <td id=\"T_0de4c_row5_col2\" class=\"data row5 col2\" >-1.62</td>\n",
              "      <td id=\"T_0de4c_row5_col3\" class=\"data row5 col3\" >21.62</td>\n",
              "      <td id=\"T_0de4c_row5_col4\" class=\"data row5 col4\" >1</td>\n",
              "      <td id=\"T_0de4c_row5_col5\" class=\"data row5 col5\" >1</td>\n",
              "      <td id=\"T_0de4c_row5_col6\" class=\"data row5 col6\" >0.45</td>\n",
              "    </tr>\n",
              "    <tr>\n",
              "      <th id=\"T_0de4c_level0_row6\" class=\"row_heading level0 row6\" >6</th>\n",
              "      <td id=\"T_0de4c_row6_col0\" class=\"data row6 col0\" >89.76</td>\n",
              "      <td id=\"T_0de4c_row6_col1\" class=\"data row6 col1\" >1</td>\n",
              "      <td id=\"T_0de4c_row6_col2\" class=\"data row6 col2\" >-0.71</td>\n",
              "      <td id=\"T_0de4c_row6_col3\" class=\"data row6 col3\" >19.86</td>\n",
              "      <td id=\"T_0de4c_row6_col4\" class=\"data row6 col4\" >1</td>\n",
              "      <td id=\"T_0de4c_row6_col5\" class=\"data row6 col5\" >0</td>\n",
              "      <td id=\"T_0de4c_row6_col6\" class=\"data row6 col6\" >0.52</td>\n",
              "    </tr>\n",
              "    <tr>\n",
              "      <th id=\"T_0de4c_level0_row7\" class=\"row_heading level0 row7\" >7</th>\n",
              "      <td id=\"T_0de4c_row7_col0\" class=\"data row7 col0\" >102.04</td>\n",
              "      <td id=\"T_0de4c_row7_col1\" class=\"data row7 col1\" >1</td>\n",
              "      <td id=\"T_0de4c_row7_col2\" class=\"data row7 col2\" >-1.12</td>\n",
              "      <td id=\"T_0de4c_row7_col3\" class=\"data row7 col3\" >9.02</td>\n",
              "      <td id=\"T_0de4c_row7_col4\" class=\"data row7 col4\" >1</td>\n",
              "      <td id=\"T_0de4c_row7_col5\" class=\"data row7 col5\" >1</td>\n",
              "      <td id=\"T_0de4c_row7_col6\" class=\"data row7 col6\" >0.52</td>\n",
              "    </tr>\n",
              "    <tr>\n",
              "      <th id=\"T_0de4c_level0_row8\" class=\"row_heading level0 row8\" >8</th>\n",
              "      <td id=\"T_0de4c_row8_col0\" class=\"data row8 col0\" >65.95</td>\n",
              "      <td id=\"T_0de4c_row8_col1\" class=\"data row8 col1\" >0</td>\n",
              "      <td id=\"T_0de4c_row8_col2\" class=\"data row8 col2\" >-1.73</td>\n",
              "      <td id=\"T_0de4c_row8_col3\" class=\"data row8 col3\" >42.53</td>\n",
              "      <td id=\"T_0de4c_row8_col4\" class=\"data row8 col4\" >1</td>\n",
              "      <td id=\"T_0de4c_row8_col5\" class=\"data row8 col5\" >1</td>\n",
              "      <td id=\"T_0de4c_row8_col6\" class=\"data row8 col6\" >0.66</td>\n",
              "    </tr>\n",
              "    <tr>\n",
              "      <th id=\"T_0de4c_level0_row9\" class=\"row_heading level0 row9\" >9</th>\n",
              "      <td id=\"T_0de4c_row9_col0\" class=\"data row9 col0\" >83.16</td>\n",
              "      <td id=\"T_0de4c_row9_col1\" class=\"data row9 col1\" >1</td>\n",
              "      <td id=\"T_0de4c_row9_col2\" class=\"data row9 col2\" >-1.23</td>\n",
              "      <td id=\"T_0de4c_row9_col3\" class=\"data row9 col3\" >37.52</td>\n",
              "      <td id=\"T_0de4c_row9_col4\" class=\"data row9 col4\" >1</td>\n",
              "      <td id=\"T_0de4c_row9_col5\" class=\"data row9 col5\" >1</td>\n",
              "      <td id=\"T_0de4c_row9_col6\" class=\"data row9 col6\" >0.43</td>\n",
              "    </tr>\n",
              "  </tbody>\n",
              "</table>\n"
            ]
          },
          "metadata": {},
          "execution_count": 30
        }
      ],
      "source": [
        "df = pd.DataFrame({'taxes': taxes, 'rate': rate, 'deficit': deficit, 'grey': grey, 'inequality': gini, 'progressive': progressive, 'culture': culture})\n",
        "df = df.loc[0:n, :]\n",
        "df.head(10).style.format(precision = 2)"
      ]
    },
    {
      "cell_type": "code",
      "execution_count": null,
      "metadata": {
        "id": "A_N8xmDOL7Dv"
      },
      "outputs": [],
      "source": [
        "from sklearn.model_selection import train_test_split"
      ]
    },
    {
      "cell_type": "code",
      "execution_count": null,
      "metadata": {
        "id": "xfyqLqvUNEml"
      },
      "outputs": [],
      "source": [
        "train_df, test_df = train_test_split(df, test_size=0.25, random_state=42)"
      ]
    },
    {
      "cell_type": "code",
      "execution_count": null,
      "metadata": {
        "colab": {
          "base_uri": "https://localhost:8080/"
        },
        "id": "nPXIN9i_NIHF",
        "outputId": "dcbffd3a-9407-49e0-b8f1-358323f3a301"
      },
      "outputs": [
        {
          "output_type": "stream",
          "name": "stdout",
          "text": [
            "Train size: (75000, 7), Test size: (25000, 7)\n"
          ]
        }
      ],
      "source": [
        "print(f\"Train size: {train_df.shape}, Test size: {test_df.shape}\")"
      ]
    },
    {
      "cell_type": "markdown",
      "source": [
        "## Байесовская сеть\n",
        "\n",
        "Дело в том, что оперативная память не выдерживает нагрузки загрузки данных, поэтому нам пришлось несколько обрезать данные, на которых будет обучаться модель"
      ],
      "metadata": {
        "id": "--MK8f8hH_Bj"
      }
    },
    {
      "cell_type": "code",
      "source": [
        "from pgmpy.models import BayesianNetwork\n",
        "from pgmpy.estimators import MaximumLikelihoodEstimator\n",
        "from pgmpy.inference import VariableElimination\n",
        "from sklearn.model_selection import train_test_split\n",
        "from sklearn.metrics import accuracy_score"
      ],
      "metadata": {
        "id": "QrFen1p_hqss"
      },
      "execution_count": null,
      "outputs": []
    },
    {
      "cell_type": "markdown",
      "metadata": {
        "id": "0RBJ9F66SKBk"
      },
      "source": [
        "## Классификация\n"
      ]
    },
    {
      "cell_type": "markdown",
      "metadata": {
        "id": "kvULIfRNGQuL"
      },
      "source": [
        "В качестве признаков возьмем все сгенерированные данные"
      ]
    },
    {
      "cell_type": "markdown",
      "source": [
        "Рациональность использования этих признаком приведем ниже:\n",
        "- Deficit - Дефицит государственного бюджета. Может влиять на налоговую ставку, так как при высоком дефиците государство может повышать налоги.\n",
        "- Inequality - Уровень неравенства в стране. Может служить индикатором необходимости прогрессивного налогообложения, что может повлиять на налоговую ставку.\n",
        "- Culture - Фискальная культура. Склонность к уклонению от налогов может влиять на решение правительства повышать или понижать ставки.\n",
        "- Grey - Уровень теневой экономики. При высоком уровне теневой экономики государство может регулировать налоги для увеличения собираемости.\n",
        "- Progressive - Наличие прогрессивной шкалы налогообложения. Если прогрессивное налогообложение уже действует, вероятность изменения налоговой ставки выше."
      ],
      "metadata": {
        "id": "yJ2afwGDwe6r"
      }
    },
    {
      "cell_type": "code",
      "execution_count": null,
      "metadata": {
        "id": "e1Z4Va7TGLQF"
      },
      "outputs": [],
      "source": [
        "from sklearn.model_selection import train_test_split, cross_val_score\n",
        "from sklearn.naive_bayes import GaussianNB\n",
        "from sklearn.neighbors import KNeighborsClassifier\n",
        "from sklearn.ensemble import RandomForestClassifier, GradientBoostingClassifier\n",
        "from sklearn.linear_model import LogisticRegression\n",
        "from sklearn.metrics import accuracy_score"
      ]
    },
    {
      "cell_type": "code",
      "source": [
        "X = df[['deficit', 'inequality', 'culture', 'grey', 'progressive']]\n",
        "y = df['rate']\n",
        "\n",
        "X_train, X_test, y_train, y_test = train_test_split(X, y, test_size=0.25, random_state=42)"
      ],
      "metadata": {
        "id": "gmw2IFMPwkmB"
      },
      "execution_count": null,
      "outputs": []
    },
    {
      "cell_type": "code",
      "source": [
        "models = {\n",
        "    \"Naive Bayes\": GaussianNB(),\n",
        "    \"KNN\": KNeighborsClassifier(n_neighbors=5),\n",
        "    \"Random Forest\": RandomForestClassifier(n_estimators=100, random_state=42),\n",
        "    \"Gradient Boosting\": GradientBoostingClassifier(n_estimators=100, random_state=42),\n",
        "    \"Logistic Regression\": LogisticRegression(max_iter=500)\n",
        "}\n",
        "\n",
        "results = []"
      ],
      "metadata": {
        "id": "dEmKmdfXwmSf"
      },
      "execution_count": null,
      "outputs": []
    },
    {
      "cell_type": "code",
      "source": [
        "for name, model in models.items():\n",
        "    model.fit(X_train, y_train)\n",
        "    train_acc = accuracy_score(y_train, model.predict(X_train))\n",
        "    test_acc = accuracy_score(y_test, model.predict(X_test))\n",
        "    cv_acc = np.mean(cross_val_score(model, X_train, y_train, cv=5))\n",
        "\n",
        "    results.append([name, train_acc, test_acc, cv_acc])\n",
        "\n",
        "df_results = pd.DataFrame(results, columns=[\"Model\", \"Train Accuracy\", \"Test Accuracy\", \"Cross-Validation Accuracy\"])\n",
        "\n",
        "df_results"
      ],
      "metadata": {
        "colab": {
          "base_uri": "https://localhost:8080/",
          "height": 204
        },
        "id": "GgTSc9mWwpHQ",
        "outputId": "806cf1fb-cc9d-4184-d681-1796971b6e96"
      },
      "execution_count": null,
      "outputs": [
        {
          "output_type": "execute_result",
          "data": {
            "text/plain": [
              "                 Model  Train Accuracy  Test Accuracy  \\\n",
              "0          Naive Bayes        0.503080        0.50100   \n",
              "1                  KNN        0.688907        0.49928   \n",
              "2        Random Forest        1.000000        0.49796   \n",
              "3    Gradient Boosting        0.535013        0.50264   \n",
              "4  Logistic Regression        0.503413        0.49756   \n",
              "\n",
              "   Cross-Validation Accuracy  \n",
              "0                   0.501160  \n",
              "1                   0.501013  \n",
              "2                   0.501280  \n",
              "3                   0.505133  \n",
              "4                   0.500600  "
            ],
            "text/html": [
              "\n",
              "  <div id=\"df-f1100dc7-a740-4ab3-aad5-82f0a2a6d921\" class=\"colab-df-container\">\n",
              "    <div>\n",
              "<style scoped>\n",
              "    .dataframe tbody tr th:only-of-type {\n",
              "        vertical-align: middle;\n",
              "    }\n",
              "\n",
              "    .dataframe tbody tr th {\n",
              "        vertical-align: top;\n",
              "    }\n",
              "\n",
              "    .dataframe thead th {\n",
              "        text-align: right;\n",
              "    }\n",
              "</style>\n",
              "<table border=\"1\" class=\"dataframe\">\n",
              "  <thead>\n",
              "    <tr style=\"text-align: right;\">\n",
              "      <th></th>\n",
              "      <th>Model</th>\n",
              "      <th>Train Accuracy</th>\n",
              "      <th>Test Accuracy</th>\n",
              "      <th>Cross-Validation Accuracy</th>\n",
              "    </tr>\n",
              "  </thead>\n",
              "  <tbody>\n",
              "    <tr>\n",
              "      <th>0</th>\n",
              "      <td>Naive Bayes</td>\n",
              "      <td>0.503080</td>\n",
              "      <td>0.50100</td>\n",
              "      <td>0.501160</td>\n",
              "    </tr>\n",
              "    <tr>\n",
              "      <th>1</th>\n",
              "      <td>KNN</td>\n",
              "      <td>0.688907</td>\n",
              "      <td>0.49928</td>\n",
              "      <td>0.501013</td>\n",
              "    </tr>\n",
              "    <tr>\n",
              "      <th>2</th>\n",
              "      <td>Random Forest</td>\n",
              "      <td>1.000000</td>\n",
              "      <td>0.49796</td>\n",
              "      <td>0.501280</td>\n",
              "    </tr>\n",
              "    <tr>\n",
              "      <th>3</th>\n",
              "      <td>Gradient Boosting</td>\n",
              "      <td>0.535013</td>\n",
              "      <td>0.50264</td>\n",
              "      <td>0.505133</td>\n",
              "    </tr>\n",
              "    <tr>\n",
              "      <th>4</th>\n",
              "      <td>Logistic Regression</td>\n",
              "      <td>0.503413</td>\n",
              "      <td>0.49756</td>\n",
              "      <td>0.500600</td>\n",
              "    </tr>\n",
              "  </tbody>\n",
              "</table>\n",
              "</div>\n",
              "    <div class=\"colab-df-buttons\">\n",
              "\n",
              "  <div class=\"colab-df-container\">\n",
              "    <button class=\"colab-df-convert\" onclick=\"convertToInteractive('df-f1100dc7-a740-4ab3-aad5-82f0a2a6d921')\"\n",
              "            title=\"Convert this dataframe to an interactive table.\"\n",
              "            style=\"display:none;\">\n",
              "\n",
              "  <svg xmlns=\"http://www.w3.org/2000/svg\" height=\"24px\" viewBox=\"0 -960 960 960\">\n",
              "    <path d=\"M120-120v-720h720v720H120Zm60-500h600v-160H180v160Zm220 220h160v-160H400v160Zm0 220h160v-160H400v160ZM180-400h160v-160H180v160Zm440 0h160v-160H620v160ZM180-180h160v-160H180v160Zm440 0h160v-160H620v160Z\"/>\n",
              "  </svg>\n",
              "    </button>\n",
              "\n",
              "  <style>\n",
              "    .colab-df-container {\n",
              "      display:flex;\n",
              "      gap: 12px;\n",
              "    }\n",
              "\n",
              "    .colab-df-convert {\n",
              "      background-color: #E8F0FE;\n",
              "      border: none;\n",
              "      border-radius: 50%;\n",
              "      cursor: pointer;\n",
              "      display: none;\n",
              "      fill: #1967D2;\n",
              "      height: 32px;\n",
              "      padding: 0 0 0 0;\n",
              "      width: 32px;\n",
              "    }\n",
              "\n",
              "    .colab-df-convert:hover {\n",
              "      background-color: #E2EBFA;\n",
              "      box-shadow: 0px 1px 2px rgba(60, 64, 67, 0.3), 0px 1px 3px 1px rgba(60, 64, 67, 0.15);\n",
              "      fill: #174EA6;\n",
              "    }\n",
              "\n",
              "    .colab-df-buttons div {\n",
              "      margin-bottom: 4px;\n",
              "    }\n",
              "\n",
              "    [theme=dark] .colab-df-convert {\n",
              "      background-color: #3B4455;\n",
              "      fill: #D2E3FC;\n",
              "    }\n",
              "\n",
              "    [theme=dark] .colab-df-convert:hover {\n",
              "      background-color: #434B5C;\n",
              "      box-shadow: 0px 1px 3px 1px rgba(0, 0, 0, 0.15);\n",
              "      filter: drop-shadow(0px 1px 2px rgba(0, 0, 0, 0.3));\n",
              "      fill: #FFFFFF;\n",
              "    }\n",
              "  </style>\n",
              "\n",
              "    <script>\n",
              "      const buttonEl =\n",
              "        document.querySelector('#df-f1100dc7-a740-4ab3-aad5-82f0a2a6d921 button.colab-df-convert');\n",
              "      buttonEl.style.display =\n",
              "        google.colab.kernel.accessAllowed ? 'block' : 'none';\n",
              "\n",
              "      async function convertToInteractive(key) {\n",
              "        const element = document.querySelector('#df-f1100dc7-a740-4ab3-aad5-82f0a2a6d921');\n",
              "        const dataTable =\n",
              "          await google.colab.kernel.invokeFunction('convertToInteractive',\n",
              "                                                    [key], {});\n",
              "        if (!dataTable) return;\n",
              "\n",
              "        const docLinkHtml = 'Like what you see? Visit the ' +\n",
              "          '<a target=\"_blank\" href=https://colab.research.google.com/notebooks/data_table.ipynb>data table notebook</a>'\n",
              "          + ' to learn more about interactive tables.';\n",
              "        element.innerHTML = '';\n",
              "        dataTable['output_type'] = 'display_data';\n",
              "        await google.colab.output.renderOutput(dataTable, element);\n",
              "        const docLink = document.createElement('div');\n",
              "        docLink.innerHTML = docLinkHtml;\n",
              "        element.appendChild(docLink);\n",
              "      }\n",
              "    </script>\n",
              "  </div>\n",
              "\n",
              "\n",
              "<div id=\"df-6d34a512-0333-44a7-9208-1a5e67822204\">\n",
              "  <button class=\"colab-df-quickchart\" onclick=\"quickchart('df-6d34a512-0333-44a7-9208-1a5e67822204')\"\n",
              "            title=\"Suggest charts\"\n",
              "            style=\"display:none;\">\n",
              "\n",
              "<svg xmlns=\"http://www.w3.org/2000/svg\" height=\"24px\"viewBox=\"0 0 24 24\"\n",
              "     width=\"24px\">\n",
              "    <g>\n",
              "        <path d=\"M19 3H5c-1.1 0-2 .9-2 2v14c0 1.1.9 2 2 2h14c1.1 0 2-.9 2-2V5c0-1.1-.9-2-2-2zM9 17H7v-7h2v7zm4 0h-2V7h2v10zm4 0h-2v-4h2v4z\"/>\n",
              "    </g>\n",
              "</svg>\n",
              "  </button>\n",
              "\n",
              "<style>\n",
              "  .colab-df-quickchart {\n",
              "      --bg-color: #E8F0FE;\n",
              "      --fill-color: #1967D2;\n",
              "      --hover-bg-color: #E2EBFA;\n",
              "      --hover-fill-color: #174EA6;\n",
              "      --disabled-fill-color: #AAA;\n",
              "      --disabled-bg-color: #DDD;\n",
              "  }\n",
              "\n",
              "  [theme=dark] .colab-df-quickchart {\n",
              "      --bg-color: #3B4455;\n",
              "      --fill-color: #D2E3FC;\n",
              "      --hover-bg-color: #434B5C;\n",
              "      --hover-fill-color: #FFFFFF;\n",
              "      --disabled-bg-color: #3B4455;\n",
              "      --disabled-fill-color: #666;\n",
              "  }\n",
              "\n",
              "  .colab-df-quickchart {\n",
              "    background-color: var(--bg-color);\n",
              "    border: none;\n",
              "    border-radius: 50%;\n",
              "    cursor: pointer;\n",
              "    display: none;\n",
              "    fill: var(--fill-color);\n",
              "    height: 32px;\n",
              "    padding: 0;\n",
              "    width: 32px;\n",
              "  }\n",
              "\n",
              "  .colab-df-quickchart:hover {\n",
              "    background-color: var(--hover-bg-color);\n",
              "    box-shadow: 0 1px 2px rgba(60, 64, 67, 0.3), 0 1px 3px 1px rgba(60, 64, 67, 0.15);\n",
              "    fill: var(--button-hover-fill-color);\n",
              "  }\n",
              "\n",
              "  .colab-df-quickchart-complete:disabled,\n",
              "  .colab-df-quickchart-complete:disabled:hover {\n",
              "    background-color: var(--disabled-bg-color);\n",
              "    fill: var(--disabled-fill-color);\n",
              "    box-shadow: none;\n",
              "  }\n",
              "\n",
              "  .colab-df-spinner {\n",
              "    border: 2px solid var(--fill-color);\n",
              "    border-color: transparent;\n",
              "    border-bottom-color: var(--fill-color);\n",
              "    animation:\n",
              "      spin 1s steps(1) infinite;\n",
              "  }\n",
              "\n",
              "  @keyframes spin {\n",
              "    0% {\n",
              "      border-color: transparent;\n",
              "      border-bottom-color: var(--fill-color);\n",
              "      border-left-color: var(--fill-color);\n",
              "    }\n",
              "    20% {\n",
              "      border-color: transparent;\n",
              "      border-left-color: var(--fill-color);\n",
              "      border-top-color: var(--fill-color);\n",
              "    }\n",
              "    30% {\n",
              "      border-color: transparent;\n",
              "      border-left-color: var(--fill-color);\n",
              "      border-top-color: var(--fill-color);\n",
              "      border-right-color: var(--fill-color);\n",
              "    }\n",
              "    40% {\n",
              "      border-color: transparent;\n",
              "      border-right-color: var(--fill-color);\n",
              "      border-top-color: var(--fill-color);\n",
              "    }\n",
              "    60% {\n",
              "      border-color: transparent;\n",
              "      border-right-color: var(--fill-color);\n",
              "    }\n",
              "    80% {\n",
              "      border-color: transparent;\n",
              "      border-right-color: var(--fill-color);\n",
              "      border-bottom-color: var(--fill-color);\n",
              "    }\n",
              "    90% {\n",
              "      border-color: transparent;\n",
              "      border-bottom-color: var(--fill-color);\n",
              "    }\n",
              "  }\n",
              "</style>\n",
              "\n",
              "  <script>\n",
              "    async function quickchart(key) {\n",
              "      const quickchartButtonEl =\n",
              "        document.querySelector('#' + key + ' button');\n",
              "      quickchartButtonEl.disabled = true;  // To prevent multiple clicks.\n",
              "      quickchartButtonEl.classList.add('colab-df-spinner');\n",
              "      try {\n",
              "        const charts = await google.colab.kernel.invokeFunction(\n",
              "            'suggestCharts', [key], {});\n",
              "      } catch (error) {\n",
              "        console.error('Error during call to suggestCharts:', error);\n",
              "      }\n",
              "      quickchartButtonEl.classList.remove('colab-df-spinner');\n",
              "      quickchartButtonEl.classList.add('colab-df-quickchart-complete');\n",
              "    }\n",
              "    (() => {\n",
              "      let quickchartButtonEl =\n",
              "        document.querySelector('#df-6d34a512-0333-44a7-9208-1a5e67822204 button');\n",
              "      quickchartButtonEl.style.display =\n",
              "        google.colab.kernel.accessAllowed ? 'block' : 'none';\n",
              "    })();\n",
              "  </script>\n",
              "</div>\n",
              "\n",
              "  <div id=\"id_2bd59b62-5659-4fc0-a7cc-03148c0a1aa7\">\n",
              "    <style>\n",
              "      .colab-df-generate {\n",
              "        background-color: #E8F0FE;\n",
              "        border: none;\n",
              "        border-radius: 50%;\n",
              "        cursor: pointer;\n",
              "        display: none;\n",
              "        fill: #1967D2;\n",
              "        height: 32px;\n",
              "        padding: 0 0 0 0;\n",
              "        width: 32px;\n",
              "      }\n",
              "\n",
              "      .colab-df-generate:hover {\n",
              "        background-color: #E2EBFA;\n",
              "        box-shadow: 0px 1px 2px rgba(60, 64, 67, 0.3), 0px 1px 3px 1px rgba(60, 64, 67, 0.15);\n",
              "        fill: #174EA6;\n",
              "      }\n",
              "\n",
              "      [theme=dark] .colab-df-generate {\n",
              "        background-color: #3B4455;\n",
              "        fill: #D2E3FC;\n",
              "      }\n",
              "\n",
              "      [theme=dark] .colab-df-generate:hover {\n",
              "        background-color: #434B5C;\n",
              "        box-shadow: 0px 1px 3px 1px rgba(0, 0, 0, 0.15);\n",
              "        filter: drop-shadow(0px 1px 2px rgba(0, 0, 0, 0.3));\n",
              "        fill: #FFFFFF;\n",
              "      }\n",
              "    </style>\n",
              "    <button class=\"colab-df-generate\" onclick=\"generateWithVariable('df_results')\"\n",
              "            title=\"Generate code using this dataframe.\"\n",
              "            style=\"display:none;\">\n",
              "\n",
              "  <svg xmlns=\"http://www.w3.org/2000/svg\" height=\"24px\"viewBox=\"0 0 24 24\"\n",
              "       width=\"24px\">\n",
              "    <path d=\"M7,19H8.4L18.45,9,17,7.55,7,17.6ZM5,21V16.75L18.45,3.32a2,2,0,0,1,2.83,0l1.4,1.43a1.91,1.91,0,0,1,.58,1.4,1.91,1.91,0,0,1-.58,1.4L9.25,21ZM18.45,9,17,7.55Zm-12,3A5.31,5.31,0,0,0,4.9,8.1,5.31,5.31,0,0,0,1,6.5,5.31,5.31,0,0,0,4.9,4.9,5.31,5.31,0,0,0,6.5,1,5.31,5.31,0,0,0,8.1,4.9,5.31,5.31,0,0,0,12,6.5,5.46,5.46,0,0,0,6.5,12Z\"/>\n",
              "  </svg>\n",
              "    </button>\n",
              "    <script>\n",
              "      (() => {\n",
              "      const buttonEl =\n",
              "        document.querySelector('#id_2bd59b62-5659-4fc0-a7cc-03148c0a1aa7 button.colab-df-generate');\n",
              "      buttonEl.style.display =\n",
              "        google.colab.kernel.accessAllowed ? 'block' : 'none';\n",
              "\n",
              "      buttonEl.onclick = () => {\n",
              "        google.colab.notebook.generateWithVariable('df_results');\n",
              "      }\n",
              "      })();\n",
              "    </script>\n",
              "  </div>\n",
              "\n",
              "    </div>\n",
              "  </div>\n"
            ],
            "application/vnd.google.colaboratory.intrinsic+json": {
              "type": "dataframe",
              "variable_name": "df_results",
              "summary": "{\n  \"name\": \"df_results\",\n  \"rows\": 5,\n  \"fields\": [\n    {\n      \"column\": \"Model\",\n      \"properties\": {\n        \"dtype\": \"string\",\n        \"num_unique_values\": 5,\n        \"samples\": [\n          \"KNN\",\n          \"Logistic Regression\",\n          \"Random Forest\"\n        ],\n        \"semantic_type\": \"\",\n        \"description\": \"\"\n      }\n    },\n    {\n      \"column\": \"Train Accuracy\",\n      \"properties\": {\n        \"dtype\": \"number\",\n        \"std\": 0.21226874002337484,\n        \"min\": 0.50308,\n        \"max\": 1.0,\n        \"num_unique_values\": 5,\n        \"samples\": [\n          0.6889066666666667,\n          0.5034133333333334,\n          1.0\n        ],\n        \"semantic_type\": \"\",\n        \"description\": \"\"\n      }\n    },\n    {\n      \"column\": \"Test Accuracy\",\n      \"properties\": {\n        \"dtype\": \"number\",\n        \"std\": 0.002128172925304697,\n        \"min\": 0.49756,\n        \"max\": 0.50264,\n        \"num_unique_values\": 5,\n        \"samples\": [\n          0.49928,\n          0.49756,\n          0.49796\n        ],\n        \"semantic_type\": \"\",\n        \"description\": \"\"\n      }\n    },\n    {\n      \"column\": \"Cross-Validation Accuracy\",\n      \"properties\": {\n        \"dtype\": \"number\",\n        \"std\": 0.0018603082181903984,\n        \"min\": 0.5006,\n        \"max\": 0.5051333333333334,\n        \"num_unique_values\": 5,\n        \"samples\": [\n          0.5010133333333334,\n          0.5006,\n          0.5012800000000001\n        ],\n        \"semantic_type\": \"\",\n        \"description\": \"\"\n      }\n    }\n  ]\n}"
            }
          },
          "metadata": {},
          "execution_count": 53
        }
      ]
    },
    {
      "cell_type": "markdown",
      "source": [
        "### Выводы"
      ],
      "metadata": {
        "id": "dg87YALGw-hA"
      }
    },
    {
      "cell_type": "markdown",
      "source": [
        "- Похоже, что метод Naive Bayes не находит значимых закономерностей, давая результаты, близкие к случайному угадыванию (около 50 процентом на каждом типе выборки). Таоке случается в ситуациях, когда признаки не соответствуют предположению о независимости (как в Наивном Байесовском классификаторе).\n",
        "- Говоря о резульататх метода К билжайших соседий можно сказать, что модель переобучена – мы набдюдаем хорошие результаты на обучающих данных, но падение до случайного уровня на тестовых данных.\n",
        "- Метод случацного леса: эта модель сильно переобучена – она идеально подстроилась под обучающие данные, но не умеет обобщать их на новые примеры. Мы еще не настроили параметры глубины и дерево по видимости получилось глубоким.\n",
        "- Модель градиентного бустинга чуть лучше угадывает на тестовой выборке, но всё равно недостаточно эффективна. Возможно, количество деревьев слишком мало или есть проблема с важностью признаков.\n",
        "- Финально, логистическая регрессия тоже не дает результатов выше случайного угадывания, что может означать, что данные плохо линейно разделимы."
      ],
      "metadata": {
        "id": "wcIe9UnUwsmc"
      }
    },
    {
      "cell_type": "code",
      "source": [
        "from sklearn.model_selection import GridSearchCV\n",
        "from sklearn.preprocessing import LabelEncoder\n",
        "\n",
        "# Преобразуем y_train в числовые категории\n",
        "encoder = LabelEncoder()\n",
        "y_train = encoder.fit_transform(y_train)\n",
        "y_test = encoder.transform(y_test)\n",
        "\n",
        "param_grid = {\n",
        "    \"KNN\": {\"n_neighbors\": [3, 5, 7, 9]},\n",
        "    \"Random Forest\": {\"n_estimators\": [100, 200, 300], \"max_depth\": [None, 10, 20]},\n",
        "    \"Gradient Boosting\": {\"n_estimators\": [100, 200], \"learning_rate\": [0.01, 0.1, 0.2]},\n",
        "    \"Logistic Regression\": {\"C\": [0.1, 1, 10], \"max_iter\": [500, 1000]}\n",
        "}\n",
        "\n",
        "best_models = {}\n",
        "\n",
        "for name, model in models.items():\n",
        "    grid_search = GridSearchCV(model, param_grid.get(name, {}), cv=5, scoring='accuracy')\n",
        "    grid_search.fit(X_train, y_train)\n",
        "    best_models[name] = grid_search.best_estimator_\n",
        "\n",
        "    print(f\"Best params for {name}: {grid_search.best_params_}\")\n",
        "\n",
        "df_results = []\n",
        "for name, model in best_models.items():\n",
        "    train_acc = accuracy_score(y_train, model.predict(X_train))\n",
        "    test_acc = accuracy_score(y_test, model.predict(X_test))\n",
        "    cv_acc = np.mean(cross_val_score(model, X_train, y_train, cv=5))\n",
        "\n",
        "    df_results.append([name, train_acc, test_acc, cv_acc])\n",
        "\n",
        "df_results = pd.DataFrame(df_results, columns=[\"Model\", \"Train Accuracy\", \"Test Accuracy\", \"Cross-Validation Accuracy\"])\n",
        "print(df_results)\n",
        "\n",
        "\n"
      ],
      "metadata": {
        "colab": {
          "base_uri": "https://localhost:8080/"
        },
        "id": "wPcb-TehC_vf",
        "outputId": "a3dd4443-97a2-4283-8995-d0975abc4fec"
      },
      "execution_count": null,
      "outputs": [
        {
          "output_type": "stream",
          "name": "stdout",
          "text": [
            "Best params for Naive Bayes: {}\n",
            "Best params for KNN: {'n_neighbors': 7}\n",
            "Best params for Random Forest: {'max_depth': 10, 'n_estimators': 300}\n",
            "Best params for Gradient Boosting: {'learning_rate': 0.1, 'n_estimators': 100}\n",
            "Best params for Logistic Regression: {'C': 0.1, 'max_iter': 500}\n",
            "                 Model  Train Accuracy  Test Accuracy  \\\n",
            "0          Naive Bayes        0.503080        0.50100   \n",
            "1                  KNN        0.656307        0.49812   \n",
            "2        Random Forest        0.651827        0.49868   \n",
            "3    Gradient Boosting        0.535013        0.50264   \n",
            "4  Logistic Regression        0.503373        0.49752   \n",
            "\n",
            "   Cross-Validation Accuracy  \n",
            "0                   0.501160  \n",
            "1                   0.501253  \n",
            "2                   0.503213  \n",
            "3                   0.505133  \n",
            "4                   0.500600  \n"
          ]
        }
      ]
    },
    {
      "cell_type": "code",
      "source": [
        "from itertools import product\n",
        "\n",
        "params = {\n",
        "    'max_depth': [3, 5, 10, 25, 50],\n",
        "    'max_features': [1, 2, 3],\n",
        "    'max_samples': [200, 500, 1000],\n",
        "    'min_samples_leaf': [3, 5, 10, 25]\n",
        "}\n",
        "param_combinations = product(params['max_depth'], params['max_features'], params['max_samples'], params['min_samples_leaf'])\n",
        "\n",
        "oob_scores = []\n",
        "for q, w, e, r in param_combinations:\n",
        "    rf_oob_i = RandomForestClassifier(\n",
        "        max_depth=q,\n",
        "        max_features=w,\n",
        "        max_samples=e,\n",
        "        min_samples_leaf=r,\n",
        "        criterion='entropy',\n",
        "        oob_score=True\n",
        "    )\n",
        "    rf_oob_i.fit(X_train, y_train)\n",
        "    oob_scores.append([q, w, e, r, rf_oob_i.oob_score_])\n",
        "oob_scores"
      ],
      "metadata": {
        "id": "1A1EYDpv7Bg6"
      },
      "execution_count": null,
      "outputs": []
    },
    {
      "cell_type": "code",
      "source": [
        "#с другой метрикой качества\n",
        "from sklearn.metrics import f1_score, make_scorer, confusion_matrix\n",
        "import numpy as np\n",
        "import pandas as pd\n",
        "from sklearn.model_selection import GridSearchCV, cross_val_score\n",
        "\n",
        "# Используем F1-score в качестве критерия качества\n",
        "scorer = make_scorer(f1_score, average=\"weighted\")\n",
        "\n",
        "best_models = {}  # Хранит лучшие модели\n",
        "\n",
        "for name, model in models.items():\n",
        "    grid_search = GridSearchCV(model, param_grid.get(name, {}), cv=5, scoring=scorer)\n",
        "    grid_search.fit(X_train, y_train)\n",
        "    best_models[name] = grid_search.best_estimator_\n",
        "\n",
        "    print(f\"Best params for {name}: {grid_search.best_params_}\")\n",
        "\n",
        "df_results = []  # Хранит метрики моделей\n",
        "\n",
        "for name, model in best_models.items():\n",
        "    y_train_pred = model.predict(X_train)\n",
        "    y_test_pred = model.predict(X_test)\n",
        "\n",
        "    train_f1 = f1_score(y_train, y_train_pred, average=\"weighted\")\n",
        "    test_f1 = f1_score(y_test, y_test_pred, average=\"weighted\")\n",
        "    cv_f1 = np.mean(cross_val_score(model, X_train, y_train, cv=5, scoring=scorer))\n",
        "\n",
        "    df_results.append([name, train_f1, test_f1, cv_f1])\n",
        "\n",
        "    # Выводим confusion matrix для каждой модели\n",
        "    print(f\"\\nConfusion Matrix for {name} (Test Data):\")\n",
        "    print(confusion_matrix(y_test, y_test_pred))\n",
        "\n",
        "df_results = pd.DataFrame(df_results, columns=[\"Model\", \"Train F1\", \"Test F1\", \"Cross-Validation F1\"])\n",
        "print(df_results)\n",
        "\n"
      ],
      "metadata": {
        "id": "RhhAOmvlcVb2"
      },
      "execution_count": null,
      "outputs": []
    },
    {
      "cell_type": "code",
      "source": [
        "from sklearn.metrics import accuracy_score, precision_score, recall_score, f1_score, make_scorer"
      ],
      "metadata": {
        "id": "bpqdWNNCkMHA"
      },
      "execution_count": null,
      "outputs": []
    },
    {
      "cell_type": "code",
      "source": [
        "#повышенная сложность\n",
        "def custom_classification_metric(y_true, y_pred):\n",
        "    accuracy = accuracy_score(y_true, y_pred)\n",
        "    precision = precision_score(y_true, y_pred, average=\"weighted\")\n",
        "    recall = recall_score(y_true, y_pred, average=\"weighted\")\n",
        "    f1 = f1_score(y_true, y_pred, average=\"weighted\")\n",
        "    return (accuracy + precision + recall + f1) / 4\n",
        "\n",
        "# Создаем метрику для GridSearchCV\n",
        "custom_scorer = make_scorer(custom_classification_metric)\n",
        "\n",
        "# Гиперпараметры для перебора\n",
        "param_grid = {\n",
        "    \"DecisionTreeClassifier\": {\n",
        "        \"max_depth\": [3, 5, 10, 25, 50],\n",
        "        \"max_features\": [1, 2, 3],\n",
        "        \"min_samples_leaf\": [3, 5, 10, 25]\n",
        "    },\n",
        "    \"RandomForestClassifier\": {\n",
        "        \"max_depth\": [3, 5, 10, 25, 50],\n",
        "        \"max_features\": [1, 2, 3],\n",
        "        \"min_samples_leaf\": [3, 5, 10, 25],\n",
        "        \"max_samples\": [200, 500, 1000]\n",
        "    }\n",
        "}\n",
        "\n",
        "# Модели\n",
        "from sklearn.tree import DecisionTreeClassifier\n",
        "from sklearn.ensemble import RandomForestClassifier\n",
        "\n",
        "models = {\n",
        "    \"DecisionTreeClassifier\": DecisionTreeClassifier(),\n",
        "    \"RandomForestClassifier\": RandomForestClassifier()\n",
        "}\n",
        "\n",
        "best_models = {}\n",
        "\n",
        "for name, model in models.items():\n",
        "    grid_search = GridSearchCV(model, param_grid.get(name, {}), cv=5, scoring=custom_scorer)\n",
        "    grid_search.fit(X_train, y_train)\n",
        "    best_models[name] = grid_search.best_estimator_\n",
        "    print(f\"Best params for {name}: {grid_search.best_params_}\")\n",
        "\n",
        "# Оценка лучших моделей\n",
        "df_results = []\n",
        "for name, model in best_models.items():\n",
        "    train_score = custom_classification_metric(y_train, model.predict(X_train))\n",
        "    test_score = custom_classification_metric(y_test, model.predict(X_test))\n",
        "    cv_score = np.mean(cross_val_score(model, X_train, y_train, cv=5, scoring=custom_scorer))\n",
        "\n",
        "    df_results.append([name, train_score, test_score, cv_score])\n",
        "\n",
        "df_results = pd.DataFrame(df_results, columns=[\"Model\", \"Train Score\", \"Test Score\", \"Cross-Validation Score\"])\n",
        "print(df_results)"
      ],
      "metadata": {
        "id": "aIxdAaxwGcNu"
      },
      "execution_count": null,
      "outputs": []
    },
    {
      "cell_type": "markdown",
      "source": [
        "Преимущества:\n",
        "Учитывает баланс между Precision и Recall\n",
        "Если в данных есть дисбаланс классов (например, один класс встречается гораздо чаще других), F1-score помогает лучше оценить модель, чем accuracy.\n",
        "Более информативен в задачах с несбалансированными классами\n",
        "Accuracy может быть обманчиво высокой, если модель просто предсказывает наиболее частый класс, тогда как F1-score штрафует за такие предсказания.\n",
        "Лучше подходит для задач с важными ложными положительными (FP) и ложными отрицательными (FN) результатами\n",
        "Например, в медицинской диагностике (где важны как FN, так и FP) F1-score помогает сбалансировать эти ошибки.\n",
        "Недостатки:\n",
        "Может быть сложнее интерпретировать\n",
        "Accuracy дает интуитивно понятное представление о доле правильных предсказаний, тогда как F1-score комбинирует два метрики (Precision и Recall), что может быть менее очевидным для понимания.\n",
        "Не отражает вероятность модели\n",
        "Если модель хорошо прогнозирует с высокой уверенностью, но имеет небольшое число FP и FN, F1-score может быть не таким высоким, как хотелось бы, даже если модель все же полезна.\n",
        "Не всегда предпочтительнее\n",
        "Если классы сбалансированы и цель — просто максимизировать точность предсказаний, то accuracy может быть достаточной метрикой."
      ],
      "metadata": {
        "id": "rNooSsAwc9rq"
      }
    },
    {
      "cell_type": "code",
      "source": [
        "#ROC-AUC\n",
        "import numpy as np\n",
        "import matplotlib.pyplot as plt\n",
        "from sklearn.metrics import roc_curve, auc\n",
        "from sklearn.preprocessing import label_binarize\n",
        "from sklearn.model_selection import cross_val_predict\n",
        "\n",
        "# Бинаризация меток классов (для многоклассового случая)\n",
        "n_classes = len(np.unique(y_train))\n",
        "y_test_bin = label_binarize(y_test, classes=np.unique(y_train))\n",
        "\n",
        "plt.figure(figsize=(10, 7))\n",
        "\n",
        "for name, model in best_models.items():\n",
        "    if hasattr(model, \"predict_proba\"):\n",
        "        y_score = model.predict_proba(X_test)  # Используем вероятности классов\n",
        "    else:\n",
        "        y_score = cross_val_predict(model, X_test, y_test, cv=5, method=\"decision_function\")\n",
        "\n",
        "    if n_classes > 2:  # Многоклассовая классификация (One-vs-Rest)\n",
        "        roc_auc = []\n",
        "        for i in range(n_classes):\n",
        "            fpr, tpr, _ = roc_curve(y_test_bin[:, i], y_score[:, i])\n",
        "            auc_score = auc(fpr, tpr)\n",
        "            roc_auc.append(auc_score)\n",
        "            plt.plot(fpr, tpr, lw=2, label=f\"{name} (class {i}, AUC={auc_score:.3f})\")\n",
        "\n",
        "        mean_auc = np.mean(roc_auc)  # Средний AUC по классам\n",
        "        print(f\"{name}: Mean AUC = {mean_auc:.3f}\")\n",
        "\n",
        "    else:  # Бинарная классификация\n",
        "        fpr, tpr, _ = roc_curve(y_test, y_score[:, 1])\n",
        "        auc_score = auc(fpr, tpr)\n",
        "        plt.plot(fpr, tpr, lw=2, label=f\"{name} (AUC={auc_score:.3f})\")\n",
        "        print(f\"{name}: AUC = {auc_score:.3f}\")\n",
        "\n",
        "# Графические настройки\n",
        "plt.plot([0, 1], [0, 1], linestyle=\"--\", color=\"gray\")  # Линия случайного угадывания\n",
        "plt.xlabel(\"False Positive Rate\")\n",
        "plt.ylabel(\"True Positive Rate\")\n",
        "plt.title(\"ROC-кривая для моделей\")\n",
        "plt.legend(loc=\"lower right\")\n",
        "plt.show()\n"
      ],
      "metadata": {
        "id": "sjDP1UZyer0g"
      },
      "execution_count": null,
      "outputs": []
    },
    {
      "cell_type": "code",
      "source": [],
      "metadata": {
        "id": "KhToF79FGm_1"
      },
      "execution_count": null,
      "outputs": []
    },
    {
      "cell_type": "code",
      "execution_count": null,
      "metadata": {
        "id": "NJr5Pw3qlnbi"
      },
      "outputs": [],
      "source": [
        "# Визуализируем предполагаемые связи\n",
        "\n",
        "# Стиль отображения графика\n",
        "nx_options = {\n",
        "    'node_color': 'white',\n",
        "    'node_size': 2000,\n",
        "    'width': 3,\n",
        "    'arrowstyle': '-|>',\n",
        "    'arrowsize': 12,\n",
        "}\n",
        "\n",
        "# Связи\n",
        "edges = [\n",
        "    ('Deficit', 'Taxes'),         # (откуда стрелочка, куда стрелочка)\n",
        "    ('Progressive', 'Taxes'),\n",
        "    ('Grey', 'Taxes'),\n",
        "    ('Rate', 'Taxes'),\n",
        "    ('Culture', 'Taxes'),\n",
        "    ('Culture', 'Rate'),\n",
        "    ('Inequality', 'Rate'),\n",
        "\n",
        "]\n",
        "\n",
        "# Инициализируем граф\n",
        "G = nx.DiGraph(directed = True)\n",
        "G.add_edges_from(edges)\n",
        "\n",
        "# Отображаем граф\n",
        "np.random.seed(8)\n",
        "nx.draw_networkx(G, arrows = True, **nx_options)"
      ]
    },
    {
      "cell_type": "code",
      "source": [
        "pip install pgmpy"
      ],
      "metadata": {
        "id": "taiF-_xITgoZ"
      },
      "execution_count": null,
      "outputs": []
    },
    {
      "cell_type": "code",
      "source": [
        "X = df[['deficit', 'inequality', 'culture', 'grey', 'progressive']]\n",
        "y = df['rate']\n",
        "\n",
        "X_train, X_test, y_train, y_test = train_test_split(X, y, test_size=0.25, random_state=42)"
      ],
      "metadata": {
        "id": "sBCpnhj0RAxB"
      },
      "execution_count": null,
      "outputs": []
    },
    {
      "cell_type": "code",
      "source": [
        "import seaborn as sns\n",
        "import matplotlib.pyplot as plt\n",
        "\n",
        "for name, model in best_models.items():\n",
        "    y_pred = model.predict(X_test)\n",
        "    cm = confusion_matrix(y_test, y_pred)\n",
        "\n",
        "    plt.figure(figsize=(6, 4))\n",
        "    sns.heatmap(cm, annot=True, fmt='d', cmap='Blues', xticklabels=set(y_test), yticklabels=set(y_test))\n",
        "    plt.xlabel(\"Predicted Label\")\n",
        "    plt.ylabel(\"True Label\")\n",
        "    plt.title(f\"Confusion Matrix - {name}\")\n",
        "    plt.show()\n"
      ],
      "metadata": {
        "id": "POwec_uDQIbg"
      },
      "execution_count": null,
      "outputs": []
    },
    {
      "cell_type": "code",
      "source": [],
      "metadata": {
        "id": "tOhFrPbCS01H"
      },
      "execution_count": null,
      "outputs": []
    },
    {
      "cell_type": "code",
      "source": [],
      "metadata": {
        "id": "XCCZWqTzWtka"
      },
      "execution_count": null,
      "outputs": []
    },
    {
      "cell_type": "markdown",
      "metadata": {
        "id": "-4qa6H9tGnUf"
      },
      "source": [
        "## Регрессия"
      ]
    },
    {
      "cell_type": "markdown",
      "metadata": {
        "id": "8ihXaS6DGqAA"
      },
      "source": [
        "Таргет - налоговые поступления правительства\n",
        "\n",
        "Возьмем все признаки, кроме переменной воздействия"
      ]
    },
    {
      "cell_type": "markdown",
      "metadata": {
        "id": "ZCe6tBvyHhlD"
      },
      "source": [
        "Будем использовать случайный лес, МНК, градиентный бустинг."
      ]
    },
    {
      "cell_type": "code",
      "execution_count": null,
      "metadata": {
        "id": "RthOS53cGyXb"
      },
      "outputs": [],
      "source": [
        "from sklearn.ensemble import RandomForestRegressor\n",
        "from sklearn.linear_model import LinearRegression\n",
        "from sklearn.ensemble import GradientBoostingRegressor\n",
        "from sklearn.metrics import mean_squared_error, mean_absolute_percentage_error\n",
        "from sklearn.model_selection import train_test_split, cross_val_score"
      ]
    },
    {
      "cell_type": "code",
      "execution_count": null,
      "metadata": {
        "id": "PBsjHkRRrFiV"
      },
      "outputs": [],
      "source": [
        "#отбрем признаки. туда войдет все, кроме переменной воздействия (по условию задания )"
      ]
    },
    {
      "cell_type": "code",
      "execution_count": null,
      "metadata": {
        "id": "NkMHEoV9rMGw"
      },
      "outputs": [],
      "source": [
        "df"
      ]
    },
    {
      "cell_type": "code",
      "execution_count": null,
      "metadata": {
        "id": "Xo_dOFDurvih"
      },
      "outputs": [],
      "source": [
        "y = df['taxes']\n",
        "X = df[['deficit', 'grey', 'inequality', 'progressive']]"
      ]
    },
    {
      "cell_type": "code",
      "execution_count": null,
      "metadata": {
        "id": "UUBvTCyysreA"
      },
      "outputs": [],
      "source": [
        "X_train, X_test, y_train, y_test = train_test_split(X, y, test_size=0.25, random_state=42)\n"
      ]
    },
    {
      "cell_type": "code",
      "execution_count": null,
      "metadata": {
        "id": "Y5CGrPqaiJrJ"
      },
      "outputs": [],
      "source": [
        "models = {\n",
        "    'LinearRegression': LinearRegression(),\n",
        "    'RandomForest': RandomForestRegressor(n_estimators=100, max_depth=5, random_state=42),\n",
        "    'XGBoost': GradientBoostingRegressor(n_estimators=100, max_depth=3, learning_rate=0.1, random_state=42)\n",
        "}"
      ]
    },
    {
      "cell_type": "code",
      "execution_count": null,
      "metadata": {
        "id": "c5m2YnuEs0VT"
      },
      "outputs": [],
      "source": [
        "#эта часть кода была оптимизирована при помощи chat gpt - в промпт передана была структура датафрейма и само задание\n",
        "def evaluate_model(model, X_train, y_train, X_test, y_test):\n",
        "    model.fit(X_train, y_train)\n",
        "    y_train_pred = model.predict(X_train)\n",
        "    y_test_pred = model.predict(X_test)\n",
        "\n",
        "    results = {\n",
        "        'RMSE_train': np.sqrt(mean_squared_error(y_train, y_train_pred)),\n",
        "        'RMSE_test': np.sqrt(mean_squared_error(y_test, y_test_pred)),\n",
        "        'MAPE_train': mean_absolute_percentage_error(y_train, y_train_pred),\n",
        "        'MAPE_test': mean_absolute_percentage_error(y_test, y_test_pred)\n",
        "    }\n",
        "    return results\n"
      ]
    },
    {
      "cell_type": "code",
      "execution_count": null,
      "metadata": {
        "id": "GAdd2uz6t3Q_"
      },
      "outputs": [],
      "source": [
        "results = {}\n",
        "for name, model in models.items():\n",
        "    results[name] = evaluate_model(model, X_train, y_train, X_test, y_test)"
      ]
    },
    {
      "cell_type": "code",
      "execution_count": null,
      "metadata": {
        "id": "hNvxHsvptZK7"
      },
      "outputs": [],
      "source": [
        "results_df = pd.DataFrame(results).T\n",
        "print(results_df)"
      ]
    },
    {
      "cell_type": "code",
      "execution_count": null,
      "metadata": {
        "id": "7_lVSXcEt7TR"
      },
      "outputs": [],
      "source": [
        "def cross_val_rmse(model, X, y):\n",
        "    scores = cross_val_score(model, X, y, cv=5, scoring='neg_root_mean_squared_error')\n",
        "    return -scores.mean()\n",
        "\n",
        "cv_results = {name: cross_val_rmse(model, X_train, y_train) for name, model in models.items()}\n",
        "print(\"\\nКросс-валидация RMSE:\")\n",
        "print(pd.Series(cv_results))"
      ]
    },
    {
      "cell_type": "code",
      "execution_count": null,
      "metadata": {
        "id": "IL7MINSkwR4u"
      },
      "outputs": [],
      "source": [
        "#с подбором гиперпараметров\n",
        "from sklearn.model_selection import GridSearchCV"
      ]
    },
    {
      "cell_type": "code",
      "execution_count": null,
      "metadata": {
        "id": "FqVV-jL4kSR3"
      },
      "outputs": [],
      "source": [
        "param_grid_rf = {\n",
        "    'n_estimators': [50, 100, 10],\n",
        "    'max_depth': [3, 5, 3]\n",
        "}\n",
        "\n",
        "param_grid_xgb = {\n",
        "    'n_estimators': [50, 100, 10],\n",
        "    'max_depth': [3, 5, 3],\n",
        "    'learning_rate': [0.01, 0.1, 0.5]\n",
        "}\n",
        "\n",
        "rf_grid_search = GridSearchCV(RandomForestRegressor(random_state=42), param_grid_rf, cv=5, scoring='neg_root_mean_squared_error', n_jobs=-1)\n",
        "rf_grid_search.fit(X_train, y_train)\n",
        "\n",
        "xgb_grid_search = GridSearchCV(GradientBoostingRegressor(random_state=42), param_grid_xgb, cv=5, scoring='neg_root_mean_squared_error', n_jobs=-1)\n",
        "xgb_grid_search.fit(X_train, y_train)\n",
        "\n",
        "best_params_rf = rf_grid_search.best_params_\n",
        "optimized_rf = RandomForestRegressor(**best_params_rf, random_state=42)\n",
        "optimized_rf.fit(X_train, y_train)\n",
        "\n",
        "best_params_xgb = xgb_grid_search.best_params_\n",
        "optimized_xgb = GradientBoostingRegressor(**best_params_xgb, random_state=42)\n",
        "optimized_xgb.fit(X_train, y_train)\n"
      ]
    },
    {
      "cell_type": "code",
      "execution_count": null,
      "metadata": {
        "id": "CEs7QGmZthB6"
      },
      "outputs": [],
      "source": [
        "rf_results_before = evaluate_model(models['RandomForest'], X_train, y_train, X_test, y_test)\n",
        "rf_results_after = evaluate_model(optimized_rf, X_train, y_train, X_test, y_test)\n",
        "\n",
        "xgb_results_before = evaluate_model(models['XGBoost'], X_train, y_train, X_test, y_test)\n",
        "xgb_results_after = evaluate_model(optimized_xgb, X_train, y_train, X_test, y_test)"
      ]
    },
    {
      "cell_type": "code",
      "execution_count": null,
      "metadata": {
        "id": "Akt5CENQtaC_"
      },
      "outputs": [],
      "source": [
        "final_comparison = pd.DataFrame({\n",
        "    'Initial RandomForest': rf_results_before,\n",
        "    'Tuned RandomForest': rf_results_after,\n",
        "    'Initial XGBoost': xgb_results_before,\n",
        "    'Tuned XGBoost': xgb_results_after\n",
        "}).T"
      ]
    },
    {
      "cell_type": "code",
      "execution_count": null,
      "metadata": {
        "id": "HGeOdm9At0Sw"
      },
      "outputs": [],
      "source": [
        "final_comparison"
      ]
    },
    {
      "cell_type": "code",
      "source": [
        "from sklearn.metrics import confusion_matrix"
      ],
      "metadata": {
        "id": "-bmYU3icQJtW"
      },
      "execution_count": null,
      "outputs": []
    },
    {
      "cell_type": "markdown",
      "source": [
        "Предположим, что правительство государства хочет собрать налоговые поступления в зависимости от налоговой ставки (высокая/низкая).\n",
        "\n",
        "1) Если мы как правительство установим высокую ставку и население не будет уклоняться от налогов (ТР), то мы получим полезность +10\n",
        "\n",
        "2) Если мы как правительство установим высокую ставку и население будет уклоняться от налогов (FP), то мы получим ущерб -10, потому что это продолжает разрушать институциональную среду и не позволяет выработать хорошую налоговую систему\n",
        "\n",
        "3) Если мы как правительство установим низкую ставку и население не будет уклоняться от налогов (FN), то мы получим полезность +1, потому что могли бы собрать больше\n",
        "\n",
        "4) Если как правительство установим низкую ставку и население не будет уклоняться от налогов (ТN), то мы получим полезность +2, потому что соберем налоги и заложим хорошую институциональную базу"
      ],
      "metadata": {
        "id": "O-PV3D8oOZQm"
      }
    },
    {
      "cell_type": "markdown",
      "source": [
        "## Эффекты воздействия\n"
      ],
      "metadata": {
        "id": "sMFV_91hW0sO"
      }
    },
    {
      "cell_type": "code",
      "source": [
        "#ATE\n",
        "TE = taxes1 - taxes0\n",
        "ATE = np.mean(TE)\n",
        "print(ATE)\n",
        "\n",
        "\n",
        "#LATE\n",
        "LATE = np.mean(TE[cnt_type == 'Complier'])\n",
        "print(LATE)\n",
        "\n",
        "#CATE\n",
        "CATE = g1 - g0\n",
        "plt.figure(figsize=(8,5))\n",
        "sns.histplot(CATE, bins=30, kde=True)\n",
        "plt.title('CATE: Распределение условного среднего эффекта воздействия')\n",
        "plt.xlabel('CATE')\n",
        "plt.ylabel('Плотность')\n",
        "plt.show()\n",
        "plt.savefig(\"CATE_plot.png\", dpi=300, bbox_inches=\"tight\")"
      ],
      "metadata": {
        "id": "tD2vpbDEW3kH",
        "colab": {
          "base_uri": "https://localhost:8080/",
          "height": 538
        },
        "outputId": "32913885-c09a-40af-a404-b99bbb9540ad"
      },
      "execution_count": null,
      "outputs": [
        {
          "output_type": "stream",
          "name": "stdout",
          "text": [
            "21.747217255828673\n",
            "23.346239186214614\n"
          ]
        },
        {
          "output_type": "display_data",
          "data": {
            "text/plain": [
              "<Figure size 800x500 with 1 Axes>"
            ],
            "image/png": "[encoded data removed]"
          },
          "metadata": {}
        },
        {
          "output_type": "display_data",
          "data": {
            "text/plain": [
              "<Figure size 640x480 with 0 Axes>"
            ]
          },
          "metadata": {}
        }
      ]
    },
    {
      "cell_type": "code",
      "source": [
        "results_df = pd.DataFrame({'Метрика': ['ATE', 'LATE'], 'Значение': [ATE, LATE]})\n",
        "print(results_df)"
      ],
      "metadata": {
        "id": "AVcUADFPYzOo"
      },
      "execution_count": null,
      "outputs": []
    },
    {
      "cell_type": "code",
      "source": [
        "ATE_naive = df[df['rate'] == 1]['taxes'].mean() - df[df['rate'] == 0]['taxes'].mean()\n",
        "print(ATE_naive)"
      ],
      "metadata": {
        "id": "FWHD1nwRZAn2"
      },
      "execution_count": null,
      "outputs": []
    },
    {
      "cell_type": "code",
      "source": [
        "import statsmodels.api as sm"
      ],
      "metadata": {
        "id": "epf_TSVNaEdT"
      },
      "execution_count": null,
      "outputs": []
    },
    {
      "cell_type": "code",
      "source": [
        "y0 = df.loc[rate == 0, ['taxes']]\n",
        "x0 = df.loc[rate == 0, df.columns.drop(['taxes', 'culture', 'rate'])]\n",
        "x0 = sm.add_constant(x0)\n",
        "ls0 = sm.OLS(y0, x0).fit()\n",
        "\n",
        "y1 = df.loc[rate == 1, ['taxes']]\n",
        "x1 = df.loc[rate == 1, df.columns.drop(['taxes', 'culture', 'rate'])]\n",
        "x1 = sm.add_constant(x1)\n",
        "ls1 = sm.OLS(y1, x1).fit()\n",
        "\n",
        "x = df.loc[:, df.columns.drop(['taxes', 'culture', 'rate'])]\n",
        "x = sm.add_constant(x)\n",
        "IMT0_ls = ls0.predict(x)\n",
        "IMT1_ls = ls1.predict(x)\n",
        "\n",
        "# Оценки CATE\n",
        "CATE_ls = np.array(IMT1_ls - IMT0_ls)\n",
        "\n",
        "# Оценка ATE как средняя разница в прогнозах МНК оценок\n",
        "ATE_ls = np.mean(CATE_ls)\n",
        "print(ATE_ls)"
      ],
      "metadata": {
        "id": "zS7i_cqAZVmk"
      },
      "execution_count": null,
      "outputs": []
    },
    {
      "cell_type": "code",
      "source": [
        "from sklearn.ensemble import GradientBoostingRegressor\n",
        "from sklearn.ensemble import RandomForestClassifier\n",
        "from sklearn.linear_model import LinearRegression\n",
        "from sklearn.neighbors import KNeighborsClassifier"
      ],
      "metadata": {
        "id": "wJ5jkDqfaIVj"
      },
      "execution_count": null,
      "outputs": []
    },
    {
      "cell_type": "code",
      "source": [
        "y0 = df.loc[rate == 0, ['taxes']]\n",
        "x0 = df.loc[rate == 0, df.columns.drop(['taxes', 'culture', 'rate'])]\n",
        "x0 = sm.add_constant(x0)\n",
        "\n",
        "y1 = df.loc[rate == 1, ['taxes']]\n",
        "x1 = df.loc[rate == 1, df.columns.drop(['taxes', 'culture', 'rate'])]\n",
        "x1 = sm.add_constant(x1)\n",
        "\n",
        "x = df.loc[:, df.columns.drop(['taxes', 'culture', 'rate'])]\n",
        "x = sm.add_constant(x)\n",
        "\n",
        "\n",
        "reg3 = GradientBoostingRegressor(**{'learning_rate': 0.1, 'max_depth': 3, 'n_estimators': 100})\n",
        "reg3.fit(x0, y0)\n",
        "\n",
        "taxes0_reg3 = reg3.predict(x)\n",
        "\n",
        "reg3.fit(x1, y1)\n",
        "\n",
        "taxes1_reg3 = reg3.predict(x)\n",
        "\n",
        "CATE_T = taxes1_reg3 - taxes0_reg3\n",
        "\n",
        "ATE_CM = np.mean(CATE_T)\n",
        "print(ATE_CM)"
      ],
      "metadata": {
        "id": "Gx5Pcb9dLMfL"
      },
      "execution_count": null,
      "outputs": []
    },
    {
      "cell_type": "code",
      "source": [
        "from sklearn.ensemble import RandomForestClassifier\n",
        "target = df.loc[:, ['rate']]\n",
        "features = df.loc[:, df.columns.drop(['taxes', 'culture', 'rate'])]\n",
        "\n",
        "clf =  RandomForestClassifier(max_depth = 5,\n",
        "                                 max_features = 1,\n",
        "                                 max_samples = 500,\n",
        "                                 min_samples_leaf = 10,\n",
        "                                 criterion = 'entropy',\n",
        "                                 random_state = 42)\n",
        "clf.fit(features, target)\n",
        "\n",
        "prob_clf  = clf.predict_proba(features)[:, 1]\n",
        "\n",
        "taxes_pseudo = (taxes * rate) / prob_clf  - (taxes * (1 - rate)) / (1 - prob_clf)\n",
        "\n",
        "ATE_IPW = np.mean(taxes_pseudo)\n",
        "print(ATE_IPW)"
      ],
      "metadata": {
        "id": "N_mnVbuGNSvR"
      },
      "execution_count": null,
      "outputs": []
    },
    {
      "cell_type": "code",
      "source": [
        "from sklearn.ensemble import RandomForestRegressor, GradientBoostingClassifier\n",
        "\n",
        "reg =  GradientBoostingRegressor(**{'learning_rate': 0.1, 'max_depth': 3, 'n_estimators': 100})\n",
        "\n",
        "y = df.loc[:, ['taxes']]\n",
        "x = df.loc[:, df.columns.drop(['taxes', 'culture'])]\n",
        "x0 = deepcopy(x)\n",
        "x0['rate'] = 0\n",
        "x1 = deepcopy(x)\n",
        "x1['rate'] = 1\n",
        "\n",
        "\n",
        "reg.fit(x, y)\n",
        "\n",
        "taxes1_clf = reg.predict(x1)\n",
        "taxes0_clf = reg.predict(x0)\n",
        "\n",
        "ATE_DR = np.mean((taxes1_clf - taxes0_clf) + \\\n",
        "                 rate * (taxes -taxes1_clf) / prob_clf - \\\n",
        "                 (1 - rate) * (taxes - taxes0_clf) / (1 - prob_clf))\n",
        "print(ATE_DR)"
      ],
      "metadata": {
        "id": "O47G1-NUOTly"
      },
      "execution_count": null,
      "outputs": []
    },
    {
      "cell_type": "code",
      "source": [
        "pip install doubleml"
      ],
      "metadata": {
        "id": "0Mq07PcOsk_C"
      },
      "execution_count": null,
      "outputs": []
    },
    {
      "cell_type": "code",
      "source": [
        "import doubleml as dml\n",
        "\n",
        "dml_standard_data = dml.DoubleMLData(\n",
        "                            data = df,\n",
        "                            y_col = 'taxes',\n",
        "                            d_cols = 'rate',\n",
        "                            x_cols = ['deficit', 'progressive', 'grey'])\n",
        "\n",
        "g_Y = GradientBoostingRegressor(**{'learning_rate': 0.1, 'max_depth': 3, 'n_estimators': 100})\n",
        "\n",
        "g_T = RandomForestClassifier(max_depth = 5,\n",
        "                                 max_features = 1,\n",
        "                                 max_samples = 500,\n",
        "                                 min_samples_leaf = 10,\n",
        "                                 criterion = 'entropy',\n",
        "                                 random_state = 52)\n",
        "\n",
        "dml_standard = dml.DoubleMLIRM(obj_dml_data = dml_standard_data,\n",
        "                               ml_g = g_Y, ml_m = g_T,\n",
        "                              #  apply_cross_fitting = True,\n",
        "                               n_rep = 1,\n",
        "                               n_folds = 5)\n",
        "\n",
        "dml_standard.fit()\n",
        "\n",
        "ATE_dml_standard = dml_standard.coef[0]\n",
        "ATE_dml_standard"
      ],
      "metadata": {
        "id": "K_mmmJqss4yK"
      },
      "execution_count": null,
      "outputs": []
    },
    {
      "cell_type": "code",
      "source": [
        "dml_standard2_data = dml.DoubleMLData(\n",
        "                             data = df,\n",
        "                             y_col = 'taxes',\n",
        "                             d_cols = 'rate',\n",
        "                             x_cols = ['deficit', 'grey', 'progressive'])\n",
        "\n",
        "dml_standard2 = dml.DoubleMLIRM(obj_dml_data = dml_standard2_data,\n",
        "                                ml_g = g_Y, ml_m = g_T,\n",
        "                                #apply_cross_fitting = True,\n",
        "                                n_rep = 1,\n",
        "                                n_folds = 5)\n",
        "\n",
        "dml_standard2.fit()\n",
        "\n",
        "LATE_dml_standard2 = dml_standard2.coef[0]\n",
        "print(LATE_dml_standard2)"
      ],
      "metadata": {
        "id": "0LF3sfn9tPCN"
      },
      "execution_count": null,
      "outputs": []
    },
    {
      "cell_type": "code",
      "source": [
        "df"
      ],
      "metadata": {
        "id": "992v88aUgLR1"
      },
      "execution_count": null,
      "outputs": []
    },
    {
      "cell_type": "code",
      "source": [
        "df"
      ],
      "metadata": {
        "id": "Hy-jjAUfg1XN"
      },
      "execution_count": null,
      "outputs": []
    },
    {
      "cell_type": "code",
      "source": [
        "dml_iv_data = dml.DoubleMLData(data = df,\n",
        "                               y_col = 'taxes',\n",
        "                               d_cols = 'rate',\n",
        "                               z_cols = 'inequality',\n",
        "                               x_cols =  ['deficit', 'grey', 'progressive'])\n",
        "\n",
        "g_Z = RandomForestClassifier(max_depth = 5,\n",
        "                                 max_features = 1,\n",
        "                                 max_samples = 500,\n",
        "                                 min_samples_leaf = 10,\n",
        "                                 criterion = 'entropy',\n",
        "                                 random_state = 52)\n",
        "\n",
        "dml_iv = dml.DoubleMLIIVM(obj_dml_data = dml_iv_data,\n",
        "                          ml_g = g_Y, ml_m = g_Z, ml_r = g_T,\n",
        "                          #apply_cross_fitting = True,\n",
        "                          n_rep = 1,\n",
        "                          n_folds = 5)\n",
        "\n",
        "dml_iv.fit()\n",
        "\n",
        "LATE_dml_iv = dml_iv.coef[0]\n",
        "print(LATE_dml_iv)"
      ],
      "metadata": {
        "id": "jXCbwlDrf_TH"
      },
      "execution_count": null,
      "outputs": []
    },
    {
      "cell_type": "code",
      "source": [
        "y0 = df.loc[rate == 0, ['taxes']]\n",
        "x0 = df.loc[rate == 0, df.columns.drop(['taxes', 'culture', 'rate'])]\n",
        "x0 = sm.add_constant(x0)\n",
        "ls0 = sm.OLS(y0, x0).fit()\n",
        "\n",
        "y1 = df.loc[rate == 1, ['taxes']]\n",
        "x1 = df.loc[rate == 1, df.columns.drop(['taxes', 'culture', 'rate'])]\n",
        "x1 = sm.add_constant(x1)\n",
        "ls1 = sm.OLS(y1, x1).fit()\n",
        "\n",
        "x = df.loc[:, df.columns.drop(['taxes', 'culture', 'rate'])]\n",
        "x = sm.add_constant(x)\n",
        "taxes0_ls = ls0.predict(x)\n",
        "taxes1_ls = ls1.predict(x)\n",
        "\n",
        "CATE_ls = np.array(taxes1_ls - taxes0_ls)\n",
        "print(CATE_ls)"
      ],
      "metadata": {
        "id": "f1GLhsrVtYY0"
      },
      "execution_count": null,
      "outputs": []
    },
    {
      "cell_type": "code",
      "source": [
        "y = df.loc[:, ['taxes']]\n",
        "x = df.loc[:, df.columns.drop(['taxes', 'culture'])]\n",
        "\n",
        "reg2 = GradientBoostingRegressor(**{'learning_rate': 0.1, 'max_depth': 3, 'n_estimators': 100})\n",
        "reg2.fit(x, y)\n",
        "\n",
        "x0 = deepcopy(x)\n",
        "x0[\"rate\"] = 0\n",
        "taxes0_reg2  = reg2.predict(x0)\n",
        "\n",
        "x1 = deepcopy(x)\n",
        "x1[\"rate\"] = 1\n",
        "taxes1_reg2  = reg2.predict(x1)\n",
        "\n",
        "CATE_S = taxes1_reg2  - taxes0_reg2\n",
        "print(CATE_S)"
      ],
      "metadata": {
        "id": "on5pR2uhtqB_"
      },
      "execution_count": null,
      "outputs": []
    },
    {
      "cell_type": "code",
      "source": [
        "y0 = df.loc[rate == 0, ['taxes']]\n",
        "x0 = df.loc[rate == 0, df.columns.drop(['taxes', 'culture', 'rate'])]\n",
        "x0 = sm.add_constant(x0)\n",
        "\n",
        "y1 = df.loc[rate == 1, ['taxes']]\n",
        "x1 = df.loc[rate == 1, df.columns.drop(['taxes', 'culture', 'rate'])]\n",
        "x1 = sm.add_constant(x1)\n",
        "\n",
        "x = df.loc[:, df.columns.drop(['taxes', 'culture', 'rate'])]\n",
        "x = sm.add_constant(x)\n",
        "\n",
        "\n",
        "reg3 = GradientBoostingRegressor(**{'learning_rate': 0.1, 'max_depth': 3, 'n_estimators': 100})\n",
        "\n",
        "reg3.fit(x0, y0)\n",
        "\n",
        "taxes0_reg3 = reg3.predict(x)\n",
        "\n",
        "reg3.fit(x1, y1)\n",
        "\n",
        "taxes1_reg3 = reg3.predict(x)\n",
        "\n",
        "CATE_T = taxes1_reg3 - taxes0_reg3\n",
        "print(CATE_T)"
      ],
      "metadata": {
        "id": "fr-4mx2jt5cM"
      },
      "execution_count": null,
      "outputs": []
    },
    {
      "cell_type": "code",
      "source": [
        "reg4 = GradientBoostingRegressor(**{'learning_rate': 0.1, 'max_depth': 3, 'n_estimators': 100})\n",
        "reg4.fit(features, taxes_pseudo)\n",
        "\n",
        "CATE_CT = reg4.predict(features)\n",
        "print(CATE_CT)"
      ],
      "metadata": {
        "id": "jCJyxJDvusPR"
      },
      "execution_count": null,
      "outputs": []
    },
    {
      "cell_type": "code",
      "source": [
        "from sklearn.linear_model import LogisticRegression\n",
        "y0 = df.loc[rate == 0, ['taxes']]\n",
        "x0 = df.loc[rate == 0, df.columns.drop(['taxes', 'culture', 'rate'])]\n",
        "x0 = sm.add_constant(x0)\n",
        "\n",
        "y1 = df.loc[rate == 1, ['taxes']]\n",
        "x1 = df.loc[rate == 1, df.columns.drop(['taxes', 'culture', 'rate'])]\n",
        "x1 = sm.add_constant(x1)\n",
        "\n",
        "y = df['taxes']\n",
        "x = df.loc[:, df.columns.drop(['taxes', 'culture', 'rate'])]\n",
        "x = sm.add_constant(x)\n",
        "\n",
        "g = RandomForestClassifier(max_depth = 5,\n",
        "                                 max_features = 1,\n",
        "                                 max_samples = 500,\n",
        "                                 min_samples_leaf = 10,\n",
        "                                 criterion = 'entropy',\n",
        "                                 random_state = 52)\n",
        "\n",
        "m0 =  GradientBoostingRegressor(**{'learning_rate': 0.1, 'max_depth': 3, 'n_estimators': 100})\n",
        "\n",
        "m1 =  GradientBoostingRegressor(**{'learning_rate': 0.1, 'max_depth': 3, 'n_estimators': 100})\n",
        "\n",
        "m0.fit(x0, y0)\n",
        "m1.fit(x1, y1)\n",
        "g.fit(x, df['rate'])\n",
        "\n",
        "d_train = np.where(df['rate']==0,\n",
        "                   m1.predict(x) - y,\n",
        "                   y - m0.predict(x))\n",
        "\n",
        "mx0 = GradientBoostingRegressor(**{'learning_rate': 0.01, 'max_depth': 3, 'n_estimators': 50})\n",
        "mx1 = GradientBoostingRegressor(**{'learning_rate': 0.01, 'max_depth': 3, 'n_estimators': 50})\n",
        "\n",
        "mx0.fit(x0, d_train[df['rate']==0])\n",
        "mx1.fit(x1, d_train[df['rate']==1])\n",
        "\n",
        "def ps_predict(t):\n",
        "    return g.predict_proba(x)[:, t]\n",
        "\n",
        "\n",
        "x_cate = (ps_predict(1)*mx0.predict(x) +\n",
        "                ps_predict(0)*mx1.predict(x))\n",
        "\n",
        "print(x_cate)"
      ],
      "metadata": {
        "id": "_PUJYvNSu9bg"
      },
      "execution_count": null,
      "outputs": []
    },
    {
      "cell_type": "code",
      "source": [
        "import numpy\n",
        "import sklearn\n",
        "\n",
        "print(numpy.__version__, sklearn.__version__)\n"
      ],
      "metadata": {
        "id": "Wm1hkTuv0pjz"
      },
      "execution_count": null,
      "outputs": []
    },
    {
      "cell_type": "code",
      "source": [
        "\n",
        "from causalml.inference.meta import BaseSRegressor, BaseTRegressor, BaseXRegressor, BaseRRegressor\n",
        "learner_r = BaseRRegressor(GradientBoostingRegressor(**{'learning_rate': 0.01, 'max_depth': 3, 'n_estimators': 50}))\n",
        "cate_r =  learner_r.fit_predict(X=df[['deficit', 'grey', 'progressive']], treatment=df['rate'], y=df['taxes'])"
      ],
      "metadata": {
        "id": "kqxmoOajvVhs"
      },
      "execution_count": null,
      "outputs": []
    },
    {
      "cell_type": "code",
      "source": [
        "\n",
        "cate_r"
      ],
      "metadata": {
        "id": "eLrQU1AmvlMi"
      },
      "execution_count": null,
      "outputs": []
    },
    {
      "cell_type": "code",
      "source": [
        "CATE_MSE0 = pd.DataFrame(data    = [np.mean((CATE_ls[50000]  - CATE[50000]) ** 2),\n",
        "                                    np.mean((CATE_T[50000]   - CATE[50000]) ** 2),\n",
        "                                    np.mean((CATE_S[50000]   - CATE[50000]) ** 2),\n",
        "                                    np.mean((CATE_CT[50000]  - CATE[50000]) ** 2),\n",
        "                                    np.mean((x_cate[50000] - CATE[50000]) ** 2),\n",
        "                                    np.mean((cate_r[50000] - CATE[50000]) ** 2)],\n",
        "                   index          = ['LS', 'T-learner', 'S-learner', 'CT', 'X-learner', 'R-learner'],\n",
        "                   columns        = ['MSE0'])\n",
        "print(CATE_MSE0)"
      ],
      "metadata": {
        "id": "FBHLWCYcvo3K"
      },
      "execution_count": null,
      "outputs": []
    },
    {
      "cell_type": "code",
      "source": [
        "CATE_MSE1 = pd.DataFrame(data    = [np.mean((taxes_pseudo[5000]  - CATE_ls[5000] ) ** 2),\n",
        "                                    np.mean((taxes_pseudo[5000]  - CATE_T[5000] ) ** 2),\n",
        "                                    np.mean((taxes_pseudo[5000]  - CATE_S[5000] ) ** 2),\n",
        "                                    np.mean((taxes_pseudo[5000] - CATE_CT[5000] ) ** 2),\n",
        "                                    np.mean((taxes_pseudo[50000] - x_cate[50000]) ** 2),\n",
        "                                    np.mean((taxes_pseudo[5000]  - cate_r[5000] ) ** 2)],\n",
        "                   index          = ['LS', 'T-learner', 'S-learner', 'CT', 'X-learner', 'R - learner'],\n",
        "                   columns        = ['MSE1'])\n",
        "print(CATE_MSE1)"
      ],
      "metadata": {
        "id": "A-C-tazbvsFu"
      },
      "execution_count": null,
      "outputs": []
    },
    {
      "cell_type": "code",
      "source": [
        "y0 = df.loc[rate == 0, ['taxes']]\n",
        "x0 = df.loc[rate == 0, df.columns.drop(['taxes', 'culture', 'rate'])]\n",
        "x0 = sm.add_constant(x0)\n",
        "ls0 = sm.OLS(y0, x0).fit()\n",
        "\n",
        "y1 = df.loc[rate == 1, ['taxes']]\n",
        "x1 = df.loc[rate == 1, df.columns.drop(['taxes', 'culture', 'rate'])]\n",
        "x1 = sm.add_constant(x1)\n",
        "ls1 = sm.OLS(y1, x1).fit()\n",
        "\n",
        "x = df.loc[:, df.columns.drop(['taxes', 'culture', 'rate'])]\n",
        "x = sm.add_constant(x)\n",
        "taxes0_ls = ls0.predict(x)\n",
        "taxes1_ls = ls1.predict(x)\n",
        "\n",
        "\n",
        "CATE_ls = np.array(taxes1_ls - taxes0_ls)\n",
        "ATE_ls = np.mean(CATE_ls)\n",
        "print(ATE_ls)"
      ],
      "metadata": {
        "id": "FAHGTr2Evu1v"
      },
      "execution_count": null,
      "outputs": []
    },
    {
      "cell_type": "code",
      "source": [
        "y0 = df.loc[rate == 0, ['taxes']]\n",
        "x0 = df.loc[rate == 0, df.columns.drop(['taxes', 'culture', 'rate'])]\n",
        "x0 = sm.add_constant(x0)\n",
        "\n",
        "y1 = df.loc[rate == 1, ['taxes']]\n",
        "x1 = df.loc[rate == 1, df.columns.drop(['taxes', 'culture', 'rate'])]\n",
        "x1 = sm.add_constant(x1)\n",
        "\n",
        "x = df.loc[:, df.columns.drop(['taxes', 'culture', 'rate'])]\n",
        "x = sm.add_constant(x)\n",
        "\n",
        "\n",
        "reg3 = GradientBoostingRegressor(**{'learning_rate': 0.01, 'max_depth': 3, 'n_estimators': 50})\n",
        "reg3.fit(x0, y0)\n",
        "\n",
        "taxes0_reg3 = reg3.predict(x)\n",
        "\n",
        "reg3.fit(x1, y1)\n",
        "\n",
        "taxes1_reg3 = reg3.predict(x)\n",
        "\n",
        "CATE_T = taxes1_reg3 - taxes0_reg3\n",
        "\n",
        "ATE_CM = np.mean(CATE_T)\n",
        "print(ATE_CM)"
      ],
      "metadata": {
        "id": "yvpVrU63wHci"
      },
      "execution_count": null,
      "outputs": []
    },
    {
      "cell_type": "code",
      "source": [
        "from sklearn.ensemble import RandomForestClassifier\n",
        "from sklearn.linear_model import LogisticRegression\n",
        "target = df.loc[:, ['rate']]\n",
        "features = df.loc[:, df.columns.drop(['taxes', 'culture', 'rate'])]\n",
        "\n",
        "clf =  LogisticRegression(penalty = 'l1',\n",
        "                             solver = 'liblinear',\n",
        "                             max_iter = 200,\n",
        "                             fit_intercept = True)\n",
        "clf .fit(features, target)\n",
        "\n",
        "prob_clf  = clf .predict_proba(features)[:, 1]\n",
        "\n",
        "taxes_pseudo = (taxes * rate) / prob_clf  - (taxes * (1 - rate)) / (1 - prob_clf)\n",
        "\n",
        "ATE_IPW_2 = np.mean(taxes_pseudo)\n",
        "print(ATE_IPW_2)"
      ],
      "metadata": {
        "id": "Rc2hk6GHwpYr"
      },
      "execution_count": null,
      "outputs": []
    },
    {
      "cell_type": "code",
      "source": [
        "\n",
        "x = df.loc[:, df.columns.drop(['taxes', 'rate'])].copy()\n",
        "x['rate'] = df['rate']\n",
        "\n",
        "y = df[['taxes']]\n",
        "\n",
        "reg = LinearRegression()\n",
        "reg.fit(x, y)\n",
        "x0 = x.copy()\n",
        "x0['rate'] = 0\n",
        "\n",
        "x1 = x.copy()\n",
        "x1['rate'] = 1\n",
        "\n",
        "taxes1_clf = reg.predict(x1)[:1000]\n",
        "taxes0_clf = reg.predict(x0)[:1000]\n",
        "\n",
        "\n",
        "ATE_DR_2 = np.mean(\n",
        "    (taxes1_clf - taxes0_clf)\n",
        "    + rate[:1000] * (taxes[:1000] - taxes1_clf) / prob_clf[:1000]\n",
        "    - (1 - rate[:1000]) * (taxes[:1000] - taxes0_clf) / (1 - prob_clf[:1000])\n",
        ")\n",
        "print(ATE_DR_2)\n"
      ],
      "metadata": {
        "id": "Q94gl6gCw8aI"
      },
      "execution_count": null,
      "outputs": []
    },
    {
      "cell_type": "code",
      "source": [
        "dml_standard_data = dml.DoubleMLData(\n",
        "                            data = df,\n",
        "                            y_col = 'taxes',\n",
        "                            d_cols = 'rate',\n",
        "                            x_cols = ['deficit', 'grey', 'progressive'])\n",
        "\n",
        "g_Y = LinearRegression()\n",
        "\n",
        "g_T = KNeighborsClassifier(n_neighbors = 100,\n",
        "                            metric = \"minkowski\",\n",
        "                            p = 3,\n",
        "                            weights = 'uniform')\n",
        "\n",
        "dml_standard = dml.DoubleMLIRM(obj_dml_data = dml_standard_data,\n",
        "                               ml_g = g_Y, ml_m = g_T,\n",
        "                              #  apply_cross_fitting = True,\n",
        "                               n_rep = 1,\n",
        "                               n_folds = 5)\n",
        "\n",
        "dml_standard.fit()\n",
        "\n",
        "ATE_dml_standard_2 = dml_standard.coef[0]\n",
        "print(ATE_dml_standard_2)"
      ],
      "metadata": {
        "id": "0Z3L2MpfxRhH"
      },
      "execution_count": null,
      "outputs": []
    },
    {
      "cell_type": "code",
      "source": [
        "dml_standard2_data = dml.DoubleMLData(\n",
        "                             data = df,\n",
        "                             y_col = 'taxes',\n",
        "                             d_cols = 'rate',\n",
        "                             x_cols = ['deficit', 'grey', 'progressive'])\n",
        "\n",
        "dml_standard2 = dml.DoubleMLIRM(obj_dml_data = dml_standard2_data,\n",
        "                                ml_g = g_Y, ml_m = g_T,\n",
        "                                #apply_cross_fitting = True,\n",
        "                                n_rep = 1,\n",
        "                                n_folds = 5)\n",
        "\n",
        "dml_standard2.fit()\n",
        "\n",
        "LATE_dml_standard2_2 = dml_standard2.coef[0]\n",
        "print(LATE_dml_standard2_2)"
      ],
      "metadata": {
        "id": "BFZqoGR8xeu7"
      },
      "execution_count": null,
      "outputs": []
    },
    {
      "cell_type": "code",
      "source": [
        "print(df['culture'].value_counts())"
      ],
      "metadata": {
        "id": "fmP9ELPh3lDH"
      },
      "execution_count": null,
      "outputs": []
    },
    {
      "cell_type": "code",
      "source": [],
      "metadata": {
        "id": "J_ooR9KRI5ra"
      },
      "execution_count": null,
      "outputs": []
    },
    {
      "cell_type": "code",
      "source": [
        "small_df = df.sample(frac=0.05, random_state=42)  #неудавшийся байес\n",
        "\n",
        "train_data, test_data = train_test_split(small_df, test_size=0.2, random_state=42)\n",
        "\n",
        "edges = [\n",
        "    ('deficit', 'taxes'),\n",
        "    ('progressive', 'taxes'),\n",
        "    ('grey', 'taxes'),\n",
        "    ('rate', 'taxes'),\n",
        "    ('culture', 'taxes'),\n",
        "    ('culture', 'rate'),\n",
        "    ('inequality', 'rate'),\n",
        "]\n",
        "\n",
        "bayes_net = BayesianNetwork(edges)\n",
        "bayes_net.fit(train_data, estimator=MaximumLikelihoodEstimator)\n",
        "inference = VariableElimination(bayes_net)\n",
        "test_sample = test_data.sample(100, random_state=42)\n",
        "\n",
        "predictions = bayes_net.predict(test_sample.drop(columns=['Taxes']))\n",
        "accuracy = accuracy_score(test_sample['Taxes'], predictions)\n",
        "print(f'Accuracy of Bayesian Network on smaller dataset: {accuracy:.2f}')"
      ],
      "metadata": {
        "id": "38vFNMLYGS6G"
      },
      "execution_count": null,
      "outputs": []
    }
  ],
  "metadata": {
    "colab": {
      "provenance": []
    },
    "kernelspec": {
      "display_name": "Python 3",
      "name": "python3"
    },
    "language_info": {
      "name": "python"
    }
  },
  "nbformat": 4,
  "nbformat_minor": 0
}
{
  "cells": [
    {
      "cell_type": "code",
      "execution_count": null,
      "id": "8fa3d5da",
      "metadata": {
        "id": "8fa3d5da",
        "outputId": "050b4167-ce8a-46ec-bfee-24930069887a"
      },
      "outputs": [
        {
          "name": "stdout",
          "output_type": "stream",
          "text": [
            "zsh:1: command not found: python.exe\n",
            "Requirement already satisfied: numpy in /Users/makar_briginskiy/opt/anaconda3/lib/python3.9/site-packages (1.20.3)\n",
            "Requirement already satisfied: pandas in /Users/makar_briginskiy/opt/anaconda3/lib/python3.9/site-packages (1.3.4)\n",
            "Requirement already satisfied: python-dateutil>=2.7.3 in /Users/makar_briginskiy/opt/anaconda3/lib/python3.9/site-packages (from pandas) (2.8.2)\n",
            "Requirement already satisfied: pytz>=2017.3 in /Users/makar_briginskiy/opt/anaconda3/lib/python3.9/site-packages (from pandas) (2021.3)\n",
            "Requirement already satisfied: numpy>=1.17.3 in /Users/makar_briginskiy/opt/anaconda3/lib/python3.9/site-packages (from pandas) (1.20.3)\n",
            "Requirement already satisfied: six>=1.5 in /Users/makar_briginskiy/opt/anaconda3/lib/python3.9/site-packages (from python-dateutil>=2.7.3->pandas) (1.16.0)\n",
            "Requirement already satisfied: scikit-learn in /Users/makar_briginskiy/opt/anaconda3/lib/python3.9/site-packages (0.24.2)\n",
            "Requirement already satisfied: scipy>=0.19.1 in /Users/makar_briginskiy/opt/anaconda3/lib/python3.9/site-packages (from scikit-learn) (1.7.1)\n",
            "Requirement already satisfied: joblib>=0.11 in /Users/makar_briginskiy/opt/anaconda3/lib/python3.9/site-packages (from scikit-learn) (1.1.0)\n",
            "Requirement already satisfied: threadpoolctl>=2.0.0 in /Users/makar_briginskiy/opt/anaconda3/lib/python3.9/site-packages (from scikit-learn) (2.2.0)\n",
            "Requirement already satisfied: numpy>=1.13.3 in /Users/makar_briginskiy/opt/anaconda3/lib/python3.9/site-packages (from scikit-learn) (1.20.3)\n",
            "Requirement already satisfied: openpyxl in /Users/makar_briginskiy/opt/anaconda3/lib/python3.9/site-packages (3.0.9)\n",
            "Requirement already satisfied: et-xmlfile in /Users/makar_briginskiy/opt/anaconda3/lib/python3.9/site-packages (from openpyxl) (1.1.0)\n",
            "Requirement already satisfied: doubleml in /Users/makar_briginskiy/opt/anaconda3/lib/python3.9/site-packages (0.8.0)\n",
            "Requirement already satisfied: scipy in /Users/makar_briginskiy/opt/anaconda3/lib/python3.9/site-packages (from doubleml) (1.7.1)\n",
            "Requirement already satisfied: pandas in /Users/makar_briginskiy/opt/anaconda3/lib/python3.9/site-packages (from doubleml) (1.3.4)\n",
            "Requirement already satisfied: plotly in /Users/makar_briginskiy/opt/anaconda3/lib/python3.9/site-packages (from doubleml) (5.22.0)\n",
            "Requirement already satisfied: statsmodels in /Users/makar_briginskiy/opt/anaconda3/lib/python3.9/site-packages (from doubleml) (0.12.2)\n",
            "Requirement already satisfied: scikit-learn in /Users/makar_briginskiy/opt/anaconda3/lib/python3.9/site-packages (from doubleml) (0.24.2)\n",
            "Requirement already satisfied: numpy in /Users/makar_briginskiy/opt/anaconda3/lib/python3.9/site-packages (from doubleml) (1.20.3)\n",
            "Requirement already satisfied: joblib in /Users/makar_briginskiy/opt/anaconda3/lib/python3.9/site-packages (from doubleml) (1.1.0)\n",
            "Requirement already satisfied: python-dateutil>=2.7.3 in /Users/makar_briginskiy/opt/anaconda3/lib/python3.9/site-packages (from pandas->doubleml) (2.8.2)\n",
            "Requirement already satisfied: pytz>=2017.3 in /Users/makar_briginskiy/opt/anaconda3/lib/python3.9/site-packages (from pandas->doubleml) (2021.3)\n",
            "Requirement already satisfied: six>=1.5 in /Users/makar_briginskiy/opt/anaconda3/lib/python3.9/site-packages (from python-dateutil>=2.7.3->pandas->doubleml) (1.16.0)\n",
            "Requirement already satisfied: packaging in /Users/makar_briginskiy/opt/anaconda3/lib/python3.9/site-packages (from plotly->doubleml) (21.0)\n",
            "Requirement already satisfied: tenacity>=6.2.0 in /Users/makar_briginskiy/opt/anaconda3/lib/python3.9/site-packages (from plotly->doubleml) (8.3.0)\n",
            "Requirement already satisfied: pyparsing>=2.0.2 in /Users/makar_briginskiy/opt/anaconda3/lib/python3.9/site-packages (from packaging->plotly->doubleml) (3.0.4)\n",
            "Requirement already satisfied: threadpoolctl>=2.0.0 in /Users/makar_briginskiy/opt/anaconda3/lib/python3.9/site-packages (from scikit-learn->doubleml) (2.2.0)\n",
            "Requirement already satisfied: patsy>=0.5 in /Users/makar_briginskiy/opt/anaconda3/lib/python3.9/site-packages (from statsmodels->doubleml) (0.5.2)\n",
            "[33. 46. 42. 30. 36. 51. 24. 37. 48. 34.]\n",
            "[1 0 0 1 1 0 1 1 0 0]\n",
            "0.50094\n",
            "0.47137\n",
            "[2. 4. 3. 1. 2. 5. 1. 3. 4. 2.]\n",
            "[0.07780384 0.77637271 0.69846821 0.05479929 0.1074877  0.8554277\n",
            " 0.0249979  0.11900011 0.81057035 0.51595344]\n",
            "[0 1 1 0 0 1 1 0 1 1]\n",
            "0.62593765068764\n",
            "0.59762\n",
            "Always taker    47606\n",
            "Complier        40647\n",
            "Never taker     11747\n",
            "dtype: int64\n",
            "      kids0 kids1  Тип индивида\n",
            "0         0     1      Complier\n",
            "1         1     1  Always taker\n",
            "2         0     1      Complier\n",
            "3         0     1      Complier\n",
            "4         0     1      Complier\n",
            "...     ...   ...           ...\n",
            "99995     0     1      Complier\n",
            "99996     1     1  Always taker\n",
            "99997     1     1  Always taker\n",
            "99998     1     1  Always taker\n",
            "99999     0     1      Complier\n",
            "\n",
            "[100000 rows x 3 columns]\n",
            "0.73699\n",
            "                             Оценка\n",
            "Corr(kids, family_values)  0.694787\n",
            "Corr(kids, religion)       0.535486\n",
            "                   Оценка\n",
            "Var(eps0)        0.932234\n",
            "Var(g0)        441.998763\n",
            "Var(g0_obs)    107.737570\n",
            "Var(g0_unobs)  408.214789\n",
            "Var(eps1)        4.016169\n",
            "Var(g1)        677.889353\n",
            "Var(g1_obs)    101.653258\n",
            "Var(g1_unobs)  637.835608\n",
            "30.31153940844716 162.675653907571\n"
          ]
        },
        {
          "data": {
            "image/png": "[encoded data removed]",
            "text/plain": [
              "<Figure size 432x288 with 1 Axes>"
            ]
          },
          "metadata": {},
          "output_type": "display_data"
        }
      ],
      "source": [
        "!python.exe -m pip install --upgrade pip\n",
        "!pip install numpy\n",
        "!pip install pandas\n",
        "!pip install scikit-learn\n",
        "!pip install openpyxl\n",
        "!pip install doubleml\n",
        "#Подключим необходимые библиотеки\n",
        "import numpy as np\n",
        "import pandas as pd\n",
        "import scipy as scipy\n",
        "from copy import deepcopy\n",
        "import math\n",
        "from scipy.stats import multivariate_normal\n",
        "import matplotlib.pyplot as plt\n",
        "from scipy.stats import t, chi2, f, norm, poisson, binom, uniform, expon, logistic\n",
        "import seaborn\n",
        "import networkx as nx\n",
        "\n",
        "# Визуализируем предполагаемые связи\n",
        "\n",
        "# Стиль отображения графика\n",
        "nx_options = {\n",
        "    'node_color': 'white',\n",
        "    'node_size': 2000,\n",
        "    'width': 3,\n",
        "    'arrowstyle': '-|>',\n",
        "    'arrowsize': 12,\n",
        "}\n",
        "\n",
        "# Связи\n",
        "edges = [\n",
        "    ('Kids', 'Waited salary'),         # (откуда стрелочка, куда стрелочка)\n",
        "    ('Age', 'Waited salary'),\n",
        "    ('Sex', 'Waited salary'),\n",
        "    ('Education', 'Waited salary'),\n",
        "    ('Family values', 'Waited salary'),\n",
        "    ('Family values', 'Kids'),\n",
        "    ('Religion', 'Kids'),\n",
        "\n",
        "\n",
        "]\n",
        "\n",
        "# Инициализируем граф\n",
        "G = nx.DiGraph(directed = True)\n",
        "G.add_edges_from(edges)\n",
        "\n",
        "# Отображаем граф\n",
        "np.random.seed(8)\n",
        "nx.draw_networkx(G, arrows = True, **nx_options)\n",
        "\n",
        "# Для воспроизводимости\n",
        "np.random.seed(123)\n",
        "\n",
        "# Число наблюдений\n",
        "n = 100000\n",
        "\n",
        "np.random.seed(123)\n",
        "# Предположим, что распределение возраста схоже с нормальным\n",
        "age = norm.rvs(size = n, loc = 40, scale = 6.4)\n",
        "\n",
        "# Для красоты ограничим минимальные и максимальные значения\n",
        "#age = age[(age<=70) & (age>=14)]\n",
        "#age[age >= 70] = 70\n",
        "#age[age <= 14]  = 14\n",
        "\n",
        "# Также, для удобства введем округление\n",
        "age = np.round(age)\n",
        "\n",
        "# Посмотрим на несколько первых значений\n",
        "print(age[0:10])\n",
        "\n",
        "# Посмотрим на распределение\n",
        "seaborn.histplot(age,                        # данные\n",
        "                 stat = 'density',           # тип гистограммы\n",
        "                 color = \"palevioletred\",    # цвет гистограммы\n",
        "                 label = \"histogram\",        # наименование гистограммы\n",
        "                 bins = 100)                 # число столбиков в Гистограмме\n",
        "\n",
        "np.random.seed(123)\n",
        "# Сгенерируем переменную пол\n",
        "sex = np.random.binomial(n = 1, p = 0.5, size = n)\n",
        "\n",
        "# Посмотрим на первые несколько значение\n",
        "print(sex[0:10])\n",
        "\n",
        "# Доля мужчин\n",
        "print(np.mean(sex))\n",
        "\n",
        "np.random.seed(123)\n",
        "# Сгенерируем переменную наличия высшего образования\n",
        "education = np.random.binomial(n = 1, p = 0.47, size = n)\n",
        "\n",
        "# Доля индивидов, состоящих в браке\n",
        "print(np.mean(education))\n",
        "\n",
        "# Для воспроизводимости\n",
        "np.random.seed(123)\n",
        "\n",
        "# Число наблюдений\n",
        "n = 100000\n",
        "\n",
        "# Предположим, что семейные ценности нормально распределены с центром на 3 и стандартным отклонением 1\n",
        "family_values = np.random.normal(loc=3, scale=1, size=n)\n",
        "\n",
        "# Ограничим значения в пределах 1-5\n",
        "family_values[family_values >= 5] = 5\n",
        "family_values[family_values <= 1] = 1\n",
        "\n",
        "# Также, для удобства введем округление\n",
        "family_values = np.round(family_values)\n",
        "\n",
        "# Посмотрим на несколько первых значений\n",
        "print(family_values[:10])\n",
        "\n",
        "seaborn.histplot(family_values,\n",
        "             stat='density',       # Статистика гистограммы\n",
        "             color=\"palevioletred\", # Цвет гистограммы\n",
        "             label=\"histogram\",     # Наименование гистограммы\n",
        "             bins=5)                # Число столбиков в гистограмме\n",
        "\n",
        "# Сформируем индекс\n",
        "religion_index = 0.06 * age - 1.0 * sex - 0.6 * education + 0.2 * sex * education - 2.0\n",
        "\n",
        "np.random.seed(123)\n",
        "# Создадим условные вероятности\n",
        "religion_prob = norm.cdf(religion_index)\n",
        "\n",
        "# Посмотрим на несколько первых условных вероятностей\n",
        "print(religion_prob[0:10])\n",
        "\n",
        "np.random.seed(123)\n",
        "# Сгенерируем наличие религиозность человека\n",
        "religion = np.random.binomial(n = 1, p = religion_prob, size = None)\n",
        "\n",
        "# Посмотрим на несколько сгенерированных значений\n",
        "print(religion[0:10])\n",
        "\n",
        "# Дисперсия индекса\n",
        "print(np.var(religion_index))\n",
        "\n",
        "# Доля религиозных людей\n",
        "print(np.mean(religion))\n",
        "\n",
        "np.random.seed(123)\n",
        "# Равномерные случайные величины\n",
        "u = uniform.rvs(size = n)\n",
        "\n",
        "# Сгенерируем часть индекса, не зависящую от религии\n",
        "kids_index = 5 * np.log(family_values + 1) + np.sqrt(age) - 15 + 1.5 * sex + 2 * education\n",
        "\n",
        "# Симулируем факт наличия детей в случае,\n",
        "# когда человек религиозен\n",
        "religion1  = 1\n",
        "kids1_index = kids_index + 3 * religion1\n",
        "kids1_prob  = logistic.cdf(kids1_index)\n",
        "kids1      = (kids1_prob >= u).astype(int)\n",
        "\n",
        "# Доля людей с детьми в случае, когда все\n",
        "# религиозны\n",
        "np.mean(kids1)\n",
        "\n",
        "# Симулируем факт наличия детей в случае,\n",
        "# когда человек не религиозен\n",
        "religion0    = 0\n",
        "kids0_index = kids_index + 6 * religion0\n",
        "kids0_prob  = logistic.cdf(kids0_index, scale = 1)\n",
        "kids0      = (kids0_prob >= u).astype(int)\n",
        "\n",
        "# Доля людей с детьми в случае, когда все\n",
        "# нерелигиозны\n",
        "np.mean(kids0)\n",
        "\n",
        "#Индивидов можно разделить на  4  группы:\n",
        "#Always takers - те, у кого  Educ0𝑖=Educ1𝑖=1 : заводят детей независимо от религиозности\n",
        "#Never takers- те, у кого  Educ0𝑖=Educ1𝑖=0 : не заводят детей независимо от религиозности\n",
        "#Compliers - те, у кого  Educ1𝑖=1  и  Educ0𝑖=0 , то есть  Educ1𝑖>Educ0𝑖 : заводят детей, если они религиозны.\n",
        "#Deniers - те, у кого  Educ1𝑖=0  и  Educ0𝑖=1 , то есть  Educ1𝑖<Educ0𝑖 : заводят детей, если они нерелигиозны.\n",
        "#Для соблюдения предпосылок используемых методов важно отсутствие Deniers, что гарантируется используемым процессом генерации данных.\n",
        "\n",
        "# Рассмотрим различные группы индивидов\n",
        "ind_type = np.empty(n, dtype = 'U25')\n",
        "ind_type[(kids1 == 1) & (kids0 == 1)] = 'Always taker'\n",
        "ind_type[(kids1 == 0) & (kids0 == 0)] = 'Never taker'\n",
        "ind_type[kids1 > kids0]               = 'Complier'\n",
        "ind_type[kids1 < kids0]               = 'Denier'\n",
        "\n",
        "# Посмотрим на распределение индивидов разного типа\n",
        "print(pd.value_counts(ind_type))\n",
        "\n",
        "# Сравним уровни образования для одного и того же индивида в случаях,\n",
        "# когда у его родителей нет высшего образования и когда оно у них есть\n",
        "print(pd.DataFrame(data    = np.array([kids0, kids1, ind_type]).transpose(),\n",
        "                   columns = ['kids0', 'kids1', 'Тип индивида']))\n",
        "\n",
        "# Факт наличия у индивида высшего образования\n",
        "kids = kids1 * religion + kids0 * (1 - religion)\n",
        "\n",
        "# Доли людей с высшим образованием\n",
        "print(np.mean(kids))\n",
        "\n",
        "# Рассмотрим корреляции\n",
        "print(pd.DataFrame(data    = [np.corrcoef(kids, family_values)[0, 1],\n",
        "                              np.corrcoef(kids, religion)[0, 1]],\n",
        "                   index   = ['Corr(kids, family_values)',\n",
        "                              'Corr(kids, religion)'],\n",
        "                   columns = ['Оценка']))\n",
        "\n",
        "np.random.seed(123)\n",
        "# Случайные ошибки\n",
        "error0 = t.rvs(size = n, df = 15)*0.9\n",
        "error1 = expon.rvs(size = n, scale = 2) - 10\n",
        "\n",
        "error0.var()\n",
        "\n",
        "np.random.seed(123)\n",
        "# Функция от контрольных переменных\n",
        "  # когда у индивида нет детей\n",
        "g0_obs = 51 * education / ( 1.5 * sex + 1) + 8 + 0.5 * age - 0.01*age**2\n",
        "g0_unobs = 20 * family_values\n",
        "g0 = g0_obs + g0_unobs\n",
        "  # когда у индивида есть дети\n",
        "g1_obs = 60 * education / ( 2.0 * sex + 1) + 8 +0.6 * age-0.01*age**2\n",
        "g1_unobs = 25 * family_values\n",
        "g1 = g1_obs + g1_unobs\n",
        "# Ожидаемая зрплата в зависимости от наличия детей\n",
        "waited_salary0 = g0 + error0\n",
        "waited_salary1 = g1 + error1\n",
        "\n",
        "# Наблюдаемая зарплата\n",
        "waited_salary = waited_salary1 * kids + waited_salary0 * (1 - kids)\n",
        "\n",
        "# Приблизительно оценим адекватность дисперсий\n",
        "print(pd.DataFrame(data    = [np.var(error0),   np.var(g0),\n",
        "                              np.var(g0_obs),   np.var(g0_unobs),\n",
        "                              np.var(error1),   np.var(g1),\n",
        "                              np.var(g1_obs),   np.var(g1_unobs)],\n",
        "                   index   = ['Var(eps0)',     'Var(g0)',\n",
        "                              'Var(g0_obs)',   'Var(g0_unobs)',\n",
        "                              'Var(eps1)',     'Var(g1)',\n",
        "                              'Var(g1_obs)',   'Var(g1_unobs)'],\n",
        "                   columns = ['Оценка']))\n",
        "\n",
        "#Аггрегируем данные в датафрейм\n",
        "df = pd.DataFrame({'waited_salary': waited_salary, 'kids': kids,\n",
        "                   'age': age, 'sex': sex,'education': education,'religion': religion})\n",
        "df = df.loc[0:n, :]\n",
        "\n",
        "# Посмотрим на симулированные данные\n",
        "df.head(10).style.format(precision = 2)\n",
        "\n",
        "print(df['waited_salary'].min(), df['waited_salary'].max())"
      ]
    },
    {
      "cell_type": "code",
      "execution_count": null,
      "id": "92762d4c",
      "metadata": {
        "id": "92762d4c"
      },
      "outputs": [],
      "source": [
        "import numpy as np\n",
        "import pandas as pd\n",
        "import scipy as scipy\n",
        "from copy import deepcopy\n",
        "import math\n",
        "from scipy.stats import multivariate_normal\n",
        "import matplotlib.pyplot as plt\n",
        "from scipy.stats import t, chi2, f, norm, poisson, binom, uniform, expon, logistic\n",
        "import seaborn as sns\n",
        "import networkx as nx\n",
        "from sklearn.model_selection import train_test_split\n",
        "from sklearn.naive_bayes import GaussianNB\n",
        "from sklearn.neighbors import KNeighborsClassifier\n",
        "from sklearn.ensemble import RandomForestClassifier, GradientBoostingClassifier\n",
        "from sklearn.linear_model import LogisticRegression\n",
        "from sklearn.metrics import accuracy_score, classification_report"
      ]
    },
    {
      "cell_type": "markdown",
      "id": "29405eff",
      "metadata": {
        "id": "29405eff"
      },
      "source": [
        "# Задание 1"
      ]
    },
    {
      "cell_type": "code",
      "execution_count": null,
      "id": "1af05d94",
      "metadata": {
        "id": "1af05d94"
      },
      "outputs": [],
      "source": [
        "required_columns = ['age', 'sex', 'education', 'religion', 'kids']\n",
        "for col in required_columns:\n",
        "    if col not in df.columns:\n",
        "        print(f\"Column {col} is missing\") #ПРоверка наличия всех колонок в дф"
      ]
    },
    {
      "cell_type": "code",
      "execution_count": null,
      "id": "d08e4dc7",
      "metadata": {
        "id": "d08e4dc7"
      },
      "outputs": [],
      "source": [
        "X = df[['age', 'sex', 'education', 'religion']]\n",
        "y = df['kids']"
      ]
    },
    {
      "cell_type": "code",
      "execution_count": null,
      "id": "7010e316",
      "metadata": {
        "id": "7010e316"
      },
      "outputs": [],
      "source": [
        "#Делим на тестовую и тренировочная выборки\n",
        "X_train, X_test, y_train, y_test = train_test_split(X, y, test_size=0.2, random_state=42)"
      ]
    },
    {
      "cell_type": "code",
      "execution_count": null,
      "id": "d27bd2e6",
      "metadata": {
        "id": "d27bd2e6",
        "outputId": "c4612cb7-1538-4708-895f-4089bd5d68df"
      },
      "outputs": [
        {
          "name": "stdout",
          "output_type": "stream",
          "text": [
            "Метод ближайших соседей:\n",
            "              precision    recall  f1-score   support\n",
            "\n",
            "           0       0.98      0.84      0.90      5245\n",
            "           1       0.95      0.99      0.97     14755\n",
            "\n",
            "    accuracy                           0.95     20000\n",
            "   macro avg       0.96      0.92      0.94     20000\n",
            "weighted avg       0.95      0.95      0.95     20000\n",
            "\n"
          ]
        }
      ],
      "source": [
        "# Метод ближайших соседей\n",
        "knn_model = KNeighborsClassifier(n_neighbors=5)\n",
        "knn_model.fit(X_train, y_train)\n",
        "knn_predictions = knn_model.predict(X_test)\n",
        "print(\"Метод ближайших соседей:\")\n",
        "print(classification_report(y_test, knn_predictions))"
      ]
    },
    {
      "cell_type": "code",
      "execution_count": null,
      "id": "7f9790e6",
      "metadata": {
        "id": "7f9790e6",
        "outputId": "c0222c3d-5e0b-4ec5-c8dd-f987eb83494f"
      },
      "outputs": [
        {
          "name": "stdout",
          "output_type": "stream",
          "text": [
            "Случайный лес:\n",
            "              precision    recall  f1-score   support\n",
            "\n",
            "           0       0.97      0.86      0.91      5245\n",
            "           1       0.95      0.99      0.97     14755\n",
            "\n",
            "    accuracy                           0.96     20000\n",
            "   macro avg       0.96      0.92      0.94     20000\n",
            "weighted avg       0.96      0.96      0.95     20000\n",
            "\n"
          ]
        }
      ],
      "source": [
        "# Случайный лес\n",
        "rf_model = RandomForestClassifier(n_estimators=100, random_state=42)\n",
        "rf_model.fit(X_train, y_train)\n",
        "rf_predictions = rf_model.predict(X_test)\n",
        "print(\"Случайный лес:\")\n",
        "print(classification_report(y_test, rf_predictions))"
      ]
    },
    {
      "cell_type": "code",
      "execution_count": null,
      "id": "6718efae",
      "metadata": {
        "id": "6718efae",
        "outputId": "33ee43af-bd3e-458e-9fb8-c4988f8ef347"
      },
      "outputs": [
        {
          "name": "stdout",
          "output_type": "stream",
          "text": [
            "Логистическая регрессия:\n",
            "              precision    recall  f1-score   support\n",
            "\n",
            "           0       0.88      0.92      0.90      5245\n",
            "           1       0.97      0.95      0.96     14755\n",
            "\n",
            "    accuracy                           0.94     20000\n",
            "   macro avg       0.92      0.94      0.93     20000\n",
            "weighted avg       0.95      0.94      0.95     20000\n",
            "\n"
          ]
        }
      ],
      "source": [
        "# Логистическая регрессия\n",
        "lr_model = LogisticRegression(max_iter=1000, random_state=42)\n",
        "lr_model.fit(X_train, y_train)\n",
        "lr_predictions = lr_model.predict(X_test)\n",
        "print(\"Логистическая регрессия:\")\n",
        "print(classification_report(y_test, lr_predictions))"
      ]
    },
    {
      "cell_type": "markdown",
      "id": "9028ae47",
      "metadata": {
        "id": "9028ae47"
      },
      "source": [
        "# Задание 2"
      ]
    },
    {
      "cell_type": "code",
      "execution_count": null,
      "id": "195724e2",
      "metadata": {
        "id": "195724e2"
      },
      "outputs": [],
      "source": [
        "from sklearn.model_selection import cross_val_score"
      ]
    },
    {
      "cell_type": "code",
      "execution_count": null,
      "id": "7ece7020",
      "metadata": {
        "id": "7ece7020"
      },
      "outputs": [],
      "source": [
        "# Задание гиперпараметров для каждого метода\n",
        "knn_model = KNeighborsClassifier(n_neighbors=5)\n",
        "rf_model = RandomForestClassifier(n_estimators=100, random_state=42)\n",
        "lr_model = LogisticRegression(max_iter=1000, random_state=42)"
      ]
    },
    {
      "cell_type": "code",
      "execution_count": null,
      "id": "a8d0a9ad",
      "metadata": {
        "id": "a8d0a9ad"
      },
      "outputs": [],
      "source": [
        "# Оценка точности на тренировочной выборке\n",
        "models = {'KNN': knn_model,\n",
        "          'Random Forest': rf_model,\n",
        "          'Logistic Regression': lr_model}\n",
        "\n",
        "train_scores = {}\n",
        "test_scores = {}\n",
        "cv_scores = {}\n",
        "\n",
        "for name, model in models.items():\n",
        "    model.fit(X_train, y_train)\n",
        "\n",
        "    # Точность на тренировочной выборке\n",
        "    train_scores[name] = model.score(X_train, y_train)\n",
        "\n",
        "    # Точность на тестовой выборке\n",
        "    test_scores[name] = model.score(X_test, y_test)\n",
        "\n",
        "    # Точность с кросс-валидацией\n",
        "    cv_scores[name] = cross_val_score(model, X_train, y_train, cv=5).mean()"
      ]
    },
    {
      "cell_type": "code",
      "execution_count": null,
      "id": "2c8da731",
      "metadata": {
        "id": "2c8da731",
        "outputId": "e3b63d4b-4ba7-42e4-df3b-ac41066fc9dc"
      },
      "outputs": [
        {
          "name": "stdout",
          "output_type": "stream",
          "text": [
            "Точность на обучающей выборке:\n",
            "{'KNN': 0.9514, 'Random Forest': 0.9541, 'Logistic Regression': 0.9434125}\n",
            "\n",
            "Точность на тестовой выборке:\n",
            "{'KNN': 0.9528, 'Random Forest': 0.9558, 'Logistic Regression': 0.94465}\n",
            "\n",
            "Точность с кросс-валидацией:\n",
            "{'KNN': 0.9470375000000001, 'Random Forest': 0.9541000000000001, 'Logistic Regression': 0.9434125}\n"
          ]
        }
      ],
      "source": [
        "print(\"Точность на обучающей выборке:\")\n",
        "print(train_scores)\n",
        "print(\"\\nТочность на тестовой выборке:\")\n",
        "print(test_scores)\n",
        "print(\"\\nТочность с кросс-валидацией:\")\n",
        "print(cv_scores)"
      ]
    },
    {
      "cell_type": "markdown",
      "id": "f95274cd",
      "metadata": {
        "id": "f95274cd"
      },
      "source": [
        "# Задание 3"
      ]
    },
    {
      "cell_type": "code",
      "execution_count": null,
      "id": "d285e296",
      "metadata": {
        "id": "d285e296"
      },
      "outputs": [],
      "source": [
        "import numpy as np\n",
        "import pandas as pd\n",
        "from sklearn.model_selection import train_test_split, cross_val_score, GridSearchCV\n",
        "from sklearn.neighbors import KNeighborsClassifier\n",
        "from sklearn.ensemble import RandomForestClassifier\n",
        "from sklearn.linear_model import LogisticRegression\n",
        "from sklearn.metrics import classification_report"
      ]
    },
    {
      "cell_type": "code",
      "execution_count": null,
      "id": "874df951",
      "metadata": {
        "id": "874df951"
      },
      "outputs": [],
      "source": [
        "required_columns = ['age', 'sex', 'education', 'religion', 'kids']\n",
        "for col in required_columns:\n",
        "    if col not in df.columns:\n",
        "        print(f\"Column {col} is missing\") #Проверка наличия колонок в дф"
      ]
    },
    {
      "cell_type": "code",
      "execution_count": null,
      "id": "a6a7fe33",
      "metadata": {
        "id": "a6a7fe33"
      },
      "outputs": [],
      "source": [
        "X = df[['age', 'sex', 'education', 'religion']]\n",
        "y = df['kids']"
      ]
    },
    {
      "cell_type": "code",
      "execution_count": null,
      "id": "98eb7959",
      "metadata": {
        "id": "98eb7959"
      },
      "outputs": [],
      "source": [
        "X_train, X_test, y_train, y_test = train_test_split(X, y, test_size=0.2, random_state=42)"
      ]
    },
    {
      "cell_type": "code",
      "execution_count": null,
      "id": "60a5aa55",
      "metadata": {
        "id": "60a5aa55"
      },
      "outputs": [],
      "source": [
        "initial_params = {\n",
        "    'KNN': {'n_neighbors': 5},\n",
        "    'Random Forest': {'n_estimators': 100},\n",
        "    'Gradient Boosting': {'n_estimators': 100},\n",
        "    'Logistic Regression': {'max_iter': 1000}\n",
        "}"
      ]
    },
    {
      "cell_type": "code",
      "execution_count": null,
      "id": "d74515e3",
      "metadata": {
        "id": "d74515e3"
      },
      "outputs": [],
      "source": [
        "param_grid_knn = {'n_neighbors': [3, 5, 7]}\n",
        "param_grid_rf = {'n_estimators': [100, 200, 300], 'max_features': ['auto', 'sqrt', 'log2']}\n",
        "param_grid_gb = {'n_estimators': [100, 200], 'learning_rate': [0.01, 0.1, 0.2]}\n",
        "param_grid_lr = {'C': [0.1, 1, 10]}"
      ]
    },
    {
      "cell_type": "code",
      "execution_count": null,
      "id": "a381e070",
      "metadata": {
        "id": "a381e070"
      },
      "outputs": [],
      "source": [
        "knn_model = KNeighborsClassifier()\n",
        "rf_model = RandomForestClassifier(random_state=42)\n",
        "gb_model = GradientBoostingClassifier(random_state=42)\n",
        "lr_model = LogisticRegression(max_iter=1000, random_state=42)"
      ]
    },
    {
      "cell_type": "code",
      "execution_count": null,
      "id": "c6d81eac",
      "metadata": {
        "id": "c6d81eac",
        "outputId": "870392bd-27bd-477d-fed1-d6026694066e"
      },
      "outputs": [
        {
          "data": {
            "text/plain": [
              "GridSearchCV(cv=5, estimator=LogisticRegression(max_iter=1000, random_state=42),\n",
              "             param_grid={'C': [0.1, 1, 10]}, scoring='accuracy')"
            ]
          },
          "execution_count": 72,
          "metadata": {},
          "output_type": "execute_result"
        }
      ],
      "source": [
        "grid_search_knn = GridSearchCV(knn_model, param_grid_knn, cv=5, scoring='accuracy')\n",
        "grid_search_knn.fit(X_train, y_train)\n",
        "\n",
        "grid_search_rf = GridSearchCV(rf_model, param_grid_rf, cv=5, scoring='accuracy')\n",
        "grid_search_rf.fit(X_train, y_train)\n",
        "\n",
        "grid_search_lr = GridSearchCV(lr_model, param_grid_lr, cv=5, scoring='accuracy')\n",
        "grid_search_lr.fit(X_train, y_train)"
      ]
    },
    {
      "cell_type": "code",
      "execution_count": null,
      "id": "88176bcd",
      "metadata": {
        "id": "88176bcd"
      },
      "outputs": [],
      "source": [
        "# Результаты тюнинга\n",
        "best_params = {\n",
        "    'KNN': grid_search_knn.best_params_,\n",
        "    'Random Forest': grid_search_rf.best_params_,\n",
        "    'Logistic Regression': grid_search_lr.best_params_\n",
        "}"
      ]
    },
    {
      "cell_type": "code",
      "execution_count": null,
      "id": "a6a320cd",
      "metadata": {
        "id": "a6a320cd"
      },
      "outputs": [],
      "source": [
        "cv_scores_tuned = {\n",
        "    'KNN': grid_search_knn.best_score_,\n",
        "    'Random Forest': grid_search_rf.best_score_,\n",
        "    'Logistic Regression': grid_search_lr.best_score_\n",
        "}"
      ]
    },
    {
      "cell_type": "code",
      "execution_count": null,
      "id": "d66b16cf",
      "metadata": {
        "id": "d66b16cf"
      },
      "outputs": [],
      "source": [
        "test_scores_tuned = {\n",
        "    'KNN': grid_search_knn.score(X_test, y_test),\n",
        "    'Random Forest': grid_search_rf.score(X_test, y_test),\n",
        "    'Logistic Regression': grid_search_lr.score(X_test, y_test)\n",
        "}"
      ]
    },
    {
      "cell_type": "code",
      "execution_count": null,
      "id": "1934e702",
      "metadata": {
        "id": "1934e702"
      },
      "outputs": [],
      "source": [
        "cv_scores_initial = {\n",
        "    'KNN': cross_val_score(knn_model.set_params(**initial_params['KNN']), X_train, y_train, cv=5).mean(),\n",
        "    'Random Forest': cross_val_score(rf_model.set_params(**initial_params['Random Forest']), X_train, y_train, cv=5).mean(),\n",
        "    'Logistic Regression': cross_val_score(lr_model.set_params(**initial_params['Logistic Regression']), X_train, y_train, cv=5).mean()\n",
        "}"
      ]
    },
    {
      "cell_type": "code",
      "execution_count": null,
      "id": "6651af33",
      "metadata": {
        "id": "6651af33"
      },
      "outputs": [],
      "source": [
        "test_scores_initial = {\n",
        "    'KNN': knn_model.set_params(**initial_params['KNN']).fit(X_train, y_train).score(X_test, y_test),\n",
        "    'Random Forest': rf_model.set_params(**initial_params['Random Forest']).fit(X_train, y_train).score(X_test, y_test),\n",
        "    'Logistic Regression': lr_model.set_params(**initial_params['Logistic Regression']).fit(X_train, y_train).score(X_test, y_test)\n",
        "}"
      ]
    },
    {
      "cell_type": "code",
      "execution_count": null,
      "id": "b05e3e48",
      "metadata": {
        "id": "b05e3e48",
        "outputId": "5f1197b9-4823-4543-915f-bd995df461e2"
      },
      "outputs": [
        {
          "name": "stdout",
          "output_type": "stream",
          "text": [
            "                 Model         Initial Params  \\\n",
            "0                  KNN     {'n_neighbors': 5}   \n",
            "1        Random Forest  {'n_estimators': 100}   \n",
            "2  Logistic Regression     {'max_iter': 1000}   \n",
            "\n",
            "                                    Tuned Params  CV Accuracy (Initial)  \\\n",
            "0                             {'n_neighbors': 7}               0.947038   \n",
            "1  {'max_features': 'auto', 'n_estimators': 100}               0.954100   \n",
            "2                                      {'C': 10}               0.943412   \n",
            "\n",
            "   CV Accuracy (Tuned)  Test Accuracy (Initial)  Test Accuracy (Tuned)  \n",
            "0             0.951875                  0.95280                0.95440  \n",
            "1             0.954100                  0.95580                0.95580  \n",
            "2             0.943913                  0.94465                0.94465  \n"
          ]
        }
      ],
      "source": [
        "results = pd.DataFrame({\n",
        "    'Model': ['KNN', 'Random Forest', 'Logistic Regression'],\n",
        "    'Initial Params': [initial_params['KNN'], initial_params['Random Forest'], initial_params['Logistic Regression']],\n",
        "    'Tuned Params': [best_params['KNN'], best_params['Random Forest'], best_params['Logistic Regression']],\n",
        "    'CV Accuracy (Initial)': [cv_scores_initial['KNN'], cv_scores_initial['Random Forest'], cv_scores_initial['Logistic Regression']],\n",
        "    'CV Accuracy (Tuned)': [cv_scores_tuned['KNN'], cv_scores_tuned['Random Forest'], cv_scores_tuned['Logistic Regression']],\n",
        "    'Test Accuracy (Initial)': [test_scores_initial['KNN'], test_scores_initial['Random Forest'], test_scores_initial['Logistic Regression']],\n",
        "    'Test Accuracy (Tuned)': [test_scores_tuned['KNN'], test_scores_tuned['Random Forest'], test_scores_tuned['Logistic Regression']]\n",
        "})\n",
        "\n",
        "print(results)"
      ]
    },
    {
      "cell_type": "markdown",
      "id": "94d1805e",
      "metadata": {
        "id": "94d1805e"
      },
      "source": [
        "# Задание 4"
      ]
    },
    {
      "cell_type": "code",
      "execution_count": null,
      "id": "bad8e2ff",
      "metadata": {
        "id": "bad8e2ff"
      },
      "outputs": [],
      "source": [
        "from sklearn.metrics import make_scorer, f1_score"
      ]
    },
    {
      "cell_type": "code",
      "execution_count": null,
      "id": "977f8c3f",
      "metadata": {
        "id": "977f8c3f"
      },
      "outputs": [],
      "source": [
        "param_grid_knn = {'n_neighbors': [3, 5, 7]}\n",
        "param_grid_rf = {'n_estimators': [100, 200, 300], 'max_features': ['auto', 'sqrt', 'log2']}\n",
        "param_grid_lr = {'C': [0.1, 1, 10]}\n",
        "\n",
        "f1_scorer = make_scorer(f1_score)"
      ]
    },
    {
      "cell_type": "code",
      "execution_count": null,
      "id": "f6396dbe",
      "metadata": {
        "id": "f6396dbe"
      },
      "outputs": [],
      "source": [
        "knn_model = KNeighborsClassifier()\n",
        "rf_model = RandomForestClassifier(random_state=42)\n",
        "lr_model = LogisticRegression(max_iter=1000, random_state=42)"
      ]
    },
    {
      "cell_type": "code",
      "execution_count": null,
      "id": "e24670f2",
      "metadata": {
        "id": "e24670f2",
        "outputId": "6b93cb73-e82d-4151-dd3f-2521c4ab037b"
      },
      "outputs": [
        {
          "data": {
            "text/plain": [
              "GridSearchCV(cv=5, estimator=LogisticRegression(max_iter=1000, random_state=42),\n",
              "             param_grid={'C': [0.1, 1, 10]}, scoring=make_scorer(f1_score))"
            ]
          },
          "execution_count": 89,
          "metadata": {},
          "output_type": "execute_result"
        }
      ],
      "source": [
        "grid_search_knn_f1 = GridSearchCV(knn_model, param_grid_knn, cv=5, scoring=f1_scorer)\n",
        "grid_search_knn_f1.fit(X_train, y_train)\n",
        "\n",
        "grid_search_rf_f1 = GridSearchCV(rf_model, param_grid_rf, cv=5, scoring=f1_scorer)\n",
        "grid_search_rf_f1.fit(X_train, y_train)\n",
        "\n",
        "grid_search_lr_f1 = GridSearchCV(lr_model, param_grid_lr, cv=5, scoring=f1_scorer)\n",
        "grid_search_lr_f1.fit(X_train, y_train)"
      ]
    },
    {
      "cell_type": "code",
      "execution_count": null,
      "id": "96a36946",
      "metadata": {
        "id": "96a36946"
      },
      "outputs": [],
      "source": [
        "best_params_f1 = {\n",
        "    'KNN': grid_search_knn_f1.best_params_,\n",
        "    'Random Forest': grid_search_rf_f1.best_params_,\n",
        "    'Logistic Regression': grid_search_lr_f1.best_params_\n",
        "}"
      ]
    },
    {
      "cell_type": "code",
      "execution_count": null,
      "id": "474d73bc",
      "metadata": {
        "id": "474d73bc"
      },
      "outputs": [],
      "source": [
        "cv_scores_tuned_f1 = {\n",
        "    'KNN': grid_search_knn_f1.best_score_,\n",
        "    'Random Forest': grid_search_rf_f1.best_score_,\n",
        "    'Logistic Regression': grid_search_lr_f1.best_score_\n",
        "}"
      ]
    },
    {
      "cell_type": "code",
      "execution_count": null,
      "id": "dd63a2a9",
      "metadata": {
        "id": "dd63a2a9"
      },
      "outputs": [],
      "source": [
        "test_scores_tuned_f1 = {\n",
        "    'KNN': f1_score(y_test, grid_search_knn_f1.predict(X_test)),\n",
        "    'Random Forest': f1_score(y_test, grid_search_rf_f1.predict(X_test)),\n",
        "    'Logistic Regression': f1_score(y_test, grid_search_lr_f1.predict(X_test))\n",
        "}"
      ]
    },
    {
      "cell_type": "code",
      "execution_count": null,
      "id": "4b883fb7",
      "metadata": {
        "id": "4b883fb7"
      },
      "outputs": [],
      "source": [
        "cv_scores_initial_f1 = {\n",
        "    'KNN': cross_val_score(knn_model.set_params(**initial_params['KNN']), X_train, y_train, cv=5, scoring=f1_scorer).mean(),\n",
        "    'Random Forest': cross_val_score(rf_model.set_params(**initial_params['Random Forest']), X_train, y_train, cv=5, scoring=f1_scorer).mean(),\n",
        "    'Logistic Regression': cross_val_score(lr_model.set_params(**initial_params['Logistic Regression']), X_train, y_train, cv=5, scoring=f1_scorer).mean()\n",
        "}"
      ]
    },
    {
      "cell_type": "code",
      "execution_count": null,
      "id": "e518c26d",
      "metadata": {
        "id": "e518c26d"
      },
      "outputs": [],
      "source": [
        "test_scores_initial_f1 = {\n",
        "    'KNN': f1_score(y_test, knn_model.set_params(**initial_params['KNN']).fit(X_train, y_train).predict(X_test)),\n",
        "    'Random Forest': f1_score(y_test, rf_model.set_params(**initial_params['Random Forest']).fit(X_train, y_train).predict(X_test)),\n",
        "    'Logistic Regression': f1_score(y_test, lr_model.set_params(**initial_params['Logistic Regression']).fit(X_train, y_train).predict(X_test))\n",
        "}"
      ]
    },
    {
      "cell_type": "code",
      "execution_count": null,
      "id": "86e24e32",
      "metadata": {
        "id": "86e24e32",
        "outputId": "b2774daa-4346-45b8-cac5-87b2ebc87529"
      },
      "outputs": [
        {
          "name": "stdout",
          "output_type": "stream",
          "text": [
            "                 Model         Initial Params  \\\n",
            "0                  KNN     {'n_neighbors': 5}   \n",
            "1        Random Forest  {'n_estimators': 100}   \n",
            "2  Logistic Regression     {'max_iter': 1000}   \n",
            "\n",
            "                                    Tuned Params  CV F1 Score (Initial)  \\\n",
            "0                             {'n_neighbors': 7}               0.964381   \n",
            "1  {'max_features': 'auto', 'n_estimators': 100}               0.969532   \n",
            "2                                      {'C': 10}               0.961454   \n",
            "\n",
            "   CV F1 Score (Tuned)  Test F1 Score (Initial)  Test F1 Score (Tuned)  \n",
            "0             0.967840                 0.968783               0.969763  \n",
            "1             0.969532                 0.970643               0.970643  \n",
            "2             0.961880                 0.962171               0.962171  \n"
          ]
        }
      ],
      "source": [
        "results_f1 = pd.DataFrame({\n",
        "    'Model': ['KNN', 'Random Forest', 'Logistic Regression'],\n",
        "    'Initial Params': [initial_params['KNN'], initial_params['Random Forest'], initial_params['Logistic Regression']],\n",
        "    'Tuned Params': [best_params_f1['KNN'], best_params_f1['Random Forest'], best_params_f1['Logistic Regression']],\n",
        "    'CV F1 Score (Initial)': [cv_scores_initial_f1['KNN'], cv_scores_initial_f1['Random Forest'], cv_scores_initial_f1['Logistic Regression']],\n",
        "    'CV F1 Score (Tuned)': [cv_scores_tuned_f1['KNN'], cv_scores_tuned_f1['Random Forest'], cv_scores_tuned_f1['Logistic Regression']],\n",
        "    'Test F1 Score (Initial)': [test_scores_initial_f1['KNN'], test_scores_initial_f1['Random Forest'], test_scores_initial_f1['Logistic Regression']],\n",
        "    'Test F1 Score (Tuned)': [test_scores_tuned_f1['KNN'], test_scores_tuned_f1['Random Forest'], test_scores_tuned_f1['Logistic Regression']]\n",
        "})\n",
        "\n",
        "print(results_f1)"
      ]
    },
    {
      "cell_type": "markdown",
      "id": "9ec08d6f",
      "metadata": {
        "id": "9ec08d6f"
      },
      "source": [
        "# Задание 5"
      ]
    },
    {
      "cell_type": "code",
      "execution_count": null,
      "id": "bb56988b",
      "metadata": {
        "id": "bb56988b"
      },
      "outputs": [],
      "source": [
        "from sklearn.metrics import roc_curve, roc_auc_score\n",
        "import matplotlib.pyplot as plt"
      ]
    },
    {
      "cell_type": "code",
      "execution_count": null,
      "id": "48bd0006",
      "metadata": {
        "id": "48bd0006",
        "outputId": "96c430d7-1a58-47ca-b9ce-70d7a1bd90d7"
      },
      "outputs": [
        {
          "data": {
            "image/png": "[encoded data removed]",
            "text/plain": [
              "<Figure size 432x288 with 1 Axes>"
            ]
          },
          "metadata": {
            "needs_background": "light"
          },
          "output_type": "display_data"
        }
      ],
      "source": [
        "# ROC кривые для каждой из моделей\n",
        "for name, model in models.items():\n",
        "        y_proba = model.predict_proba(X_test)[:, 1]\n",
        "        fpr, tpr, _ = roc_curve(y_test, y_proba)\n",
        "        auc_score = roc_auc_score(y_test, y_proba)\n",
        "        plt.plot(fpr, tpr, label=f'{name} (AUC = {auc_score:.2f})')\n",
        "\n",
        "plt.plot([0, 1], [0, 1], 'k--', label='Random')\n",
        "plt.xlabel('False Positive Rate')\n",
        "plt.ylabel('True Positive Rate')\n",
        "plt.title('ROC Curve')\n",
        "plt.legend()\n",
        "plt.show()"
      ]
    },
    {
      "cell_type": "markdown",
      "id": "fd77f78f",
      "metadata": {
        "id": "fd77f78f"
      },
      "source": [
        "# Задание 6"
      ]
    },
    {
      "cell_type": "code",
      "execution_count": null,
      "id": "eaeaf566",
      "metadata": {
        "id": "eaeaf566"
      },
      "outputs": [],
      "source": [
        "from sklearn.metrics import confusion_matrix"
      ]
    },
    {
      "cell_type": "code",
      "execution_count": null,
      "id": "1c14a8f2",
      "metadata": {
        "id": "1c14a8f2"
      },
      "outputs": [],
      "source": [
        "# Функция для оценки прибыли\n",
        "def calculate_profit(y_true, y_pred, cost_fn, cost_fp):\n",
        "    cm = confusion_matrix(y_true, y_pred)\n",
        "    tn, fp, fn, tp = cm.ravel()\n",
        "    profit = tp * cost_tp - fn * cost_fn - fp * cost_fp\n",
        "    return profit"
      ]
    },
    {
      "cell_type": "code",
      "execution_count": null,
      "id": "8032622c",
      "metadata": {
        "id": "8032622c",
        "outputId": "2528f167-2b7c-4d91-d76b-83f9e21c94a7"
      },
      "outputs": [
        {
          "name": "stdout",
          "output_type": "stream",
          "text": [
            "Оптимальные пороги и прибыли:\n",
            "{'KNN': (0.30000000000000004, 9794), 'Random Forest': (0.2, 9794), 'Logistic Regression': (0.30000000000000004, 9816)}\n"
          ]
        }
      ],
      "source": [
        "thresholds = np.arange(0.0, 1.1, 0.1)\n",
        "cost_tp, cost_fn, cost_fp = 1, 10, 5\n",
        "\n",
        "profits = {}\n",
        "\n",
        "for name, model in models.items():\n",
        "    y_proba = model.predict_proba(X_test)[:, 1]\n",
        "    best_profit = -np.inf\n",
        "    best_threshold = 0\n",
        "\n",
        "    for threshold in thresholds:\n",
        "        y_pred = (y_proba >= threshold).astype(int)\n",
        "        profit = calculate_profit(y_test, y_pred, cost_fn, cost_fp)\n",
        "\n",
        "        if profit > best_profit:\n",
        "            best_profit = profit\n",
        "            best_threshold = threshold\n",
        "\n",
        "    profits[name] = (best_threshold, best_profit)\n",
        "\n",
        "print(\"Оптимальные пороги и прибыли:\")\n",
        "print(profits)"
      ]
    },
    {
      "cell_type": "markdown",
      "id": "52f6f6bc",
      "metadata": {
        "id": "52f6f6bc"
      },
      "source": [
        "# Задание 7"
      ]
    },
    {
      "cell_type": "code",
      "execution_count": null,
      "id": "bbe31bb3",
      "metadata": {
        "id": "bbe31bb3",
        "outputId": "6fb96434-9511-4fe4-b562-ceb33b344a0d"
      },
      "outputs": [
        {
          "name": "stdout",
          "output_type": "stream",
          "text": [
            "zsh:1: command not found: python.exe\n",
            "Requirement already satisfied: numpy in /Users/makar_briginskiy/opt/anaconda3/lib/python3.9/site-packages (1.26.4)\n",
            "Requirement already satisfied: pandas in /Users/makar_briginskiy/opt/anaconda3/lib/python3.9/site-packages (1.3.4)\n",
            "Requirement already satisfied: python-dateutil>=2.7.3 in /Users/makar_briginskiy/opt/anaconda3/lib/python3.9/site-packages (from pandas) (2.8.2)\n",
            "Requirement already satisfied: pytz>=2017.3 in /Users/makar_briginskiy/opt/anaconda3/lib/python3.9/site-packages (from pandas) (2021.3)\n",
            "Requirement already satisfied: numpy>=1.17.3 in /Users/makar_briginskiy/opt/anaconda3/lib/python3.9/site-packages (from pandas) (1.26.4)\n",
            "Requirement already satisfied: six>=1.5 in /Users/makar_briginskiy/opt/anaconda3/lib/python3.9/site-packages (from python-dateutil>=2.7.3->pandas) (1.16.0)\n",
            "Requirement already satisfied: scikit-learn in /Users/makar_briginskiy/opt/anaconda3/lib/python3.9/site-packages (1.5.0)\n",
            "Requirement already satisfied: joblib>=1.2.0 in /Users/makar_briginskiy/opt/anaconda3/lib/python3.9/site-packages (from scikit-learn) (1.4.2)\n",
            "Requirement already satisfied: numpy>=1.19.5 in /Users/makar_briginskiy/opt/anaconda3/lib/python3.9/site-packages (from scikit-learn) (1.26.4)\n",
            "Requirement already satisfied: threadpoolctl>=3.1.0 in /Users/makar_briginskiy/opt/anaconda3/lib/python3.9/site-packages (from scikit-learn) (3.5.0)\n",
            "Requirement already satisfied: scipy>=1.6.0 in /Users/makar_briginskiy/opt/anaconda3/lib/python3.9/site-packages (from scikit-learn) (1.13.1)\n",
            "Requirement already satisfied: openpyxl in /Users/makar_briginskiy/opt/anaconda3/lib/python3.9/site-packages (3.0.9)\n",
            "Requirement already satisfied: et-xmlfile in /Users/makar_briginskiy/opt/anaconda3/lib/python3.9/site-packages (from openpyxl) (1.1.0)\n",
            "Requirement already satisfied: doubleml in /Users/makar_briginskiy/opt/anaconda3/lib/python3.9/site-packages (0.8.0)\n",
            "Requirement already satisfied: plotly in /Users/makar_briginskiy/opt/anaconda3/lib/python3.9/site-packages (from doubleml) (5.22.0)\n",
            "Requirement already satisfied: scipy in /Users/makar_briginskiy/opt/anaconda3/lib/python3.9/site-packages (from doubleml) (1.13.1)\n",
            "Requirement already satisfied: scikit-learn in /Users/makar_briginskiy/opt/anaconda3/lib/python3.9/site-packages (from doubleml) (1.5.0)\n",
            "Requirement already satisfied: numpy in /Users/makar_briginskiy/opt/anaconda3/lib/python3.9/site-packages (from doubleml) (1.26.4)\n",
            "Requirement already satisfied: pandas in /Users/makar_briginskiy/opt/anaconda3/lib/python3.9/site-packages (from doubleml) (1.3.4)\n",
            "Requirement already satisfied: joblib in /Users/makar_briginskiy/opt/anaconda3/lib/python3.9/site-packages (from doubleml) (1.4.2)\n",
            "Requirement already satisfied: statsmodels in /Users/makar_briginskiy/opt/anaconda3/lib/python3.9/site-packages (from doubleml) (0.12.2)\n",
            "Requirement already satisfied: python-dateutil>=2.7.3 in /Users/makar_briginskiy/opt/anaconda3/lib/python3.9/site-packages (from pandas->doubleml) (2.8.2)\n",
            "Requirement already satisfied: pytz>=2017.3 in /Users/makar_briginskiy/opt/anaconda3/lib/python3.9/site-packages (from pandas->doubleml) (2021.3)\n",
            "Requirement already satisfied: six>=1.5 in /Users/makar_briginskiy/opt/anaconda3/lib/python3.9/site-packages (from python-dateutil>=2.7.3->pandas->doubleml) (1.16.0)\n",
            "Requirement already satisfied: tenacity>=6.2.0 in /Users/makar_briginskiy/opt/anaconda3/lib/python3.9/site-packages (from plotly->doubleml) (8.3.0)\n",
            "Requirement already satisfied: packaging in /Users/makar_briginskiy/opt/anaconda3/lib/python3.9/site-packages (from plotly->doubleml) (21.0)\n",
            "Requirement already satisfied: pyparsing>=2.0.2 in /Users/makar_briginskiy/opt/anaconda3/lib/python3.9/site-packages (from packaging->plotly->doubleml) (3.0.4)\n",
            "Requirement already satisfied: threadpoolctl>=3.1.0 in /Users/makar_briginskiy/opt/anaconda3/lib/python3.9/site-packages (from scikit-learn->doubleml) (3.5.0)\n",
            "Requirement already satisfied: patsy>=0.5 in /Users/makar_briginskiy/opt/anaconda3/lib/python3.9/site-packages (from statsmodels->doubleml) (0.5.2)\n",
            "Requirement already satisfied: pgmpy in /Users/makar_briginskiy/opt/anaconda3/lib/python3.9/site-packages (0.1.25)\n",
            "Requirement already satisfied: tqdm in /Users/makar_briginskiy/opt/anaconda3/lib/python3.9/site-packages (from pgmpy) (4.62.3)\n",
            "Requirement already satisfied: numpy in /Users/makar_briginskiy/opt/anaconda3/lib/python3.9/site-packages (from pgmpy) (1.26.4)\n",
            "Requirement already satisfied: pyparsing in /Users/makar_briginskiy/opt/anaconda3/lib/python3.9/site-packages (from pgmpy) (3.0.4)\n",
            "Requirement already satisfied: pandas in /Users/makar_briginskiy/opt/anaconda3/lib/python3.9/site-packages (from pgmpy) (1.3.4)\n",
            "Requirement already satisfied: statsmodels in /Users/makar_briginskiy/opt/anaconda3/lib/python3.9/site-packages (from pgmpy) (0.12.2)\n",
            "Requirement already satisfied: scipy in /Users/makar_briginskiy/opt/anaconda3/lib/python3.9/site-packages (from pgmpy) (1.13.1)\n",
            "Requirement already satisfied: scikit-learn in /Users/makar_briginskiy/opt/anaconda3/lib/python3.9/site-packages (from pgmpy) (1.5.0)\n",
            "Requirement already satisfied: networkx in /Users/makar_briginskiy/opt/anaconda3/lib/python3.9/site-packages (from pgmpy) (3.2.1)\n",
            "Requirement already satisfied: joblib in /Users/makar_briginskiy/opt/anaconda3/lib/python3.9/site-packages (from pgmpy) (1.4.2)\n",
            "Requirement already satisfied: torch in /Users/makar_briginskiy/opt/anaconda3/lib/python3.9/site-packages (from pgmpy) (2.2.2)\n",
            "Requirement already satisfied: opt-einsum in /Users/makar_briginskiy/opt/anaconda3/lib/python3.9/site-packages (from pgmpy) (3.3.0)\n",
            "Requirement already satisfied: python-dateutil>=2.7.3 in /Users/makar_briginskiy/opt/anaconda3/lib/python3.9/site-packages (from pandas->pgmpy) (2.8.2)\n",
            "Requirement already satisfied: pytz>=2017.3 in /Users/makar_briginskiy/opt/anaconda3/lib/python3.9/site-packages (from pandas->pgmpy) (2021.3)\n",
            "Requirement already satisfied: six>=1.5 in /Users/makar_briginskiy/opt/anaconda3/lib/python3.9/site-packages (from python-dateutil>=2.7.3->pandas->pgmpy) (1.16.0)\n",
            "Requirement already satisfied: threadpoolctl>=3.1.0 in /Users/makar_briginskiy/opt/anaconda3/lib/python3.9/site-packages (from scikit-learn->pgmpy) (3.5.0)\n",
            "Requirement already satisfied: patsy>=0.5 in /Users/makar_briginskiy/opt/anaconda3/lib/python3.9/site-packages (from statsmodels->pgmpy) (0.5.2)\n",
            "Requirement already satisfied: fsspec in /Users/makar_briginskiy/opt/anaconda3/lib/python3.9/site-packages (from torch->pgmpy) (2021.8.1)\n",
            "Requirement already satisfied: filelock in /Users/makar_briginskiy/opt/anaconda3/lib/python3.9/site-packages (from torch->pgmpy) (3.3.1)\n",
            "Requirement already satisfied: jinja2 in /Users/makar_briginskiy/opt/anaconda3/lib/python3.9/site-packages (from torch->pgmpy) (2.11.3)\n",
            "Requirement already satisfied: typing-extensions>=4.8.0 in /Users/makar_briginskiy/opt/anaconda3/lib/python3.9/site-packages (from torch->pgmpy) (4.12.2)\n",
            "Requirement already satisfied: sympy in /Users/makar_briginskiy/opt/anaconda3/lib/python3.9/site-packages (from torch->pgmpy) (1.9)\n",
            "Requirement already satisfied: MarkupSafe>=0.23 in /Users/makar_briginskiy/opt/anaconda3/lib/python3.9/site-packages (from jinja2->torch->pgmpy) (1.1.1)\n",
            "Requirement already satisfied: mpmath>=0.19 in /Users/makar_briginskiy/opt/anaconda3/lib/python3.9/site-packages (from sympy->torch->pgmpy) (1.2.1)\n",
            "Requirement already satisfied: networkx in /Users/makar_briginskiy/opt/anaconda3/lib/python3.9/site-packages (3.2.1)\n",
            "Requirement already satisfied: matplotlib in /Users/makar_briginskiy/opt/anaconda3/lib/python3.9/site-packages (3.4.3)\n",
            "Requirement already satisfied: python-dateutil>=2.7 in /Users/makar_briginskiy/opt/anaconda3/lib/python3.9/site-packages (from matplotlib) (2.8.2)\n",
            "Requirement already satisfied: pyparsing>=2.2.1 in /Users/makar_briginskiy/opt/anaconda3/lib/python3.9/site-packages (from matplotlib) (3.0.4)\n",
            "Requirement already satisfied: kiwisolver>=1.0.1 in /Users/makar_briginskiy/opt/anaconda3/lib/python3.9/site-packages (from matplotlib) (1.3.1)\n",
            "Requirement already satisfied: cycler>=0.10 in /Users/makar_briginskiy/opt/anaconda3/lib/python3.9/site-packages (from matplotlib) (0.10.0)\n",
            "Requirement already satisfied: numpy>=1.16 in /Users/makar_briginskiy/opt/anaconda3/lib/python3.9/site-packages (from matplotlib) (1.26.4)\n"
          ]
        },
        {
          "name": "stdout",
          "output_type": "stream",
          "text": [
            "Requirement already satisfied: pillow>=6.2.0 in /Users/makar_briginskiy/opt/anaconda3/lib/python3.9/site-packages (from matplotlib) (8.4.0)\r\n",
            "Requirement already satisfied: six in /Users/makar_briginskiy/opt/anaconda3/lib/python3.9/site-packages (from cycler>=0.10->matplotlib) (1.16.0)\r\n"
          ]
        }
      ],
      "source": [
        "!python.exe -m pip install --upgrade pip\n",
        "!pip install numpy\n",
        "!pip install pandas\n",
        "!pip install scikit-learn\n",
        "!pip install openpyxl\n",
        "!pip install doubleml\n",
        "!pip install pgmpy\n",
        "!pip install networkx\n",
        "!pip install matplotlib"
      ]
    },
    {
      "cell_type": "markdown",
      "id": "085e4349",
      "metadata": {
        "id": "085e4349"
      },
      "source": [
        "# Задание 8"
      ]
    },
    {
      "cell_type": "code",
      "execution_count": null,
      "id": "781d9cdb",
      "metadata": {
        "id": "781d9cdb"
      },
      "outputs": [],
      "source": []
    },
    {
      "cell_type": "code",
      "execution_count": null,
      "id": "7c1c2976",
      "metadata": {
        "id": "7c1c2976"
      },
      "outputs": [],
      "source": []
    },
    {
      "cell_type": "code",
      "execution_count": null,
      "id": "e67be4d3",
      "metadata": {
        "id": "e67be4d3"
      },
      "outputs": [],
      "source": []
    }
  ],
  "metadata": {
    "kernelspec": {
      "display_name": "Python 3 (ipykernel)",
      "language": "python",
      "name": "python3"
    },
    "language_info": {
      "codemirror_mode": {
        "name": "ipython",
        "version": 3
      },
      "file_extension": ".py",
      "mimetype": "text/x-python",
      "name": "python",
      "nbconvert_exporter": "python",
      "pygments_lexer": "ipython3",
      "version": "3.9.7"
    },
    "colab": {
      "provenance": []
    }
  },
  "nbformat": 4,
  "nbformat_minor": 5
}